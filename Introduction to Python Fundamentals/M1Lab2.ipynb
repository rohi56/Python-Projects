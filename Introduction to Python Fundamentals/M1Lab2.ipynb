{
  "nbformat": 4,
  "nbformat_minor": 0,
  "metadata": {
    "colab": {
      "provenance": []
    },
    "kernelspec": {
      "name": "python3",
      "display_name": "Python 3"
    },
    "language_info": {
      "name": "python"
    }
  },
  "cells": [
    {
      "cell_type": "markdown",
      "metadata": {
        "id": "cnAUJprJdh9_"
      },
      "source": [
        "# Welcome to our Lab Practice!"
      ]
    },
    {
      "cell_type": "markdown",
      "metadata": {
        "id": "vVYcayGedmms"
      },
      "source": [
        "This lab is all about **input()** and we are going to get all kinds of information from the user (you) and print the respnose on the screen. Are you ready? Let's get started!"
      ]
    },
    {
      "cell_type": "markdown",
      "metadata": {
        "id": "JP8eGBVyeSQx"
      },
      "source": [
        "You will find some small tasks in sections below. You should use input() to get the user to enter the information and use print() to print the information on the screen."
      ]
    },
    {
      "cell_type": "markdown",
      "metadata": {
        "id": "TNbXeCDFeAcJ"
      },
      "source": [
        "## Ask for names"
      ]
    },
    {
      "cell_type": "markdown",
      "metadata": {
        "id": "EZ42d1Sue0Zp"
      },
      "source": [
        "###Task: Ask **\"What's your name?\"** and print the input on the screen"
      ]
    },
    {
      "cell_type": "code",
      "metadata": {
        "id": "yDzNIHsSeu85",
        "colab": {
          "base_uri": "https://localhost:8080/"
        },
        "outputId": "06d699fc-9490-400b-d823-d9c63f6dcfec"
      },
      "source": [
        "# type your code here\n",
        "print(input(\"What's your name?\"))"
      ],
      "execution_count": 1,
      "outputs": [
        {
          "output_type": "stream",
          "name": "stdout",
          "text": [
            "What's your name?Rohit\n",
            "Rohit\n"
          ]
        }
      ]
    },
    {
      "cell_type": "markdown",
      "metadata": {
        "id": "-__o8ovbfSEH"
      },
      "source": [
        "###Task: Ask **\"How do you feel so far? Enter 1 for Good; 2 for very good.\"** and print the input on the screen"
      ]
    },
    {
      "cell_type": "code",
      "metadata": {
        "id": "hOpxhSKog18Y",
        "colab": {
          "base_uri": "https://localhost:8080/"
        },
        "outputId": "4532af9e-c03d-49cf-e4c1-2333627dff35"
      },
      "source": [
        "# your code will be here\n",
        "print(input(\"How do you feel so far? Enter 1 for Good; 2 for very good.\"))"
      ],
      "execution_count": 2,
      "outputs": [
        {
          "output_type": "stream",
          "name": "stdout",
          "text": [
            "How do you feel so far? Enter 1 for Good; 2 for very good.Very Good\n",
            "Very Good\n"
          ]
        }
      ]
    },
    {
      "cell_type": "markdown",
      "metadata": {
        "id": "NpCNxK68gpME"
      },
      "source": [
        "###Task: Ask **\"Are you ready to learn more? Enter Yes or No.\"** and print the input on the screen"
      ]
    },
    {
      "cell_type": "code",
      "metadata": {
        "id": "txg-7uKfgKeW",
        "colab": {
          "base_uri": "https://localhost:8080/"
        },
        "outputId": "02fa450e-d832-4355-d60f-69c34db74b37"
      },
      "source": [
        "# your code will be here\n",
        "print(input(\"Are you ready to learn more? Enter Yes or No.\"))"
      ],
      "execution_count": 3,
      "outputs": [
        {
          "output_type": "stream",
          "name": "stdout",
          "text": [
            "Are you ready to learn more? Enter Yes or No.Yes\n",
            "Yes\n"
          ]
        }
      ]
    },
    {
      "cell_type": "markdown",
      "metadata": {
        "id": "D8pWdoN7d6Dy"
      },
      "source": [
        "## Ask for numbers"
      ]
    },
    {
      "cell_type": "markdown",
      "metadata": {
        "id": "rXgbUIBRgQoG"
      },
      "source": [
        "###Task: Ask **\"How old are you?\"** and print the input on the screen"
      ]
    },
    {
      "cell_type": "code",
      "metadata": {
        "id": "oIKwmW2mfe3d",
        "colab": {
          "base_uri": "https://localhost:8080/"
        },
        "outputId": "cf6d67f2-e15b-4759-ef01-88cb89728bca"
      },
      "source": [
        "# your code will be here\n",
        "print(input(\"How old are you?\"))"
      ],
      "execution_count": 5,
      "outputs": [
        {
          "output_type": "stream",
          "name": "stdout",
          "text": [
            "How old are you?33\n",
            "33\n"
          ]
        }
      ]
    },
    {
      "cell_type": "markdown",
      "metadata": {
        "id": "QPoCScdkheK3"
      },
      "source": [
        "###Task: Ask **\"Which number is your lucky number?\"** and print the input on the screen"
      ]
    },
    {
      "cell_type": "code",
      "metadata": {
        "id": "tsFowDAKhJCB",
        "colab": {
          "base_uri": "https://localhost:8080/"
        },
        "outputId": "25c17774-9551-4737-c763-cc5c622e6c1a"
      },
      "source": [
        "# your code will be here\n",
        "print(input(\"Which number is your lucky number?\"))"
      ],
      "execution_count": 6,
      "outputs": [
        {
          "output_type": "stream",
          "name": "stdout",
          "text": [
            "Which number is your lucky number?56\n",
            "56\n"
          ]
        }
      ]
    },
    {
      "cell_type": "markdown",
      "metadata": {
        "id": "TE6Df1WYhu10"
      },
      "source": [
        "###Task: Ask **\"What date is today? yyyymmdd\"** and print the input on the screen"
      ]
    },
    {
      "cell_type": "code",
      "metadata": {
        "id": "MSjQbhNXhJVV",
        "colab": {
          "base_uri": "https://localhost:8080/"
        },
        "outputId": "0a818641-3fb9-4c21-b464-0ac6bd2b15b3"
      },
      "source": [
        "# your code will be here\n",
        "print(input(\"What date is today? yyyymmdd\"))"
      ],
      "execution_count": 7,
      "outputs": [
        {
          "output_type": "stream",
          "name": "stdout",
          "text": [
            "What date is today? yyyymmdd19920615\n",
            "19920615\n"
          ]
        }
      ]
    }
  ]
}