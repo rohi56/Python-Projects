{
  "nbformat": 4,
  "nbformat_minor": 0,
  "metadata": {
    "colab": {
      "provenance": []
    },
    "kernelspec": {
      "name": "python3",
      "display_name": "Python 3"
    },
    "language_info": {
      "name": "python"
    }
  },
  "cells": [
    {
      "cell_type": "markdown",
      "source": [
        "# Game 1\n",
        "\n",
        "We all played the game \"Rock Paper Scissor\".\n",
        "*  Rock wins Scissor\n",
        "*  Scissor wins Paper\n",
        "*  Paper wins Rock\n",
        "Let's write a program to simulate the game..\n",
        "*  We import random\n",
        "*  Call the random to produce an integer value in [0, 1, 2] for Player A\n",
        "*  Call the random again to produce an integer value in [0, 1, 2] for Player B\n",
        "*  *  0 represents Rock, 1 represents Paper, and 2 represents Scissors\n",
        "*  We print out who is the winner.\n",
        "\n",
        "Let's do it."
      ],
      "metadata": {
        "id": "ysARIqqZwxU5"
      }
    },
    {
      "cell_type": "code",
      "execution_count": 1,
      "metadata": {
        "id": "h_opLfCBwkJn"
      },
      "outputs": [],
      "source": [
        "import random"
      ]
    },
    {
      "cell_type": "code",
      "source": [
        "def result():\n",
        "  return random.randint(0, 2)"
      ],
      "metadata": {
        "id": "0xlJcP9W278G"
      },
      "execution_count": 2,
      "outputs": []
    },
    {
      "cell_type": "code",
      "source": [
        "def game():\n",
        "  a = result()\n",
        "  b = result()\n",
        "  # 0 represents Rock, 1 represents Paper, 2 represents Scissor\n",
        "  if a == b:\n",
        "    print(\"Tie\")\n",
        "  elif a == 0 and b == 2:\n",
        "    print(\"A is Rock and B is Scissor, A Won\")\n",
        "  elif a == 2 and b == 0:\n",
        "    print(\"A is Scissor and B is Rock, B Won\")\n",
        "  elif a == 0 and b == 1:\n",
        "    print(\"A is Rock and B is Paper, B Won\")\n",
        "  elif a == 1 and b == 0:\n",
        "    print(\"A is Paper and B is Rock, A Won\")\n",
        "  elif a == 1 and b == 2:\n",
        "    print(\"A is Paper and B is Scissor, B Won\")\n",
        "  else:\n",
        "    print(\"A is Scissor and B is Paper, A Won\")"
      ],
      "metadata": {
        "id": "Wrp69aNW2-TG"
      },
      "execution_count": 3,
      "outputs": []
    },
    {
      "cell_type": "code",
      "source": [
        "game()"
      ],
      "metadata": {
        "colab": {
          "base_uri": "https://localhost:8080/"
        },
        "id": "r5A79Bp74EK4",
        "outputId": "596de9dc-f73d-4cb9-a16c-bd360a778f3a"
      },
      "execution_count": 4,
      "outputs": [
        {
          "output_type": "stream",
          "name": "stdout",
          "text": [
            "Tie\n"
          ]
        }
      ]
    },
    {
      "cell_type": "markdown",
      "source": [
        "## Can you use the functions defined above, to simulate a three-round \"Rock Paper Scissor\"? The player wins 2 out of 3 wins the game."
      ],
      "metadata": {
        "id": "rmfXoIEaxRub"
      }
    },
    {
      "cell_type": "code",
      "source": [
        "def game_count():\n",
        "  a = result()\n",
        "  b = result()\n",
        "  # 0 represents Rock, 1 represents Paper, 2 represents Scissor\n",
        "  if a == 0 and b == 2:\n",
        "    #print(\"A is Rock and B is Scissor, A Won\")\n",
        "    return 'A'\n",
        "  elif a == 2 and b == 0:\n",
        "    #print(\"A is Scissor and A is Rock, B Won\")\n",
        "    return 'B'\n",
        "  elif a == 0 and b == 1:\n",
        "    #print(\"A is Rock and B is Paper, B Won\")\n",
        "    return 'B'\n",
        "  elif a == 1 and b == 0:\n",
        "    #print(\"A is Paper and B is Rock, A Won\")\n",
        "    return 'A'\n",
        "  elif a == 1 and b == 2:\n",
        "    #print(\"A is Paper and B is Scissor, B Won\")\n",
        "    return 'B'\n",
        "  elif a == 2 and b == 1:\n",
        "    #print(\"A is Scissor and B is Paper, A Won\")\n",
        "    return 'A'\n",
        "  else:\n",
        "    return 'T'\n",
        "\n",
        "def multi_game(n):\n",
        "  a_win = 0\n",
        "  b_win = 0\n",
        "  for i in range(n):\n",
        "    result = game_count()\n",
        "    if result == 'A':\n",
        "      a_win += 1\n",
        "    elif result == 'B':\n",
        "      b_win += 1\n",
        "  print('A won:', a_win, \". B won:\", b_win)\n"
      ],
      "metadata": {
        "id": "ouD2LDvs3e0t"
      },
      "execution_count": 8,
      "outputs": []
    },
    {
      "cell_type": "code",
      "source": [
        "def game_count():\n",
        "    a = result()\n",
        "    b = result()\n",
        "    if a == 0 and b == 2 or a == 1 and b == 0 or a == 2 and b == 1:\n",
        "        return 'A'\n",
        "    elif a == b:\n",
        "        return 'T'\n",
        "    else:\n",
        "        return 'B'\n",
        "\n",
        "def multi_game(n):\n",
        "    a_win = 0\n",
        "    b_win = 0\n",
        "    for _ in range(n):\n",
        "        outcome = game_count()\n",
        "        if outcome == 'A':\n",
        "            a_win += 1\n",
        "        elif outcome == 'B':\n",
        "            b_win += 1\n",
        "    print(f'A won: {a_win} | B won: {b_win}')"
      ],
      "metadata": {
        "id": "los1jpMfLRvA"
      },
      "execution_count": 9,
      "outputs": []
    },
    {
      "cell_type": "code",
      "source": [
        "multi_game(3)"
      ],
      "metadata": {
        "colab": {
          "base_uri": "https://localhost:8080/"
        },
        "id": "m1OI_9y94LEy",
        "outputId": "25e515f3-66fc-4349-9181-91c36ef51d71"
      },
      "execution_count": 6,
      "outputs": [
        {
          "output_type": "stream",
          "name": "stdout",
          "text": [
            "A won: 3 | B won: 0\n"
          ]
        }
      ]
    },
    {
      "cell_type": "code",
      "source": [
        "multi_game(99)"
      ],
      "metadata": {
        "colab": {
          "base_uri": "https://localhost:8080/"
        },
        "id": "3ffp2QjA9pxE",
        "outputId": "35916d5f-8efb-4aac-975d-31cb788cdcf2"
      },
      "execution_count": null,
      "outputs": [
        {
          "output_type": "stream",
          "name": "stdout",
          "text": [
            "A won: 28 . B won: 40\n"
          ]
        }
      ]
    },
    {
      "cell_type": "code",
      "source": [
        "# Three-round RPS\n",
        "multi_game(3)"
      ],
      "metadata": {
        "id": "WvbZo4ecxiNS",
        "colab": {
          "base_uri": "https://localhost:8080/"
        },
        "outputId": "6941dd69-c6c2-4e4e-cda6-efd57f89aebd"
      },
      "execution_count": 19,
      "outputs": [
        {
          "output_type": "stream",
          "name": "stdout",
          "text": [
            "A won: 3 | B won: 0\n"
          ]
        }
      ]
    },
    {
      "cell_type": "code",
      "source": [
        "# 99-round RPS\n",
        "multi_game(99)"
      ],
      "metadata": {
        "id": "FtoZqb3dxlIC",
        "colab": {
          "base_uri": "https://localhost:8080/"
        },
        "outputId": "467a64fd-bd34-4922-cfaf-c73f95a73cb7"
      },
      "execution_count": 18,
      "outputs": [
        {
          "output_type": "stream",
          "name": "stdout",
          "text": [
            "A won: 33 | B won: 37\n"
          ]
        }
      ]
    },
    {
      "cell_type": "markdown",
      "source": [
        "# Game 2\n",
        "\n",
        "We all played the game \"flip a coin\". It can be either head-up, or tail-up.\n",
        "Let's write a program to simulate a flip.\n",
        "*  We import random\n",
        "*  Call the random to produce a float value in [0, 1]\n",
        "*  If the value is >=0.5, we say, the coin is head-up.\n",
        "*  Otherwise, we say, the coin is tail-up.\n",
        "\n",
        "Let's do it."
      ],
      "metadata": {
        "id": "jtzQj0Ofw-6e"
      }
    },
    {
      "cell_type": "code",
      "source": [
        "import random"
      ],
      "metadata": {
        "id": "_BWflD_b_U-w"
      },
      "execution_count": 10,
      "outputs": []
    },
    {
      "cell_type": "code",
      "source": [
        "def coin_flip():\n",
        "  if random.random() >= 0.5:\n",
        "    return 'head'\n",
        "  else:\n",
        "    return 'tail'"
      ],
      "metadata": {
        "id": "TfIIRTN_3xmb"
      },
      "execution_count": 11,
      "outputs": []
    },
    {
      "cell_type": "code",
      "source": [
        "print(coin_flip())"
      ],
      "metadata": {
        "colab": {
          "base_uri": "https://localhost:8080/"
        },
        "id": "C10VSnyO4axy",
        "outputId": "180319d1-694a-4385-8e22-d1fca6615da3"
      },
      "execution_count": 12,
      "outputs": [
        {
          "output_type": "stream",
          "name": "stdout",
          "text": [
            "tail\n"
          ]
        }
      ]
    },
    {
      "cell_type": "code",
      "source": [
        "# Coin flip"
      ],
      "metadata": {
        "id": "4JyprbBUxNb0"
      },
      "execution_count": null,
      "outputs": []
    },
    {
      "cell_type": "markdown",
      "source": [
        "## Can you use the functions defined above, to simulate a process of flipping a coin 100 times? 10000 times?\n",
        "*  Can you print out the basic statistics of the experiment, such as the percentage of heads, the percentage of tails in the number of flipping?\n",
        "*  A perfect coin should has the percentage of head as 50%. Is your result the same as it? If not, can you improve it?"
      ],
      "metadata": {
        "id": "X45LzcvSxp3z"
      }
    },
    {
      "cell_type": "code",
      "source": [
        "def multi_coin(n):\n",
        "  head = 0\n",
        "  tail = 0\n",
        "  for i in range(n):\n",
        "    result = coin_flip()\n",
        "    if result == 'head':\n",
        "      head += 1\n",
        "    else:\n",
        "      tail += 1\n",
        "  print('head:', head, \". tail:\", tail)\n"
      ],
      "metadata": {
        "id": "JH766OFHMVcp"
      },
      "execution_count": 16,
      "outputs": []
    },
    {
      "cell_type": "code",
      "source": [
        "multi_coin(100)"
      ],
      "metadata": {
        "colab": {
          "base_uri": "https://localhost:8080/"
        },
        "id": "Sy1b98iEMjbS",
        "outputId": "3774e8ab-1c95-4625-f806-fa5aea709f6a"
      },
      "execution_count": 17,
      "outputs": [
        {
          "output_type": "stream",
          "name": "stdout",
          "text": [
            "head: 51 . tail: 49\n"
          ]
        }
      ]
    }
  ]
}