{
  "nbformat": 4,
  "nbformat_minor": 0,
  "metadata": {
    "colab": {
      "provenance": [],
      "toc_visible": true
    },
    "kernelspec": {
      "name": "python3",
      "display_name": "Python 3"
    },
    "language_info": {
      "name": "python"
    }
  },
  "cells": [
    {
      "cell_type": "markdown",
      "metadata": {
        "id": "cnAUJprJdh9_"
      },
      "source": [
        "# Welcome to our second assignment!"
      ]
    },
    {
      "cell_type": "markdown",
      "metadata": {
        "id": "vVYcayGedmms"
      },
      "source": [
        "This assignment is about testing your understanding of variables and operations.\n",
        "\n",
        "We are going to create some simple programs using these tools. Are you ready? Let's get started!"
      ]
    },
    {
      "cell_type": "markdown",
      "metadata": {
        "id": "JP8eGBVyeSQx"
      },
      "source": [
        "You will find some small tasks in sections below. You should use input() to get the user to enter the information and use print() to print the information on the screen. At this moment, we can assume users will follow instructions carefully - they will enter the valid inputs as required."
      ]
    },
    {
      "cell_type": "markdown",
      "metadata": {
        "id": "TNbXeCDFeAcJ"
      },
      "source": [
        "## Simple check out\n",
        "\n",
        "###Instruction: You are going to program a super simple check-out system for a store. This store has an interesting rule that every customer can only buy one product (the quantity of the product is not limited) in one order.\n",
        "\n",
        "step1: Ask the user to enter the price / unit of the product (it should be a float)\n",
        "\n",
        "step2: Ask the user to enter the quantity of the product (it should be an integer)\n",
        "\n",
        "step3: We have a sales tax at 6.25%\n",
        "\n",
        "step4: Calculate and display the total amount of this order (for example, 59.25)\n",
        "\n",
        "step5: Ask the user to enter the amount of bills paid (for example, 60)\n",
        "\n",
        "step6: Calculate and display the change (for example, 0.75)"
      ]
    },
    {
      "cell_type": "code",
      "metadata": {
        "id": "x6IbZ6rFw76O",
        "colab": {
          "base_uri": "https://localhost:8080/"
        },
        "outputId": "dcb3ffa5-429b-40e4-f350-a017e9116a46"
      },
      "source": [
        "# your code is here\n",
        "#simple check-out system for a store\n",
        "price = float(input(\"Enter the price of the product:\"))\n",
        "quanity = int(input(\"Enter the quantity of the product:\"))\n",
        "before_tax = price * quanity\n",
        "print(f'Price of the product before tax: {before_tax}')\n",
        "total = before_tax + (before_tax * 0.0625)\n",
        "print(f'Price after tax:{total}')\n",
        "paid = float(input(\"Enter the amount of bills paid:\"))\n",
        "print(f'The amount given my the customer{paid}')\n",
        "change = paid - total\n",
        "print(f'Change provided by to the customer{change}')\n"
      ],
      "execution_count": 4,
      "outputs": [
        {
          "output_type": "stream",
          "name": "stdout",
          "text": [
            "Enter the price of the product:100\n",
            "Enter the quantity of the product:5\n",
            "Price of the product before tax500.0\n",
            "Price after tax:531.25\n",
            "Enter the amount of bills paid:540\n",
            "The amount given my the customer540.0\n",
            "Change provided by to the customer8.75\n"
          ]
        }
      ]
    },
    {
      "cell_type": "markdown",
      "metadata": {
        "id": "fZfiqg5lxFKF"
      },
      "source": [
        "## Tips Split\n",
        "\n",
        "###Instruction: You are going to program a super simple tip split system.\n",
        "\n",
        "step1: Ask the user to enter the total amount of meal before tax (it should be a float)\n",
        "\n",
        "step2: Ask the user to enter the number of people to split the tips (it should be an integer)\n",
        "\n",
        "step3: We have a sales tax at 6.25%, and we tip at 18%\n",
        "\n",
        "step4: Calculate and display the total amount due  (including tax and tips)\n",
        "\n",
        "step5: Calculate and display the amount each person should pay."
      ]
    },
    {
      "cell_type": "code",
      "metadata": {
        "id": "2bODNGPSx1-m",
        "colab": {
          "base_uri": "https://localhost:8080/"
        },
        "outputId": "62628b33-8d53-41c9-cca6-7949ef8de311"
      },
      "source": [
        "# your code is here\n",
        "meal = float(input(\"Enter the total amount of meal before tax:\"))\n",
        "people = int(input(\"Enter the number of people to split the tips:\"))\n",
        "total = meal + (meal * 0.0625) + (meal * 0.18)\n",
        "print(f'Total amount due:{total}')\n",
        "each_person = total / people\n",
        "print(f'Amount each person should pay:{each_person}')"
      ],
      "execution_count": 5,
      "outputs": [
        {
          "output_type": "stream",
          "name": "stdout",
          "text": [
            "Enter the total amount of meal before tax:500\n",
            "Enter the number of people to split the tips:5\n",
            "Total amount due:621.25\n",
            "Amount each person should pay:124.25\n"
          ]
        }
      ]
    },
    {
      "cell_type": "markdown",
      "metadata": {
        "id": "cZmW-HnwyHcI"
      },
      "source": [
        "## Compound Interest\n",
        "\n",
        "###Instruction: You are going to program a super simple Compound Interest calcualtor.\n",
        "\n",
        "step1: Ask the user to enter the amount saving right now (it should be a float)\n",
        "\n",
        "step2: Ask the user to enter the number of years(it should be an integer)\n",
        "\n",
        "step3: Ask the user to enter the interest rate (it should be a float number, and 0.03 represents 3%)\n",
        "\n",
        "step4: Calculate and display the total amount after these years"
      ]
    },
    {
      "cell_type": "code",
      "metadata": {
        "id": "wk6FHvAvyr_G",
        "colab": {
          "base_uri": "https://localhost:8080/"
        },
        "outputId": "a96359b8-2baf-4474-c983-0da0169722b3"
      },
      "source": [
        "# your code is here\n",
        "saving = float(input(\"Enter the amount saving right now:\"))\n",
        "years = int(input(\"Enter the number of years:\"))\n",
        "interest = float(input(\"Enter the interest rate:\"))\n",
        "total = saving * (1 + interest/100) ** years\n",
        "print(f'Total amount after these years:{total}')"
      ],
      "execution_count": 7,
      "outputs": [
        {
          "output_type": "stream",
          "name": "stdout",
          "text": [
            "Enter the amount saving right now:500\n",
            "Enter the number of years:3\n",
            "Enter the interest rate:5\n",
            "Total amount after these years:578.8125000000001\n"
          ]
        }
      ]
    },
    {
      "cell_type": "markdown",
      "metadata": {
        "id": "7Ysdu7UJ_qf8"
      },
      "source": [
        "**Congratulations! You finished this Assignment and completed Module 2!**"
      ]
    }
  ]
}