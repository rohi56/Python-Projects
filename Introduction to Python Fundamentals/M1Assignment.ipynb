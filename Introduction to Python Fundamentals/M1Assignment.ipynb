{
  "nbformat": 4,
  "nbformat_minor": 0,
  "metadata": {
    "colab": {
      "provenance": []
    },
    "kernelspec": {
      "name": "python3",
      "display_name": "Python 3"
    },
    "language_info": {
      "name": "python"
    }
  },
  "cells": [
    {
      "cell_type": "markdown",
      "metadata": {
        "id": "cnAUJprJdh9_"
      },
      "source": [
        "# Welcome to our first assignment!"
      ]
    },
    {
      "cell_type": "markdown",
      "metadata": {
        "id": "vVYcayGedmms"
      },
      "source": [
        "This assignment is about testing your understanding of **print()** and **input()**. We are going to create some interactive programs using these two simple tools. Are you ready? Let's get started!"
      ]
    },
    {
      "cell_type": "markdown",
      "metadata": {
        "id": "JP8eGBVyeSQx"
      },
      "source": [
        "You will find some small tasks in sections below. You should use input() to get the user to enter the information and use print() to print the information on the screen."
      ]
    },
    {
      "cell_type": "markdown",
      "metadata": {
        "id": "TNbXeCDFeAcJ"
      },
      "source": [
        "## Prepare a document"
      ]
    },
    {
      "cell_type": "markdown",
      "metadata": {
        "id": "EZ42d1Sue0Zp"
      },
      "source": [
        "###Instruction: You are going to print a document on the screen. The document is a template, which has {} as place holder and should get inputs from the user. Let's get it done step by step.\n",
        "\n",
        "You should use multiple input() to get the information from the user.\n",
        "\n",
        "The template is as below:\n",
        "\n",
        "Dear **{receiver's name}**:\n",
        "\n",
        "This is **{your first name}**. I'm writing to let you know that the weather in **{your location}** is fantastic!\n",
        "\n",
        "I'm taking Python for Data Science course. I have coded **{#}** programs and the expereince was fun! Join me if you are interested!\n",
        "\n",
        "Sincerely,\n",
        "\n",
        "**{your full name}**\n",
        "\n",
        "**{date}**"
      ]
    },
    {
      "cell_type": "markdown",
      "metadata": {
        "id": "DyQ1h_lc-GPr"
      },
      "source": [
        "Step1: Get receiver's name, and print line 1:\n",
        "\n",
        "Dear **{receiver's name}**:"
      ]
    },
    {
      "cell_type": "code",
      "metadata": {
        "id": "TQXvwhRN-E5y",
        "colab": {
          "base_uri": "https://localhost:8080/"
        },
        "outputId": "f323a376-2201-4232-e3ff-470fec4f172e"
      },
      "source": [
        "# Enter your code here\n",
        "print('Dear', input(\"Enter the receiver's name :\"))"
      ],
      "execution_count": 3,
      "outputs": [
        {
          "output_type": "stream",
          "name": "stdout",
          "text": [
            "Enter the receiver's name :Di\n",
            "Dear Di\n"
          ]
        }
      ]
    },
    {
      "cell_type": "markdown",
      "metadata": {
        "id": "qTOkvVoP-iIC"
      },
      "source": [
        "Step2: Get your first name, your location and print line 2:\n",
        "\n",
        "This is **{your first name}**. I'm writing to let you know that the weather in **{your location}** is fantastic!"
      ]
    },
    {
      "cell_type": "code",
      "metadata": {
        "id": "28aI1cPg-bhz",
        "colab": {
          "base_uri": "https://localhost:8080/"
        },
        "outputId": "f60f3ea3-a20f-4d4a-9484-09fb54553560"
      },
      "source": [
        "# Enter your code here\n",
        "print('This is', input(\"Enter your First Name\"), '. I\\'m writing to let you know that the weather in', input(\"Enter your location\"), 'is fantastic!')"
      ],
      "execution_count": 9,
      "outputs": [
        {
          "output_type": "stream",
          "name": "stdout",
          "text": [
            "Enter your First NameRohit\n",
            "Enter your locationBangalore\n",
            "This is Rohit . I'm writing to let you know that the weather in Bangalore is fantastic!\n"
          ]
        }
      ]
    },
    {
      "cell_type": "markdown",
      "metadata": {
        "id": "EJvVv9Ru-uQb"
      },
      "source": [
        "Step3: Get the number of programs you have practiced, and print line 3:\n",
        "\n",
        "I'm taking Python for Data Science course. I have coded **{# of programs}** programs and the expereince was fun! Join me if you are interested!"
      ]
    },
    {
      "cell_type": "code",
      "metadata": {
        "id": "A_KiRedV-b-R",
        "colab": {
          "base_uri": "https://localhost:8080/"
        },
        "outputId": "165ba00b-087b-4612-c94a-6fab0e01950d"
      },
      "source": [
        "# Enter your code here\n",
        "print('I\\'m taking Python for Data Science course. I have coded', input('Enter the number of program'), 'programs and the expereince was fun! Join me if you are interested!')"
      ],
      "execution_count": 10,
      "outputs": [
        {
          "output_type": "stream",
          "name": "stdout",
          "text": [
            "Enter the number of program4\n",
            "I'm taking Python for Data Science course. I have coded 4 programs and the expereince was fun! Join me if you are interested!\n"
          ]
        }
      ]
    },
    {
      "cell_type": "markdown",
      "metadata": {
        "id": "Vcorzmiw--mY"
      },
      "source": [
        "Step 4: print line 4:\n",
        "\n",
        "Sincerely,"
      ]
    },
    {
      "cell_type": "code",
      "metadata": {
        "id": "D5ecQStI-cLa",
        "colab": {
          "base_uri": "https://localhost:8080/"
        },
        "outputId": "2ff748b6-1498-4714-b6dd-b492f6d1476e"
      },
      "source": [
        "# Enter your code here\n",
        "print('Sincerely,')"
      ],
      "execution_count": 14,
      "outputs": [
        {
          "output_type": "stream",
          "name": "stdout",
          "text": [
            "Sincerely,\n"
          ]
        }
      ]
    },
    {
      "cell_type": "markdown",
      "metadata": {
        "id": "G30-dTVm_K8x"
      },
      "source": [
        "Step 5: Get your full name and print line 5:\n",
        "\n",
        "**{your full name}**"
      ]
    },
    {
      "cell_type": "code",
      "metadata": {
        "id": "944wmoQl_S_K",
        "colab": {
          "base_uri": "https://localhost:8080/"
        },
        "outputId": "873e307c-73b5-4603-b13e-506f85f27ffc"
      },
      "source": [
        "# Enter your code here\n",
        "print(input(\"Enter your full name\"))"
      ],
      "execution_count": 16,
      "outputs": [
        {
          "output_type": "stream",
          "name": "stdout",
          "text": [
            "Enter your full nameRohit Ramteke\n",
            "Rohit Ramteke\n"
          ]
        }
      ]
    },
    {
      "cell_type": "markdown",
      "metadata": {
        "id": "3i-SsAvT_BT6"
      },
      "source": [
        "Step 6: Get today's date and print line 6:\n",
        "\n",
        "**{date}**"
      ]
    },
    {
      "cell_type": "code",
      "metadata": {
        "id": "OFGPKomw-cXR",
        "colab": {
          "base_uri": "https://localhost:8080/"
        },
        "outputId": "a5e06ead-a910-4d5d-f087-140e88cae340"
      },
      "source": [
        "# Enter your code here\n",
        "print(input(\"Enter today's date\"))"
      ],
      "execution_count": 17,
      "outputs": [
        {
          "output_type": "stream",
          "name": "stdout",
          "text": [
            "Enter today's date08042025\n",
            "08042025\n"
          ]
        }
      ]
    },
    {
      "cell_type": "markdown",
      "metadata": {
        "id": "7Ysdu7UJ_qf8"
      },
      "source": [
        "**Congratulations! You finished Assignment 1 and completed Module 1!**"
      ]
    }
  ]
}