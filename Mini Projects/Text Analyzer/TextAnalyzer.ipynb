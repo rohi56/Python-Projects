{
  "metadata": {
    "kernelspec": {
      "name": "python",
      "display_name": "Python (Pyodide)",
      "language": "python"
    },
    "language_info": {
      "codemirror_mode": {
        "name": "python",
        "version": 3
      },
      "file_extension": ".py",
      "mimetype": "text/x-python",
      "name": "python",
      "nbconvert_exporter": "python",
      "pygments_lexer": "ipython3",
      "version": "3.8"
    },
    "colab": {
      "provenance": []
    }
  },
  "nbformat_minor": 0,
  "nbformat": 4,
  "cells": [
    {
      "cell_type": "markdown",
      "source": [
        "<center>\n",
        "    \n",
        "# **Text Analysis**\n",
        "\n",
        "</center>\n"
      ],
      "metadata": {
        "id": "-lcxUEwdTTrf"
      }
    },
    {
      "cell_type": "markdown",
      "source": [
        "# What is text analysis?\n",
        "Text analysis, also known as text mining or text analytics, refers to the process of extracting meaningful information and insights from textual data.\n"
      ],
      "metadata": {
        "id": "iBf2gteoTTrg"
      }
    },
    {
      "cell_type": "markdown",
      "source": [
        "## Objectives\n",
        "\n",
        "After completing this lab, you will be able to:\n",
        "- Use Python commands to perform text analysis.\n",
        "- Convert the text to lowercase and then find and count the frequency of all unique words, as well as a specified word.\n"
      ],
      "metadata": {
        "id": "dAkQEgLzTTrg"
      }
    },
    {
      "cell_type": "markdown",
      "source": [
        "## Setup\n"
      ],
      "metadata": {
        "id": "ofKgEET7TTrh"
      }
    },
    {
      "cell_type": "markdown",
      "source": [
        "You will be using the following data types:\n",
        "* List\n",
        "* Strings\n",
        "* Classes and objects\n"
      ],
      "metadata": {
        "id": "LA5223WZTTrh"
      }
    },
    {
      "cell_type": "markdown",
      "source": [
        "**Let's consider a real-life scenario where you are analyzing customer feedback for a product. You have a large data set of customer reviews in the form of strings, and you want to extract useful information from them using the three identified tasks:**\n",
        "\n",
        "**Task 1. String in lowercase:**\n",
        "You want to pre-process the customer feedback by converting all the text to lowercase. This step helps standardize the text. Lower casing the text allows you to focus on the content rather than the specific letter casing.\n",
        "\n",
        "**Task 2. Frequency of all words in a given string:**\n",
        "After converting the text to lowercase, you want to determine the frequency of each word in the customer feedback. This information will help you identify which words are used more frequently, indicating the key aspects or topics that customers are mentioning in their reviews. By analyzing the word frequencies, you can gain insights into the most common issues raised by customers.\n",
        "\n",
        "**Task 3. Frequency of a specific word:**\n",
        "In addition to analyzing the overall word frequencies, you want to specifically track the frequency of a particular word that is relevant to your analysis. For example, you might be interested in monitoring how often the word \"reliable\" appears in customer reviews to gauge customer sentiment about the product's reliability. By focusing on the frequency of a specific word, you can gain a deeper understanding of customer opinions or preferences related to that particular aspect.\n",
        "\n",
        "By performing these tasks on the customer feedback dataset, you can gain valuable insights into customer sentiment\n"
      ],
      "metadata": {
        "id": "hpOhw0eATTrh"
      }
    },
    {
      "cell_type": "markdown",
      "source": [
        "----\n"
      ],
      "metadata": {
        "id": "HxStdc_mTTrh"
      }
    },
    {
      "cell_type": "markdown",
      "source": [
        "## Step 1: Define a string\n",
        "\"Lorem ipsum dolor! diam amet, consetetur Lorem magna. sed diam nonumy eirmod tempor. diam et labore? et diam magna. et diam amet.\" <br>\n",
        "**Use a variable and store the above string.**\n"
      ],
      "metadata": {
        "id": "No0DZcRBTTri"
      }
    },
    {
      "cell_type": "code",
      "source": [
        "\n",
        "givenstring=\"Lorem ipsum dolor! diam amet, consetetur Lorem magna. sed diam nonumy eirmod tempor. diam et labore? et diam magna. et diam amet.\""
      ],
      "metadata": {
        "trusted": true,
        "id": "tWsAiws8TTri"
      },
      "outputs": [],
      "execution_count": 7
    },
    {
      "cell_type": "markdown",
      "source": [
        "### To achieve the tasks mentioned in the scenario, you need to create a class with three different methods.\n"
      ],
      "metadata": {
        "id": "23XYLaNPTTrj"
      }
    },
    {
      "cell_type": "markdown",
      "source": [
        "## Step 2: Define the class and its attributes\n"
      ],
      "metadata": {
        "id": "ihwYutcuTTrj"
      }
    },
    {
      "cell_type": "markdown",
      "source": [
        "1. Create a class named TextAnalyzer.\n",
        "2. Define the constructor `__init__` method that takes a text argument.\n"
      ],
      "metadata": {
        "id": "6Ui6yRKMTTrj"
      }
    },
    {
      "cell_type": "code",
      "source": [
        "# Please do not run this code cell as it is incomplete and will produce an error.\n",
        "\n",
        "# Let's create a class called TextAnalyzer to analyze text.\n",
        "class TextAnalyzer(object):\n",
        "    # The __init__ method initializes the class with a 'text' parameter.\n",
        "    # You will store the provided 'text' as an instance variable.\n",
        "    def __init__(self, text):\n",
        "        self.text = text"
      ],
      "metadata": {
        "trusted": true,
        "id": "8vjicw6FTTrj"
      },
      "outputs": [],
      "execution_count": null
    },
    {
      "cell_type": "markdown",
      "source": [
        "----\n"
      ],
      "metadata": {
        "id": "Gf9hDIK_TTrj"
      }
    },
    {
      "cell_type": "markdown",
      "source": [
        "## Step 3: Implement a code to format the text in lowercase\n"
      ],
      "metadata": {
        "id": "nKAoMlhQTTrj"
      }
    },
    {
      "cell_type": "markdown",
      "source": [
        "1. Inside the constructor, convert the text argument to lowercase using the `lower()` method.\n",
        "2. Then, remove punctuation marks (periods, exclamation marks, commas, and question marks) from the text using the `replace()` method.\n",
        "3. Finally, assign the formatted text to a new attribute called fmtText.\n",
        "\n",
        "**Here you will be updating the above `TextAnalyzer` class with the points mentioned above.**\n"
      ],
      "metadata": {
        "id": "jmpbXOQJTTrk"
      }
    },
    {
      "cell_type": "code",
      "source": [
        "# Press Shift+Enter to run the code.\n",
        "class TextAnalzer(object):\n",
        "\n",
        "    def __init__ (self, text):\n",
        "        # remove punctuation\n",
        "        formattedtext=text.replace('.','').replace('!','').replace('?','').replace(',','')\n",
        "        # make text lowercase\n",
        "        formattedtext=text.lower()\n",
        "        self.text = formattedtext"
      ],
      "metadata": {
        "trusted": true,
        "id": "uiWtBeJkTTrk"
      },
      "outputs": [],
      "execution_count": 1
    },
    {
      "cell_type": "markdown",
      "source": [
        "----\n"
      ],
      "metadata": {
        "id": "Xnxa_tHJTTrk"
      }
    },
    {
      "cell_type": "markdown",
      "source": [
        "## Step 4: Implement a code to count the frequency of all unique words\n"
      ],
      "metadata": {
        "id": "Q_KtEHAyTTrk"
      }
    },
    {
      "cell_type": "markdown",
      "source": [
        "* In this step, you will implement the `freqAll()` method with the below parameters:\n",
        "     1. Split the fmtText attribute into individual words using the `split()` method.\n",
        "     2. Create an empty dictionary to store the word frequency.\n",
        "     3. Iterate over the list of words and update the frequency dictionary accordingly.\n",
        "     4. Use `count` method for counting the occurence.\n",
        "     5. Return the frequency dictionary.\n",
        "     \n",
        "**Update the above `TextAnalyzer` class with points mentioned above.**\n"
      ],
      "metadata": {
        "id": "_2WmiGPiTTrk"
      }
    },
    {
      "cell_type": "code",
      "source": [
        "#Press shift+Enter to run the code\n",
        "class TextAnalyzer(object):\n",
        "\n",
        "    def __init__ (self, text):\n",
        "        # remove punctuation\n",
        "        formattedText = text.replace('.','').replace('!','').replace('?','').replace(',','')\n",
        "\n",
        "        # make text lowercase\n",
        "        formattedText = formattedText.lower()\n",
        "\n",
        "        self.fmtText = formattedText\n",
        "\n",
        "    def freqAll(self):\n",
        "        # split text into words\n",
        "        words = self.fmtText.split()\n",
        "        # Create dictionary\n",
        "        dict = {}\n",
        "        for word in words:\n",
        "            dict[word] = words.count(word)\n",
        "        return dict"
      ],
      "metadata": {
        "trusted": true,
        "id": "jkisG3-rTTrk"
      },
      "outputs": [],
      "execution_count": 2
    },
    {
      "cell_type": "markdown",
      "source": [
        "----\n"
      ],
      "metadata": {
        "id": "emN_UrkjTTrl"
      }
    },
    {
      "cell_type": "markdown",
      "source": [
        "## Step 5: Implement a code to count the frequency of a specific word\n"
      ],
      "metadata": {
        "id": "HLV8psU8TTrl"
      }
    },
    {
      "cell_type": "markdown",
      "source": [
        "In step-5, you have to implement the `freqOf(word)` method that takes a word argument:\n",
        "   1. Create a method and pass the word that needs to be found.\n",
        "   2. Get the `freqAll` method to look for count and check if that word is in the list.\n",
        "   3. Return the count. If the word is not found, the count returned is 0.\n",
        "   \n",
        "**Update the above `TextAnalyzer` class with the points mentioned above.**\n"
      ],
      "metadata": {
        "id": "O7sYbVbYTTrl"
      }
    },
    {
      "cell_type": "code",
      "source": [
        "class TextAnalyzer(object):\n",
        "\n",
        "    def __init__ (self, text):\n",
        "        # remove punctuation\n",
        "        formattedText = text.replace('.','').replace('!','').replace('?','').replace(',','')\n",
        "\n",
        "        # make text lowercase\n",
        "        formattedText = formattedText.lower()\n",
        "\n",
        "        self.fmtText = formattedText\n",
        "\n",
        "    def freqAll(self):\n",
        "        # split text into words\n",
        "        words = self.fmtText.split()\n",
        "        # Create dictionary\n",
        "        dict = {}\n",
        "        for word in words:\n",
        "            dict[word] = words.count(word)\n",
        "        return dict\n",
        "\n",
        "    def freqOf(self,word):\n",
        "        # get frequency map\n",
        "        freqDict = self.freqAll()\n",
        "\n",
        "        if word in freqDict:\n",
        "            return freqDict[word]\n",
        "        else:\n",
        "            return 0"
      ],
      "metadata": {
        "trusted": true,
        "id": "lKQrhDrQTTrl"
      },
      "outputs": [],
      "execution_count": 5
    },
    {
      "cell_type": "markdown",
      "source": [
        "### Now, you have successfully created a class with three methods.\n"
      ],
      "metadata": {
        "id": "36gsOdlYTTrm"
      }
    },
    {
      "cell_type": "markdown",
      "source": [
        "## Step 1: Create an instance of TextAnalyzer class\n",
        "* Instantiate the TextAnalyzer class by passing the given string as an argument.\n"
      ],
      "metadata": {
        "id": "PWmVaQW5TTrm"
      }
    },
    {
      "cell_type": "code",
      "source": [
        "# type your code here\n",
        "analyzed = TextAnalyzer(givenstring)"
      ],
      "metadata": {
        "trusted": true,
        "id": "lKOChwtuTTrm"
      },
      "outputs": [],
      "execution_count": 8
    },
    {
      "cell_type": "markdown",
      "source": [
        "## Step 2: Call the function that converts the data into lowercase\n"
      ],
      "metadata": {
        "id": "aDq17m1tTTrr"
      }
    },
    {
      "cell_type": "code",
      "source": [
        "# Press Shift+Enter to run the code.\n",
        "analyzed.freqAll()\n"
      ],
      "metadata": {
        "trusted": true,
        "colab": {
          "base_uri": "https://localhost:8080/"
        },
        "id": "BSVq4gseTTrr",
        "outputId": "87b42162-dab2-448d-937d-c219684b447d"
      },
      "outputs": [
        {
          "output_type": "execute_result",
          "data": {
            "text/plain": [
              "{'lorem': 2,\n",
              " 'ipsum': 1,\n",
              " 'dolor': 1,\n",
              " 'diam': 5,\n",
              " 'amet': 2,\n",
              " 'consetetur': 1,\n",
              " 'magna': 2,\n",
              " 'sed': 1,\n",
              " 'nonumy': 1,\n",
              " 'eirmod': 1,\n",
              " 'tempor': 1,\n",
              " 'et': 3,\n",
              " 'labore': 1}"
            ]
          },
          "metadata": {},
          "execution_count": 9
        }
      ],
      "execution_count": 9
    },
    {
      "cell_type": "markdown",
      "source": [
        "You have successfully converted string into lowercase.\n"
      ],
      "metadata": {
        "id": "sbwGun--TTrt"
      }
    },
    {
      "cell_type": "markdown",
      "source": [
        "## Step 3: Call the function that counts the frequency of all unique words from the data\n"
      ],
      "metadata": {
        "id": "-u36x75uTTrt"
      }
    },
    {
      "cell_type": "code",
      "source": [
        "# Press Shift+Enter to run the code.\n",
        "freqMap = analyzed.freqAll()\n",
        "print(freqMap)\n"
      ],
      "metadata": {
        "trusted": true,
        "colab": {
          "base_uri": "https://localhost:8080/"
        },
        "id": "5zPoBTCaTTrt",
        "outputId": "767ade44-7c88-4ec7-f5af-d341cef26656"
      },
      "outputs": [
        {
          "output_type": "stream",
          "name": "stdout",
          "text": [
            "{'lorem': 2, 'ipsum': 1, 'dolor': 1, 'diam': 5, 'amet': 2, 'consetetur': 1, 'magna': 2, 'sed': 1, 'nonumy': 1, 'eirmod': 1, 'tempor': 1, 'et': 3, 'labore': 1}\n"
          ]
        }
      ],
      "execution_count": 10
    },
    {
      "cell_type": "markdown",
      "source": [
        "You have successfully calculated the frequency of all unique words in the string.\n"
      ],
      "metadata": {
        "id": "1djIufVOTTru"
      }
    },
    {
      "cell_type": "markdown",
      "source": [
        "## Step 4: Call the function that counts the frequency of a specific word\n",
        "Here, you will call the function that counts the frequency of the word \"lorem\".\n",
        "<br>\n",
        "\n",
        "Print the output.**\n"
      ],
      "metadata": {
        "id": "N-kcStLXTTru"
      }
    },
    {
      "cell_type": "code",
      "source": [
        "# type your code here\n",
        "word = \"lorem\"\n",
        "frequency = analyzed.freqOf(word)\n",
        "print(\"The word\",word,\"appears\",frequency,\"times.\")"
      ],
      "metadata": {
        "trusted": true,
        "colab": {
          "base_uri": "https://localhost:8080/"
        },
        "id": "v4YNlXpwTTru",
        "outputId": "f50ebd26-d4ec-499f-f25a-8ba077bc782c"
      },
      "outputs": [
        {
          "output_type": "stream",
          "name": "stdout",
          "text": [
            "The word lorem appears 2 times.\n"
          ]
        }
      ],
      "execution_count": 11
    },
    {
      "cell_type": "markdown",
      "source": [
        "You have successfully calculated the frequency of all specified words.\n"
      ],
      "metadata": {
        "id": "Wyp6zV3cTTrv"
      }
    },
    {
      "cell_type": "markdown",
      "source": [
        "----\n"
      ],
      "metadata": {
        "id": "eQzVXPhYTTrv"
      }
    },
    {
      "cell_type": "markdown",
      "source": [
        "<!--\n",
        "|Date (YYYY-MM-DD)|Version|Changed By|Change Description|\n",
        "|-|-|-|-|\n",
        "|2023-11-05|0.4|Abhishek Gagneja| Updated lab instructions|\n",
        "|2023-05-17|0.3|Akansha yadav| Created lab under maintenance|\n",
        "|2020-07-17|0.1|Sam     |Create Lab Template|\n",
        "|2022-11-19|0.2|Shengkai|Update Lab Template|\n",
        "-->\n"
      ],
      "metadata": {
        "id": "x3aznrB9TTrv"
      }
    }
  ]
}