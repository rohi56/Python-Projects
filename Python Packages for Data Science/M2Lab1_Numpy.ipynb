{
  "nbformat": 4,
  "nbformat_minor": 0,
  "metadata": {
    "colab": {
      "provenance": [],
      "toc_visible": true
    },
    "kernelspec": {
      "name": "python3",
      "display_name": "Python 3"
    },
    "language_info": {
      "name": "python"
    }
  },
  "cells": [
    {
      "cell_type": "markdown",
      "source": [
        "#Welcome to our Lab practice!\n",
        "\n",
        "This lab is all about the package, Numpy. Are you ready? Let's go!\n",
        "\n",
        "You will find some small tasks in sections below.\n",
        "\n",
        "> Try to figure out by yourself, or search for references. Being able to search and find information needed is an important skill that benefits you and your career for a long time.\n",
        "\n",
        "\n",
        "\n"
      ],
      "metadata": {
        "id": "fe7l2Vy92BWu"
      }
    },
    {
      "cell_type": "markdown",
      "source": [
        "## Import the package and rename it as np"
      ],
      "metadata": {
        "id": "BG7wrui4BGri"
      }
    },
    {
      "cell_type": "code",
      "source": [
        "# your code is here\n",
        "import numpy as np"
      ],
      "metadata": {
        "id": "qPVT30J3BKv6"
      },
      "execution_count": 3,
      "outputs": []
    },
    {
      "cell_type": "markdown",
      "source": [
        "## Array Creation"
      ],
      "metadata": {
        "id": "TTElGHtF2N7g"
      }
    },
    {
      "cell_type": "markdown",
      "source": [
        "### Task: Create a numpy array from a list of integers"
      ],
      "metadata": {
        "id": "0CtQu71C3PP8"
      }
    },
    {
      "cell_type": "code",
      "source": [
        "# your code is here\n",
        "np.random.randint(1,10,5)"
      ],
      "metadata": {
        "id": "n7qiruks8HZ5",
        "colab": {
          "base_uri": "https://localhost:8080/"
        },
        "outputId": "9095e2a9-4df5-4c46-e4db-b4740a634383"
      },
      "execution_count": 3,
      "outputs": [
        {
          "output_type": "execute_result",
          "data": {
            "text/plain": [
              "array([4, 7, 1, 2, 6])"
            ]
          },
          "metadata": {},
          "execution_count": 3
        }
      ]
    },
    {
      "cell_type": "markdown",
      "source": [
        "### Task: Create a numpy array of size 6, filled with zeros"
      ],
      "metadata": {
        "id": "3FK5QxBO3dqS"
      }
    },
    {
      "cell_type": "code",
      "source": [
        "# your code is here\n",
        "np.zeros(6)"
      ],
      "metadata": {
        "id": "w-XimSI88J1J",
        "colab": {
          "base_uri": "https://localhost:8080/"
        },
        "outputId": "1091108f-aa7d-4eda-87c1-9cdb386747d9"
      },
      "execution_count": 4,
      "outputs": [
        {
          "output_type": "execute_result",
          "data": {
            "text/plain": [
              "array([0., 0., 0., 0., 0., 0.])"
            ]
          },
          "metadata": {},
          "execution_count": 4
        }
      ]
    },
    {
      "cell_type": "markdown",
      "source": [
        "###Task: Create a numpy array of size 6, filled with ones"
      ],
      "metadata": {
        "id": "Db9Fwz4KI2al"
      }
    },
    {
      "cell_type": "code",
      "source": [
        "# your code is here\n",
        "np.ones(6)"
      ],
      "metadata": {
        "id": "W-PCGPuPUSTv",
        "colab": {
          "base_uri": "https://localhost:8080/"
        },
        "outputId": "754a73de-cf52-43df-94f0-4824528bd6f3"
      },
      "execution_count": 5,
      "outputs": [
        {
          "output_type": "execute_result",
          "data": {
            "text/plain": [
              "array([1., 1., 1., 1., 1., 1.])"
            ]
          },
          "metadata": {},
          "execution_count": 5
        }
      ]
    },
    {
      "cell_type": "markdown",
      "source": [
        "###Task: Create a numpy array with values from 0 to 10"
      ],
      "metadata": {
        "id": "42rLKWbe3l8m"
      }
    },
    {
      "cell_type": "code",
      "source": [
        "# your code is here\n",
        "np.arange(11)"
      ],
      "metadata": {
        "id": "ExbcAYLk8LYI",
        "colab": {
          "base_uri": "https://localhost:8080/"
        },
        "outputId": "ceb0986f-6e7b-4bad-d55f-9fdcf09f5cc1"
      },
      "execution_count": 6,
      "outputs": [
        {
          "output_type": "execute_result",
          "data": {
            "text/plain": [
              "array([ 0,  1,  2,  3,  4,  5,  6,  7,  8,  9, 10])"
            ]
          },
          "metadata": {},
          "execution_count": 6
        }
      ]
    },
    {
      "cell_type": "markdown",
      "source": [
        "###Task: Create a numpy matrix of 2*3 integers, filled with zeros"
      ],
      "metadata": {
        "id": "c5314DLtJVyv"
      }
    },
    {
      "cell_type": "code",
      "source": [
        "# your code is here\n",
        "np.zeros((2,3))"
      ],
      "metadata": {
        "id": "JRNBES4MUTV2",
        "colab": {
          "base_uri": "https://localhost:8080/"
        },
        "outputId": "407a1e89-0b87-4306-e722-8377ce370419"
      },
      "execution_count": 7,
      "outputs": [
        {
          "output_type": "execute_result",
          "data": {
            "text/plain": [
              "array([[0., 0., 0.],\n",
              "       [0., 0., 0.]])"
            ]
          },
          "metadata": {},
          "execution_count": 7
        }
      ]
    },
    {
      "cell_type": "markdown",
      "source": [
        "###Task: Create a numpy matrix of 3*2 integers, filled with ones"
      ],
      "metadata": {
        "id": "tyPLq8JwJcQR"
      }
    },
    {
      "cell_type": "code",
      "source": [
        "# your code is here\n",
        "np.ones((3,2))"
      ],
      "metadata": {
        "id": "BbZBfz_qUUgf",
        "colab": {
          "base_uri": "https://localhost:8080/"
        },
        "outputId": "4b9053c7-de49-4368-9221-4e1fce6b8553"
      },
      "execution_count": 8,
      "outputs": [
        {
          "output_type": "execute_result",
          "data": {
            "text/plain": [
              "array([[1., 1.],\n",
              "       [1., 1.],\n",
              "       [1., 1.]])"
            ]
          },
          "metadata": {},
          "execution_count": 8
        }
      ]
    },
    {
      "cell_type": "markdown",
      "source": [
        "###Task: Create a numpy matrix of 3*2 integers, filled with random integers in [0, 10]"
      ],
      "metadata": {
        "id": "oIYfk1CJJs4R"
      }
    },
    {
      "cell_type": "code",
      "source": [
        "# your code is here\n",
        "np.random.randint(0,10,(3,2))"
      ],
      "metadata": {
        "id": "f3rSXHN1UVJt",
        "colab": {
          "base_uri": "https://localhost:8080/"
        },
        "outputId": "b39a4b4d-4758-4d1c-a512-8bad91eb0b25"
      },
      "execution_count": 9,
      "outputs": [
        {
          "output_type": "execute_result",
          "data": {
            "text/plain": [
              "array([[1, 6],\n",
              "       [9, 7],\n",
              "       [4, 2]])"
            ]
          },
          "metadata": {},
          "execution_count": 9
        }
      ]
    },
    {
      "cell_type": "markdown",
      "source": [
        "###Task: Create a numpy matrix of 100 * 2, filled with random float value in [0, 1]"
      ],
      "metadata": {
        "id": "-61o4-pCJ7y8"
      }
    },
    {
      "cell_type": "code",
      "source": [
        "# your code is here\n",
        "np.random.rand(100,2)"
      ],
      "metadata": {
        "id": "NpxV1fsOUVtd",
        "colab": {
          "base_uri": "https://localhost:8080/"
        },
        "outputId": "4b02e36e-353e-4acc-c935-15dbf3f8f959"
      },
      "execution_count": 10,
      "outputs": [
        {
          "output_type": "execute_result",
          "data": {
            "text/plain": [
              "array([[0.12129769, 0.30718248],\n",
              "       [0.59704457, 0.83125065],\n",
              "       [0.74388375, 0.18171717],\n",
              "       [0.87324776, 0.282205  ],\n",
              "       [0.41877575, 0.64468239],\n",
              "       [0.18893968, 0.45433499],\n",
              "       [0.98519579, 0.03098539],\n",
              "       [0.16643871, 0.30031663],\n",
              "       [0.52330758, 0.97441374],\n",
              "       [0.99506317, 0.7012603 ],\n",
              "       [0.90887859, 0.66844601],\n",
              "       [0.58658193, 0.3869856 ],\n",
              "       [0.39541155, 0.7802116 ],\n",
              "       [0.562426  , 0.5098985 ],\n",
              "       [0.34983164, 0.52322773],\n",
              "       [0.54342062, 0.37317506],\n",
              "       [0.58481846, 0.81678872],\n",
              "       [0.83777786, 0.81859844],\n",
              "       [0.44098528, 0.15244553],\n",
              "       [0.86491152, 0.30297378],\n",
              "       [0.57871488, 0.86041368],\n",
              "       [0.84768185, 0.54595427],\n",
              "       [0.71077084, 0.69502756],\n",
              "       [0.60290948, 0.6449227 ],\n",
              "       [0.71220086, 0.01230805],\n",
              "       [0.571532  , 0.73841971],\n",
              "       [0.50091309, 0.34746118],\n",
              "       [0.74843577, 0.54508917],\n",
              "       [0.08788789, 0.05998464],\n",
              "       [0.34858174, 0.79724977],\n",
              "       [0.33915202, 0.03678766],\n",
              "       [0.84981657, 0.85523526],\n",
              "       [0.56342333, 0.77159599],\n",
              "       [0.07019724, 0.66430241],\n",
              "       [0.96972047, 0.55617986],\n",
              "       [0.52738703, 0.4360171 ],\n",
              "       [0.60442146, 0.45424688],\n",
              "       [0.27717798, 0.07757567],\n",
              "       [0.5865166 , 0.68300965],\n",
              "       [0.90168924, 0.99511508],\n",
              "       [0.53923907, 0.2280148 ],\n",
              "       [0.83704045, 0.28757943],\n",
              "       [0.69798926, 0.06853078],\n",
              "       [0.37057944, 0.27628742],\n",
              "       [0.88425147, 0.51122211],\n",
              "       [0.68961918, 0.60267487],\n",
              "       [0.57700817, 0.20233498],\n",
              "       [0.56031873, 0.36552318],\n",
              "       [0.66346559, 0.76459234],\n",
              "       [0.32596161, 0.28567226],\n",
              "       [0.43585407, 0.41973902],\n",
              "       [0.74777274, 0.20746168],\n",
              "       [0.96469696, 0.18672307],\n",
              "       [0.22831033, 0.42102507],\n",
              "       [0.84418229, 0.10134558],\n",
              "       [0.51651136, 0.49917234],\n",
              "       [0.79054065, 0.12199536],\n",
              "       [0.04645116, 0.35919497],\n",
              "       [0.23798135, 0.78486785],\n",
              "       [0.59319398, 0.57158304],\n",
              "       [0.1039026 , 0.58121317],\n",
              "       [0.4962348 , 0.56773816],\n",
              "       [0.35257376, 0.56691276],\n",
              "       [0.08599966, 0.21243516],\n",
              "       [0.51776696, 0.931178  ],\n",
              "       [0.2824764 , 0.43614142],\n",
              "       [0.9510098 , 0.18946453],\n",
              "       [0.81286503, 0.98449555],\n",
              "       [0.74672136, 0.94033516],\n",
              "       [0.87942701, 0.59770029],\n",
              "       [0.52458883, 0.63212479],\n",
              "       [0.71885949, 0.82778636],\n",
              "       [0.70162143, 0.18021208],\n",
              "       [0.95473184, 0.1599554 ],\n",
              "       [0.709455  , 0.14040564],\n",
              "       [0.67742687, 0.68025954],\n",
              "       [0.38477327, 0.45152307],\n",
              "       [0.62714989, 0.38226978],\n",
              "       [0.12200774, 0.74389419],\n",
              "       [0.98990174, 0.08595509],\n",
              "       [0.83809908, 0.29680186],\n",
              "       [0.86678281, 0.0603753 ],\n",
              "       [0.51296535, 0.15807448],\n",
              "       [0.53138755, 0.84451557],\n",
              "       [0.44155824, 0.19222078],\n",
              "       [0.44641723, 0.19055148],\n",
              "       [0.34844267, 0.30659951],\n",
              "       [0.1957548 , 0.62043526],\n",
              "       [0.33750294, 0.59974291],\n",
              "       [0.19637731, 0.13146901],\n",
              "       [0.89204049, 0.7846614 ],\n",
              "       [0.98697266, 0.67559428],\n",
              "       [0.55021263, 0.51937551],\n",
              "       [0.00833287, 0.89534298],\n",
              "       [0.38451638, 0.0027759 ],\n",
              "       [0.5904293 , 0.38095764],\n",
              "       [0.84502502, 0.47074751],\n",
              "       [0.97547133, 0.67496746],\n",
              "       [0.103616  , 0.07586901],\n",
              "       [0.60503686, 0.13158483]])"
            ]
          },
          "metadata": {},
          "execution_count": 10
        }
      ]
    },
    {
      "cell_type": "markdown",
      "source": [
        "###Task: Create a numpy matrix of 2 * 3 * 4, filled with integers from 1 to 24."
      ],
      "metadata": {
        "id": "jZ4l3axBJ5tJ"
      }
    },
    {
      "cell_type": "code",
      "source": [
        "# your code is here\n",
        "np.random.randint(1,25,(2,3,4))"
      ],
      "metadata": {
        "id": "G3AKUvkMUWu2",
        "colab": {
          "base_uri": "https://localhost:8080/"
        },
        "outputId": "ab5d3f0c-5ce2-41f7-f4f8-45dc7bea7677"
      },
      "execution_count": 11,
      "outputs": [
        {
          "output_type": "execute_result",
          "data": {
            "text/plain": [
              "array([[[ 2, 20, 16,  8],\n",
              "        [ 1,  1,  8, 13],\n",
              "        [ 2,  7, 17,  5]],\n",
              "\n",
              "       [[ 9, 15,  7,  6],\n",
              "        [21, 22, 19, 15],\n",
              "        [15, 20, 23, 24]]])"
            ]
          },
          "metadata": {},
          "execution_count": 11
        }
      ]
    },
    {
      "cell_type": "markdown",
      "source": [
        "## Array Indexing"
      ],
      "metadata": {
        "id": "1ut5x4Zl2RVu"
      }
    },
    {
      "cell_type": "markdown",
      "source": [
        "### Task: Let X be a numpy array, and X = np.array([1, 2, 3, 4, 5])"
      ],
      "metadata": {
        "id": "3iWGsCO4KpaD"
      }
    },
    {
      "cell_type": "code",
      "source": [
        "# your code is here\n",
        "X = np.array([1, 2, 3, 4, 5])\n",
        "X"
      ],
      "metadata": {
        "id": "_OfiD8vBBhCM",
        "colab": {
          "base_uri": "https://localhost:8080/"
        },
        "outputId": "f2e5206f-ba34-4197-cd4b-d9f0ae087241"
      },
      "execution_count": 13,
      "outputs": [
        {
          "output_type": "execute_result",
          "data": {
            "text/plain": [
              "array([1, 2, 3, 4, 5])"
            ]
          },
          "metadata": {},
          "execution_count": 13
        }
      ]
    },
    {
      "cell_type": "markdown",
      "source": [
        "### Task: Show the first element of X"
      ],
      "metadata": {
        "id": "dGUiTYKM4XTF"
      }
    },
    {
      "cell_type": "code",
      "source": [
        "# your code is here\n",
        "X[0]"
      ],
      "metadata": {
        "id": "MQ9sEgvL8Mph",
        "colab": {
          "base_uri": "https://localhost:8080/"
        },
        "outputId": "f16c0675-702b-412d-fb93-e370298d810d"
      },
      "execution_count": 14,
      "outputs": [
        {
          "output_type": "execute_result",
          "data": {
            "text/plain": [
              "np.int64(1)"
            ]
          },
          "metadata": {},
          "execution_count": 14
        }
      ]
    },
    {
      "cell_type": "markdown",
      "source": [
        "### Task: Show the last element of X"
      ],
      "metadata": {
        "id": "VYkj8Sni5SLY"
      }
    },
    {
      "cell_type": "code",
      "source": [
        "# your code is here\n",
        "X[-1]"
      ],
      "metadata": {
        "id": "ezJbefBc8NSc",
        "colab": {
          "base_uri": "https://localhost:8080/"
        },
        "outputId": "f505ba22-d76c-4b12-ed0d-cf5880533a3b"
      },
      "execution_count": 15,
      "outputs": [
        {
          "output_type": "execute_result",
          "data": {
            "text/plain": [
              "np.int64(5)"
            ]
          },
          "metadata": {},
          "execution_count": 15
        }
      ]
    },
    {
      "cell_type": "markdown",
      "source": [
        "### Task: Show the first 3 elements of X"
      ],
      "metadata": {
        "id": "-BEsJESu4hx0"
      }
    },
    {
      "cell_type": "code",
      "source": [
        "# your code is here\n",
        "X[:3]"
      ],
      "metadata": {
        "id": "GqsoQylO8Nz4",
        "colab": {
          "base_uri": "https://localhost:8080/"
        },
        "outputId": "cf942fce-5e89-4869-dcba-278eaa321c64"
      },
      "execution_count": 17,
      "outputs": [
        {
          "output_type": "execute_result",
          "data": {
            "text/plain": [
              "array([1, 2, 3])"
            ]
          },
          "metadata": {},
          "execution_count": 17
        }
      ]
    },
    {
      "cell_type": "markdown",
      "source": [
        "###Task: Show the last 3 elements of X"
      ],
      "metadata": {
        "id": "NOLUtTzDLD-l"
      }
    },
    {
      "cell_type": "code",
      "source": [
        "# your code is here\n",
        "X[-3:]"
      ],
      "metadata": {
        "id": "p_YG72N2UYjG",
        "colab": {
          "base_uri": "https://localhost:8080/"
        },
        "outputId": "4b8a32e5-8d48-4a62-81fc-3750676c71da"
      },
      "execution_count": 19,
      "outputs": [
        {
          "output_type": "execute_result",
          "data": {
            "text/plain": [
              "array([3, 4, 5])"
            ]
          },
          "metadata": {},
          "execution_count": 19
        }
      ]
    },
    {
      "cell_type": "markdown",
      "source": [
        "###Task: Show the elements of X whose index is odd (1, 3, 5, ...)"
      ],
      "metadata": {
        "id": "_dzBCEzWLG3v"
      }
    },
    {
      "cell_type": "code",
      "source": [
        "# your code is here\n",
        "X[1::2]"
      ],
      "metadata": {
        "id": "e-G7QckRUZIs",
        "colab": {
          "base_uri": "https://localhost:8080/"
        },
        "outputId": "9d3174a6-228e-4ea1-cf1a-3666130d46a0"
      },
      "execution_count": 20,
      "outputs": [
        {
          "output_type": "execute_result",
          "data": {
            "text/plain": [
              "array([2, 4])"
            ]
          },
          "metadata": {},
          "execution_count": 20
        }
      ]
    },
    {
      "cell_type": "markdown",
      "source": [
        "###Task: Show the elements of X except the last one"
      ],
      "metadata": {
        "id": "tsukfJQ1LabJ"
      }
    },
    {
      "cell_type": "code",
      "source": [
        "# your code is here\n",
        "X[:-1]"
      ],
      "metadata": {
        "id": "PlPO_MgPUZqG",
        "colab": {
          "base_uri": "https://localhost:8080/"
        },
        "outputId": "c766926c-1ff3-4ebf-e2ab-05a42d91bba1"
      },
      "execution_count": 22,
      "outputs": [
        {
          "output_type": "execute_result",
          "data": {
            "text/plain": [
              "array([1, 2, 3, 4])"
            ]
          },
          "metadata": {},
          "execution_count": 22
        }
      ]
    },
    {
      "cell_type": "markdown",
      "source": [
        "### Task: Let X be a numpy matrix with dimension 3 * 4, and filled from 0 to 11."
      ],
      "metadata": {
        "id": "8EhDJvC2Lm77"
      }
    },
    {
      "cell_type": "code",
      "source": [
        "# your code is here\n",
        "X = np.arange(12).reshape(3,4)\n",
        "X"
      ],
      "metadata": {
        "id": "fwvu0ToqBiXA",
        "colab": {
          "base_uri": "https://localhost:8080/"
        },
        "outputId": "8fb778f5-182a-4a34-97f2-0a55eb5911a0"
      },
      "execution_count": 23,
      "outputs": [
        {
          "output_type": "execute_result",
          "data": {
            "text/plain": [
              "array([[ 0,  1,  2,  3],\n",
              "       [ 4,  5,  6,  7],\n",
              "       [ 8,  9, 10, 11]])"
            ]
          },
          "metadata": {},
          "execution_count": 23
        }
      ]
    },
    {
      "cell_type": "markdown",
      "source": [
        "###Task: Show the first row of X"
      ],
      "metadata": {
        "id": "hi4_PetZ4oJk"
      }
    },
    {
      "cell_type": "code",
      "source": [
        "# your code is here\n",
        "X[0]"
      ],
      "metadata": {
        "id": "Iwz0Ljxs8OqA",
        "colab": {
          "base_uri": "https://localhost:8080/"
        },
        "outputId": "74cbfd73-1136-45cc-8ec8-a14268c91ff4"
      },
      "execution_count": 24,
      "outputs": [
        {
          "output_type": "execute_result",
          "data": {
            "text/plain": [
              "array([0, 1, 2, 3])"
            ]
          },
          "metadata": {},
          "execution_count": 24
        }
      ]
    },
    {
      "cell_type": "markdown",
      "source": [
        "###Task: Show the first column of X"
      ],
      "metadata": {
        "id": "4juNISwiP3jt"
      }
    },
    {
      "cell_type": "code",
      "source": [
        "# your code is here\n",
        "X[:,0]"
      ],
      "metadata": {
        "id": "dPDgvTVeUakl",
        "colab": {
          "base_uri": "https://localhost:8080/"
        },
        "outputId": "fe5e4090-8100-45af-cbd7-026460b98b39"
      },
      "execution_count": 25,
      "outputs": [
        {
          "output_type": "execute_result",
          "data": {
            "text/plain": [
              "array([0, 4, 8])"
            ]
          },
          "metadata": {},
          "execution_count": 25
        }
      ]
    },
    {
      "cell_type": "markdown",
      "source": [
        "###Task: Show the first element of the first row of X"
      ],
      "metadata": {
        "id": "FOhsq6KcP6BX"
      }
    },
    {
      "cell_type": "code",
      "source": [
        "# your code is here\n",
        "X[0,0]"
      ],
      "metadata": {
        "id": "HpawggljUbOk",
        "colab": {
          "base_uri": "https://localhost:8080/"
        },
        "outputId": "65f55eeb-b638-40d0-ba19-2b82dac11a99"
      },
      "execution_count": 26,
      "outputs": [
        {
          "output_type": "execute_result",
          "data": {
            "text/plain": [
              "np.int64(0)"
            ]
          },
          "metadata": {},
          "execution_count": 26
        }
      ]
    },
    {
      "cell_type": "markdown",
      "source": [
        "###Task: Show the last row of X"
      ],
      "metadata": {
        "id": "1fCRCWyxP_rX"
      }
    },
    {
      "cell_type": "code",
      "source": [
        "# your code is here\n",
        "X[-1]"
      ],
      "metadata": {
        "id": "hVPhcd5cUby8",
        "colab": {
          "base_uri": "https://localhost:8080/"
        },
        "outputId": "c306b96d-7303-4c44-e225-cdf27d314a9c"
      },
      "execution_count": 28,
      "outputs": [
        {
          "output_type": "execute_result",
          "data": {
            "text/plain": [
              "array([ 8,  9, 10, 11])"
            ]
          },
          "metadata": {},
          "execution_count": 28
        }
      ]
    },
    {
      "cell_type": "markdown",
      "source": [
        "###Task: Show the last column of X"
      ],
      "metadata": {
        "id": "VfwEaj7-QB68"
      }
    },
    {
      "cell_type": "code",
      "source": [
        "# your code is here\n",
        "X[:,-1]"
      ],
      "metadata": {
        "id": "R9LK1G9wUcat",
        "colab": {
          "base_uri": "https://localhost:8080/"
        },
        "outputId": "0556b121-346d-42bd-9a76-de5fdc3cfb64"
      },
      "execution_count": 29,
      "outputs": [
        {
          "output_type": "execute_result",
          "data": {
            "text/plain": [
              "array([ 3,  7, 11])"
            ]
          },
          "metadata": {},
          "execution_count": 29
        }
      ]
    },
    {
      "cell_type": "markdown",
      "source": [
        "###Task: Show the last element of the last row of X"
      ],
      "metadata": {
        "id": "gfnCcIJmQEFZ"
      }
    },
    {
      "cell_type": "code",
      "source": [
        "# your code is here\n",
        "X[-1,-1]"
      ],
      "metadata": {
        "id": "8cKHG30wUc4-",
        "colab": {
          "base_uri": "https://localhost:8080/"
        },
        "outputId": "356527da-2f8c-4d8c-b6af-10b3e115b8f8"
      },
      "execution_count": 30,
      "outputs": [
        {
          "output_type": "execute_result",
          "data": {
            "text/plain": [
              "np.int64(11)"
            ]
          },
          "metadata": {},
          "execution_count": 30
        }
      ]
    },
    {
      "cell_type": "markdown",
      "source": [
        "###Task: Show all the rows except the last row of X"
      ],
      "metadata": {
        "id": "mavuLFztQGkA"
      }
    },
    {
      "cell_type": "code",
      "source": [
        "# your code is here\n",
        "X[:-1]"
      ],
      "metadata": {
        "id": "yqg06Mk9Udeb",
        "colab": {
          "base_uri": "https://localhost:8080/"
        },
        "outputId": "37622a0a-f9a1-41d3-9eeb-7fd77f1d937c"
      },
      "execution_count": 31,
      "outputs": [
        {
          "output_type": "execute_result",
          "data": {
            "text/plain": [
              "array([[0, 1, 2, 3],\n",
              "       [4, 5, 6, 7]])"
            ]
          },
          "metadata": {},
          "execution_count": 31
        }
      ]
    },
    {
      "cell_type": "markdown",
      "source": [
        "###Task: Show all the columns except the last column of X"
      ],
      "metadata": {
        "id": "gsugFt6CQSv8"
      }
    },
    {
      "cell_type": "code",
      "source": [
        "# your code is here\n",
        "X[:,:-1]"
      ],
      "metadata": {
        "id": "aSmfSj0rUd0d",
        "colab": {
          "base_uri": "https://localhost:8080/"
        },
        "outputId": "8107c0ff-6c8c-4f79-851a-3d2cbd496b81"
      },
      "execution_count": 32,
      "outputs": [
        {
          "output_type": "execute_result",
          "data": {
            "text/plain": [
              "array([[ 0,  1,  2],\n",
              "       [ 4,  5,  6],\n",
              "       [ 8,  9, 10]])"
            ]
          },
          "metadata": {},
          "execution_count": 32
        }
      ]
    },
    {
      "cell_type": "markdown",
      "source": [
        "### Task: Show the first two elements of the first two rows"
      ],
      "metadata": {
        "id": "q39M28ow6Oqj"
      }
    },
    {
      "cell_type": "code",
      "source": [
        "# your code is here\n",
        "X[:2,:2]"
      ],
      "metadata": {
        "id": "i5tQ-9118PPg",
        "colab": {
          "base_uri": "https://localhost:8080/"
        },
        "outputId": "13fa39a0-171f-4f8a-baa8-12043b957493"
      },
      "execution_count": 33,
      "outputs": [
        {
          "output_type": "execute_result",
          "data": {
            "text/plain": [
              "array([[0, 1],\n",
              "       [4, 5]])"
            ]
          },
          "metadata": {},
          "execution_count": 33
        }
      ]
    },
    {
      "cell_type": "markdown",
      "source": [
        "## Array Statistics"
      ],
      "metadata": {
        "id": "BwMQX2n4Ttkk"
      }
    },
    {
      "cell_type": "markdown",
      "source": [
        "###Task: Create a numpy array X, print the sum, mean, std, var, max, min of it"
      ],
      "metadata": {
        "id": "ZC1IirZtSi13"
      }
    },
    {
      "cell_type": "code",
      "source": [
        "# your code is here\n",
        "X = np.arange(10)\n",
        "X\n",
        "X.sum(), X.mean(), X.std(), X.var(), X.max(), X.min()"
      ],
      "metadata": {
        "id": "VDEv57JAUer6",
        "colab": {
          "base_uri": "https://localhost:8080/"
        },
        "outputId": "162ce854-ab12-41d8-a8cd-5ab6a0813455"
      },
      "execution_count": 38,
      "outputs": [
        {
          "output_type": "execute_result",
          "data": {
            "text/plain": [
              "(np.int64(45),\n",
              " np.float64(4.5),\n",
              " np.float64(2.8722813232690143),\n",
              " np.float64(8.25),\n",
              " np.int64(9),\n",
              " np.int64(0))"
            ]
          },
          "metadata": {},
          "execution_count": 38
        }
      ]
    },
    {
      "cell_type": "markdown",
      "source": [
        "###Task: Create a numpy matrix X as n * m, print the sum, mean, std, var, max, min of the 1st row of it."
      ],
      "metadata": {
        "id": "0Db2EBujS1x2"
      }
    },
    {
      "cell_type": "code",
      "source": [
        "# your code is here\n",
        "\n",
        "# Set matrix size\n",
        "n, m = 4, 5  # example dimensions\n",
        "\n",
        "# Create the matrix\n",
        "X = np.random.rand(n, m)  # random values between 0 and 1\n",
        "\n",
        "# First column\n",
        "first_col = X[:, 0]\n",
        "\n",
        "# Compute statistics\n",
        "print(\"Matrix X:\\n\", X)\n",
        "print(\"First column:\", first_col)\n",
        "print(\"Sum:\", np.sum(first_col))\n",
        "print(\"Mean:\", np.mean(first_col))\n",
        "print(\"Standard Deviation:\", np.std(first_col))\n",
        "print(\"Variance:\", np.var(first_col))\n",
        "print(\"Max:\", np.max(first_col))\n",
        "print(\"Min:\", np.min(first_col))\n"
      ],
      "metadata": {
        "id": "i_PJh-WyUe-h",
        "colab": {
          "base_uri": "https://localhost:8080/"
        },
        "outputId": "ed5799d6-f8ae-48f2-9090-152f8cc9db7c"
      },
      "execution_count": 14,
      "outputs": [
        {
          "output_type": "stream",
          "name": "stdout",
          "text": [
            "Matrix X:\n",
            " [[0.33524047 0.04003867 0.09050376 0.38374511 0.81646423]\n",
            " [0.74887305 0.93368662 0.19080163 0.22909315 0.25932088]\n",
            " [0.4960111  0.25473036 0.25083149 0.66187226 0.2755273 ]\n",
            " [0.33474996 0.20168359 0.52325004 0.84692376 0.73990626]]\n",
            "First column: [0.33524047 0.74887305 0.4960111  0.33474996]\n",
            "Sum: 1.9148745752736698\n",
            "Mean: 0.47871864381841744\n",
            "Standard Deviation: 0.16925971349161859\n",
            "Variance: 0.028648850611264813\n",
            "Max: 0.7488730523348439\n",
            "Min: 0.3347499578397388\n"
          ]
        }
      ]
    },
    {
      "cell_type": "markdown",
      "source": [
        "###Task: Create a numpy matrix X as n * m, print the sum, mean, std, var, max, min of the 1st column of it."
      ],
      "metadata": {
        "id": "MUPGzrQIS8SJ"
      }
    },
    {
      "cell_type": "code",
      "source": [
        "# your code is here\n",
        "# Create a sample matrix\n",
        "X = np.random.randint(1, 10, (3, 4))\n",
        "print(\"Matrix X:\\n\", X)\n",
        "\n",
        "# Extract the first column\n",
        "first_col = X[:, 0]\n",
        "\n",
        "# Compute statistics on the first column\n",
        "print(\"First column:\", first_col)\n",
        "print(\"Sum:\", np.sum(first_col))\n",
        "print(\"Mean:\", np.mean(first_col))\n",
        "print(\"Standard Deviation:\", np.std(first_col))\n",
        "print(\"Variance:\", np.var(first_col))\n",
        "print(\"Max:\", np.max(first_col))\n",
        "print(\"Min:\", np.min(first_col))\n",
        "\n"
      ],
      "metadata": {
        "id": "d9ufG5uWUfd0",
        "colab": {
          "base_uri": "https://localhost:8080/"
        },
        "outputId": "c850f682-5307-4994-f5bb-8566decbf11c"
      },
      "execution_count": 13,
      "outputs": [
        {
          "output_type": "stream",
          "name": "stdout",
          "text": [
            "Matrix X:\n",
            " [[9 2 4 2]\n",
            " [2 4 5 4]\n",
            " [3 3 1 1]]\n",
            "First column: [9 2 3]\n",
            "Sum: 14\n",
            "Mean: 4.666666666666667\n",
            "Standard Deviation: 3.0912061651652345\n",
            "Variance: 9.555555555555555\n",
            "Max: 9\n",
            "Min: 2\n"
          ]
        }
      ]
    },
    {
      "cell_type": "markdown",
      "source": [
        "## Array Linear Algebra"
      ],
      "metadata": {
        "id": "fl9WXnhTTAol"
      }
    },
    {
      "cell_type": "markdown",
      "source": [
        "###Task: Create two numpy matrix X with 2 * 2, and Y with 2 * 2. Practice Linear Algebra operations, such as +, -, *, .T, @, etc."
      ],
      "metadata": {
        "id": "Ll4gLDnfSOTv"
      }
    },
    {
      "cell_type": "code",
      "source": [
        "# your code is here\n",
        "\n",
        "\n",
        "# Create two 2x2 matrices\n",
        "X = np.array([[1, 2],\n",
        "              [3, 4]])\n",
        "\n",
        "Y = np.array([[5, 6],\n",
        "              [7, 8]])\n",
        "\n",
        "# Linear algebra operations\n",
        "print(\"Matrix X:\\n\", X)\n",
        "print(\"Matrix Y:\\n\", Y)\n",
        "\n",
        "print(\"\\nAddition (X + Y):\\n\", X + Y)\n",
        "print(\"Subtraction (X - Y):\\n\", X - Y)\n",
        "print(\"Element-wise Multiplication (X * Y):\\n\", X * Y)\n",
        "print(\"Transpose of X (X.T):\\n\", X.T)\n",
        "print(\"Transpose of Y (Y.T):\\n\", Y.T)\n",
        "print(\"Matrix Multiplication (X @ Y):\\n\", X @ Y)\n",
        "print(\"Matrix Multiplication (np.dot(X, Y)):\\n\", np.dot(X, Y))\n"
      ],
      "metadata": {
        "id": "T3K8rFcMUgPT",
        "colab": {
          "base_uri": "https://localhost:8080/"
        },
        "outputId": "f341aa33-d684-4e5a-8a1c-7563264ec94f"
      },
      "execution_count": 15,
      "outputs": [
        {
          "output_type": "stream",
          "name": "stdout",
          "text": [
            "Matrix X:\n",
            " [[1 2]\n",
            " [3 4]]\n",
            "Matrix Y:\n",
            " [[5 6]\n",
            " [7 8]]\n",
            "\n",
            "Addition (X + Y):\n",
            " [[ 6  8]\n",
            " [10 12]]\n",
            "Subtraction (X - Y):\n",
            " [[-4 -4]\n",
            " [-4 -4]]\n",
            "Element-wise Multiplication (X * Y):\n",
            " [[ 5 12]\n",
            " [21 32]]\n",
            "Transpose of X (X.T):\n",
            " [[1 3]\n",
            " [2 4]]\n",
            "Transpose of Y (Y.T):\n",
            " [[5 7]\n",
            " [6 8]]\n",
            "Matrix Multiplication (X @ Y):\n",
            " [[19 22]\n",
            " [43 50]]\n",
            "Matrix Multiplication (np.dot(X, Y)):\n",
            " [[19 22]\n",
            " [43 50]]\n"
          ]
        }
      ]
    }
  ]
}