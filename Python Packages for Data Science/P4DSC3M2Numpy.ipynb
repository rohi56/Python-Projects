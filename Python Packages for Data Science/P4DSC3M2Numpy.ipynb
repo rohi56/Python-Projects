{
  "nbformat": 4,
  "nbformat_minor": 0,
  "metadata": {
    "colab": {
      "provenance": [],
      "collapsed_sections": [
        "ysARIqqZwxU5",
        "cdy21UD6S2ia",
        "TRPlR-tWS6lp",
        "WDIKu49oTEFE",
        "p6u86UlOTI1C",
        "B6rFlT3fTNAu",
        "A2MA3SkbTQsC",
        "5xzh9TiFTXe5"
      ]
    },
    "kernelspec": {
      "name": "python3",
      "display_name": "Python 3"
    },
    "language_info": {
      "name": "python"
    }
  },
  "cells": [
    {
      "cell_type": "markdown",
      "source": [
        "# Introduction\n",
        "\n",
        "Now we have learned all the basic knowledge needed to utilize powerful Python packages for Data Science. We start with the NumPy (Numerical Python) package. Numpy is one of the core packages for numerical computing in Python.\n",
        "\n",
        "Let's get started!"
      ],
      "metadata": {
        "id": "ysARIqqZwxU5"
      }
    },
    {
      "cell_type": "code",
      "execution_count": 1,
      "metadata": {
        "id": "h_opLfCBwkJn"
      },
      "outputs": [],
      "source": [
        "# Let's import the package\n",
        "\n",
        "import numpy as np"
      ]
    },
    {
      "cell_type": "markdown",
      "source": [
        "# Basic Arrays"
      ],
      "metadata": {
        "id": "cdy21UD6S2ia"
      }
    },
    {
      "cell_type": "code",
      "source": [
        "np.array([0, 1, 2, 3])"
      ],
      "metadata": {
        "id": "qT_G90j0TsAo",
        "colab": {
          "base_uri": "https://localhost:8080/"
        },
        "outputId": "c1d0943f-3e33-40e9-a397-6831538ba770"
      },
      "execution_count": 2,
      "outputs": [
        {
          "output_type": "execute_result",
          "data": {
            "text/plain": [
              "array([0, 1, 2, 3])"
            ]
          },
          "metadata": {},
          "execution_count": 2
        }
      ]
    },
    {
      "cell_type": "code",
      "source": [
        "a = np.array([0, 1, 2, 3])\n",
        "type(a)"
      ],
      "metadata": {
        "id": "D8q2gj-uTzg3",
        "colab": {
          "base_uri": "https://localhost:8080/"
        },
        "outputId": "902513e3-6a14-48ad-ccc6-965e15a43212"
      },
      "execution_count": 3,
      "outputs": [
        {
          "output_type": "execute_result",
          "data": {
            "text/plain": [
              "numpy.ndarray"
            ]
          },
          "metadata": {},
          "execution_count": 3
        }
      ]
    },
    {
      "cell_type": "code",
      "source": [
        "a.shape"
      ],
      "metadata": {
        "id": "-W9zZgvHT6PB",
        "colab": {
          "base_uri": "https://localhost:8080/"
        },
        "outputId": "a105e619-34d0-4557-d5eb-544c335c8be8"
      },
      "execution_count": 4,
      "outputs": [
        {
          "output_type": "execute_result",
          "data": {
            "text/plain": [
              "(4,)"
            ]
          },
          "metadata": {},
          "execution_count": 4
        }
      ]
    },
    {
      "cell_type": "code",
      "source": [
        "a[0]"
      ],
      "metadata": {
        "id": "1__7vhkiUHLJ",
        "colab": {
          "base_uri": "https://localhost:8080/"
        },
        "outputId": "61373cf2-be64-48c9-b04b-afafdc496b33"
      },
      "execution_count": 11,
      "outputs": [
        {
          "output_type": "execute_result",
          "data": {
            "text/plain": [
              "np.int64(0)"
            ]
          },
          "metadata": {},
          "execution_count": 11
        }
      ]
    },
    {
      "cell_type": "code",
      "source": [
        "a[3]"
      ],
      "metadata": {
        "id": "GdZO7gkaUJ7R",
        "colab": {
          "base_uri": "https://localhost:8080/"
        },
        "outputId": "209f1f14-557b-47e4-ac13-5c119eb28366"
      },
      "execution_count": 12,
      "outputs": [
        {
          "output_type": "execute_result",
          "data": {
            "text/plain": [
              "np.int64(3)"
            ]
          },
          "metadata": {},
          "execution_count": 12
        }
      ]
    },
    {
      "cell_type": "code",
      "source": [
        "a[4]"
      ],
      "metadata": {
        "id": "9LJDd7bMULwj",
        "colab": {
          "base_uri": "https://localhost:8080/",
          "height": 141
        },
        "outputId": "b5289956-fb32-436d-e3f3-9e51cbb5e478"
      },
      "execution_count": 7,
      "outputs": [
        {
          "output_type": "error",
          "ename": "IndexError",
          "evalue": "index 4 is out of bounds for axis 0 with size 4",
          "traceback": [
            "\u001b[0;31m---------------------------------------------------------------------------\u001b[0m",
            "\u001b[0;31mIndexError\u001b[0m                                Traceback (most recent call last)",
            "\u001b[0;32m<ipython-input-7-ed40d1f49c42>\u001b[0m in \u001b[0;36m<cell line: 0>\u001b[0;34m()\u001b[0m\n\u001b[0;32m----> 1\u001b[0;31m \u001b[0ma\u001b[0m\u001b[0;34m[\u001b[0m\u001b[0;36m4\u001b[0m\u001b[0;34m]\u001b[0m\u001b[0;34m\u001b[0m\u001b[0;34m\u001b[0m\u001b[0m\n\u001b[0m",
            "\u001b[0;31mIndexError\u001b[0m: index 4 is out of bounds for axis 0 with size 4"
          ]
        }
      ]
    },
    {
      "cell_type": "code",
      "source": [
        "a[-1]"
      ],
      "metadata": {
        "id": "ZqrBR812UNFo",
        "colab": {
          "base_uri": "https://localhost:8080/"
        },
        "outputId": "e1f2dc58-350a-4ed1-abdb-afcb63121de0"
      },
      "execution_count": 8,
      "outputs": [
        {
          "output_type": "execute_result",
          "data": {
            "text/plain": [
              "np.int64(3)"
            ]
          },
          "metadata": {},
          "execution_count": 8
        }
      ]
    },
    {
      "cell_type": "code",
      "source": [
        "a[-4]"
      ],
      "metadata": {
        "id": "iYemHPMbUTpV",
        "colab": {
          "base_uri": "https://localhost:8080/"
        },
        "outputId": "d1a54b9f-3586-410e-d907-f9300be40238"
      },
      "execution_count": 13,
      "outputs": [
        {
          "output_type": "execute_result",
          "data": {
            "text/plain": [
              "np.int64(0)"
            ]
          },
          "metadata": {},
          "execution_count": 13
        }
      ]
    },
    {
      "cell_type": "code",
      "source": [
        "a[-5]"
      ],
      "metadata": {
        "id": "CXs8EcfhUPst",
        "colab": {
          "base_uri": "https://localhost:8080/",
          "height": 141
        },
        "outputId": "00c6e2d2-0dc0-4b76-b19c-c3f865096ee1"
      },
      "execution_count": 10,
      "outputs": [
        {
          "output_type": "error",
          "ename": "IndexError",
          "evalue": "index -5 is out of bounds for axis 0 with size 4",
          "traceback": [
            "\u001b[0;31m---------------------------------------------------------------------------\u001b[0m",
            "\u001b[0;31mIndexError\u001b[0m                                Traceback (most recent call last)",
            "\u001b[0;32m<ipython-input-10-dadeaba0f55e>\u001b[0m in \u001b[0;36m<cell line: 0>\u001b[0;34m()\u001b[0m\n\u001b[0;32m----> 1\u001b[0;31m \u001b[0ma\u001b[0m\u001b[0;34m[\u001b[0m\u001b[0;34m-\u001b[0m\u001b[0;36m5\u001b[0m\u001b[0;34m]\u001b[0m\u001b[0;34m\u001b[0m\u001b[0;34m\u001b[0m\u001b[0m\n\u001b[0m",
            "\u001b[0;31mIndexError\u001b[0m: index -5 is out of bounds for axis 0 with size 4"
          ]
        }
      ]
    },
    {
      "cell_type": "code",
      "source": [
        "a[0:]"
      ],
      "metadata": {
        "id": "6Xu8p1z_UWYp",
        "colab": {
          "base_uri": "https://localhost:8080/"
        },
        "outputId": "0f1e8ffa-90df-40d2-e5de-b95e1ec4f884"
      },
      "execution_count": 14,
      "outputs": [
        {
          "output_type": "execute_result",
          "data": {
            "text/plain": [
              "array([0, 1, 2, 3])"
            ]
          },
          "metadata": {},
          "execution_count": 14
        }
      ]
    },
    {
      "cell_type": "code",
      "source": [
        "a[1:]"
      ],
      "metadata": {
        "id": "ig7w1yPwUaPO",
        "colab": {
          "base_uri": "https://localhost:8080/"
        },
        "outputId": "499ecc88-37a6-4c58-85f9-c20ec07ec1af"
      },
      "execution_count": 15,
      "outputs": [
        {
          "output_type": "execute_result",
          "data": {
            "text/plain": [
              "array([1, 2, 3])"
            ]
          },
          "metadata": {},
          "execution_count": 15
        }
      ]
    },
    {
      "cell_type": "code",
      "source": [
        "a[:1]"
      ],
      "metadata": {
        "id": "X22hIaADUblD",
        "colab": {
          "base_uri": "https://localhost:8080/"
        },
        "outputId": "a0e1d9b3-cb93-4b9a-a4ab-5dbe3eae8949"
      },
      "execution_count": 16,
      "outputs": [
        {
          "output_type": "execute_result",
          "data": {
            "text/plain": [
              "array([0])"
            ]
          },
          "metadata": {},
          "execution_count": 16
        }
      ]
    },
    {
      "cell_type": "code",
      "source": [
        "a[[-1]]"
      ],
      "metadata": {
        "id": "zMf4REOIUdcS",
        "colab": {
          "base_uri": "https://localhost:8080/"
        },
        "outputId": "9c9b7963-e73f-4358-8e6e-797bb8edb26b"
      },
      "execution_count": 17,
      "outputs": [
        {
          "output_type": "execute_result",
          "data": {
            "text/plain": [
              "array([3])"
            ]
          },
          "metadata": {},
          "execution_count": 17
        }
      ]
    },
    {
      "cell_type": "code",
      "source": [
        "a[:-1]"
      ],
      "metadata": {
        "id": "8jBJ3MT3UgMc",
        "colab": {
          "base_uri": "https://localhost:8080/"
        },
        "outputId": "8cfba1ba-eaac-4763-af28-e5ea5fb4670d"
      },
      "execution_count": 18,
      "outputs": [
        {
          "output_type": "execute_result",
          "data": {
            "text/plain": [
              "array([0, 1, 2])"
            ]
          },
          "metadata": {},
          "execution_count": 18
        }
      ]
    },
    {
      "cell_type": "code",
      "source": [
        "a[::2]"
      ],
      "metadata": {
        "id": "QhKkRUdQUk72",
        "colab": {
          "base_uri": "https://localhost:8080/"
        },
        "outputId": "1fdfcf59-9d0f-4888-8362-0d61f8a58428"
      },
      "execution_count": 19,
      "outputs": [
        {
          "output_type": "execute_result",
          "data": {
            "text/plain": [
              "array([0, 2])"
            ]
          },
          "metadata": {},
          "execution_count": 19
        }
      ]
    },
    {
      "cell_type": "code",
      "source": [
        "a[1::2]"
      ],
      "metadata": {
        "id": "SgQak2VUUndj",
        "colab": {
          "base_uri": "https://localhost:8080/"
        },
        "outputId": "dd69319d-cbaf-40f0-a08e-30a130baf85c"
      },
      "execution_count": 20,
      "outputs": [
        {
          "output_type": "execute_result",
          "data": {
            "text/plain": [
              "array([1, 3])"
            ]
          },
          "metadata": {},
          "execution_count": 20
        }
      ]
    },
    {
      "cell_type": "markdown",
      "source": [
        "# Array Types"
      ],
      "metadata": {
        "id": "TRPlR-tWS6lp"
      }
    },
    {
      "cell_type": "code",
      "source": [
        "a = np.array([0, 1, 2, 3])\n",
        "b = np.array([0.0, 0.1, 0.2, 0.3])"
      ],
      "metadata": {
        "id": "e3wQCOaUUulQ"
      },
      "execution_count": 21,
      "outputs": []
    },
    {
      "cell_type": "code",
      "source": [
        "type(a)"
      ],
      "metadata": {
        "id": "-0GWXWRMVCh5",
        "colab": {
          "base_uri": "https://localhost:8080/"
        },
        "outputId": "9ad0baff-3bf2-43f5-90b0-81714a6dd2f5"
      },
      "execution_count": 22,
      "outputs": [
        {
          "output_type": "execute_result",
          "data": {
            "text/plain": [
              "numpy.ndarray"
            ]
          },
          "metadata": {},
          "execution_count": 22
        }
      ]
    },
    {
      "cell_type": "code",
      "source": [
        "a.dtype"
      ],
      "metadata": {
        "id": "PaZ96Y5nVFXE",
        "colab": {
          "base_uri": "https://localhost:8080/"
        },
        "outputId": "09eec7e0-414c-481c-ce02-c6e098f36bf2"
      },
      "execution_count": 23,
      "outputs": [
        {
          "output_type": "execute_result",
          "data": {
            "text/plain": [
              "dtype('int64')"
            ]
          },
          "metadata": {},
          "execution_count": 23
        }
      ]
    },
    {
      "cell_type": "code",
      "source": [
        "type(b)"
      ],
      "metadata": {
        "id": "BeUQTcQBVHHT",
        "colab": {
          "base_uri": "https://localhost:8080/"
        },
        "outputId": "e1c51214-2c91-4bf8-9b9f-7564839881bb"
      },
      "execution_count": 24,
      "outputs": [
        {
          "output_type": "execute_result",
          "data": {
            "text/plain": [
              "numpy.ndarray"
            ]
          },
          "metadata": {},
          "execution_count": 24
        }
      ]
    },
    {
      "cell_type": "code",
      "source": [
        "b.dtype"
      ],
      "metadata": {
        "id": "G0OeGw_sVIYT",
        "colab": {
          "base_uri": "https://localhost:8080/"
        },
        "outputId": "0a978a80-79a2-4c0d-a966-5041ffa305b7"
      },
      "execution_count": 25,
      "outputs": [
        {
          "output_type": "execute_result",
          "data": {
            "text/plain": [
              "dtype('float64')"
            ]
          },
          "metadata": {},
          "execution_count": 25
        }
      ]
    },
    {
      "cell_type": "code",
      "source": [
        "c = np.array([0, 1.1, 2, 3.8], dtype = float)\n",
        "c"
      ],
      "metadata": {
        "id": "DcNO_0WAVKtZ",
        "colab": {
          "base_uri": "https://localhost:8080/"
        },
        "outputId": "432ee840-1f33-497a-93ee-0262e410a1a3"
      },
      "execution_count": 26,
      "outputs": [
        {
          "output_type": "execute_result",
          "data": {
            "text/plain": [
              "array([0. , 1.1, 2. , 3.8])"
            ]
          },
          "metadata": {},
          "execution_count": 26
        }
      ]
    },
    {
      "cell_type": "code",
      "source": [
        "c.dtype"
      ],
      "metadata": {
        "id": "qTKNgA4GVVN7",
        "colab": {
          "base_uri": "https://localhost:8080/"
        },
        "outputId": "64bb6f7e-52c4-41cc-f87a-34703bd51a8d"
      },
      "execution_count": 27,
      "outputs": [
        {
          "output_type": "execute_result",
          "data": {
            "text/plain": [
              "dtype('float64')"
            ]
          },
          "metadata": {},
          "execution_count": 27
        }
      ]
    },
    {
      "cell_type": "code",
      "source": [
        "d = np.array([0, 1.1, 2, 3.8], dtype = int)\n",
        "d"
      ],
      "metadata": {
        "id": "8kVjZqz6VXkh",
        "colab": {
          "base_uri": "https://localhost:8080/"
        },
        "outputId": "082fcbe4-8a44-4d54-8f81-f4efa135ceb2"
      },
      "execution_count": 28,
      "outputs": [
        {
          "output_type": "execute_result",
          "data": {
            "text/plain": [
              "array([0, 1, 2, 3])"
            ]
          },
          "metadata": {},
          "execution_count": 28
        }
      ]
    },
    {
      "cell_type": "code",
      "source": [
        "d.dtype"
      ],
      "metadata": {
        "id": "D-TUlBroVhzR",
        "colab": {
          "base_uri": "https://localhost:8080/"
        },
        "outputId": "7e97b098-5d9b-4990-ccd1-90639147877b"
      },
      "execution_count": 29,
      "outputs": [
        {
          "output_type": "execute_result",
          "data": {
            "text/plain": [
              "dtype('int64')"
            ]
          },
          "metadata": {},
          "execution_count": 29
        }
      ]
    },
    {
      "cell_type": "markdown",
      "source": [
        "# Dimensions and Shapes"
      ],
      "metadata": {
        "id": "WDIKu49oTEFE"
      }
    },
    {
      "cell_type": "code",
      "source": [
        "a = np.array([0, 1, 2, 3])"
      ],
      "metadata": {
        "id": "RVcv4NQtVnLq"
      },
      "execution_count": 30,
      "outputs": []
    },
    {
      "cell_type": "code",
      "source": [
        "a.shape"
      ],
      "metadata": {
        "id": "teALCTFGVuF5",
        "colab": {
          "base_uri": "https://localhost:8080/"
        },
        "outputId": "6c2ed4ec-2d9d-4fd6-8388-fa1958bc9cd2"
      },
      "execution_count": 31,
      "outputs": [
        {
          "output_type": "execute_result",
          "data": {
            "text/plain": [
              "(4,)"
            ]
          },
          "metadata": {},
          "execution_count": 31
        }
      ]
    },
    {
      "cell_type": "code",
      "source": [
        "A = np.array([\n",
        "    [0, 1, 2, 3],\n",
        "    [4, 5, 6, 7],\n",
        "    [8, 9, 10, 11]\n",
        "])\n",
        "A"
      ],
      "metadata": {
        "id": "VaBcKeFIVvZQ",
        "colab": {
          "base_uri": "https://localhost:8080/"
        },
        "outputId": "ff9ea213-85ab-485b-e94f-1c0cb9635a02"
      },
      "execution_count": 32,
      "outputs": [
        {
          "output_type": "execute_result",
          "data": {
            "text/plain": [
              "array([[ 0,  1,  2,  3],\n",
              "       [ 4,  5,  6,  7],\n",
              "       [ 8,  9, 10, 11]])"
            ]
          },
          "metadata": {},
          "execution_count": 32
        }
      ]
    },
    {
      "cell_type": "code",
      "source": [
        "A.shape"
      ],
      "metadata": {
        "id": "_zYVmt6CWGGI",
        "colab": {
          "base_uri": "https://localhost:8080/"
        },
        "outputId": "ea3f8ebe-c14e-4b21-d377-a064ee499186"
      },
      "execution_count": 33,
      "outputs": [
        {
          "output_type": "execute_result",
          "data": {
            "text/plain": [
              "(3, 4)"
            ]
          },
          "metadata": {},
          "execution_count": 33
        }
      ]
    },
    {
      "cell_type": "code",
      "source": [
        "B = np.array([\n",
        "    [\n",
        "     [0, 1],\n",
        "     [2, 3],\n",
        "     [4, 5]\n",
        "    ],\n",
        "    [\n",
        "\n",
        "     [6, 7],\n",
        "     [8, 9],\n",
        "     [10, 11]\n",
        "    ]\n",
        "])\n",
        "B"
      ],
      "metadata": {
        "id": "OOoNhqnoWM6z",
        "colab": {
          "base_uri": "https://localhost:8080/"
        },
        "outputId": "fcf0a51e-3bc6-4c9f-efbd-481fb6787a20"
      },
      "execution_count": 34,
      "outputs": [
        {
          "output_type": "execute_result",
          "data": {
            "text/plain": [
              "array([[[ 0,  1],\n",
              "        [ 2,  3],\n",
              "        [ 4,  5]],\n",
              "\n",
              "       [[ 6,  7],\n",
              "        [ 8,  9],\n",
              "        [10, 11]]])"
            ]
          },
          "metadata": {},
          "execution_count": 34
        }
      ]
    },
    {
      "cell_type": "code",
      "source": [
        "B.shape"
      ],
      "metadata": {
        "id": "YwIGHCdCWpQI",
        "colab": {
          "base_uri": "https://localhost:8080/"
        },
        "outputId": "7c45def1-ca0e-4638-ffa0-b65216b5b5fc"
      },
      "execution_count": 35,
      "outputs": [
        {
          "output_type": "execute_result",
          "data": {
            "text/plain": [
              "(2, 3, 2)"
            ]
          },
          "metadata": {},
          "execution_count": 35
        }
      ]
    },
    {
      "cell_type": "code",
      "source": [
        "B.ndim"
      ],
      "metadata": {
        "id": "sBfvNMKXW5z-",
        "colab": {
          "base_uri": "https://localhost:8080/"
        },
        "outputId": "04969df8-88de-4b00-d624-cd077a023110"
      },
      "execution_count": 36,
      "outputs": [
        {
          "output_type": "execute_result",
          "data": {
            "text/plain": [
              "3"
            ]
          },
          "metadata": {},
          "execution_count": 36
        }
      ]
    },
    {
      "cell_type": "code",
      "source": [
        "B.size"
      ],
      "metadata": {
        "id": "BVA7egr9W7xS",
        "colab": {
          "base_uri": "https://localhost:8080/"
        },
        "outputId": "4cca855e-f104-4163-bc33-c211fdf862a0"
      },
      "execution_count": 37,
      "outputs": [
        {
          "output_type": "execute_result",
          "data": {
            "text/plain": [
              "12"
            ]
          },
          "metadata": {},
          "execution_count": 37
        }
      ]
    },
    {
      "cell_type": "markdown",
      "source": [
        "# Indexing and Slicing of Matrices"
      ],
      "metadata": {
        "id": "p6u86UlOTI1C"
      }
    },
    {
      "cell_type": "code",
      "source": [
        "A = np.array([\n",
        "    [0, 1, 2, 3],\n",
        "    [4, 5, 6, 7]\n",
        "])\n",
        "A"
      ],
      "metadata": {
        "id": "HuyHfVHDXTQL",
        "colab": {
          "base_uri": "https://localhost:8080/"
        },
        "outputId": "ec1288c0-0ec9-4b0a-a338-d13d6c8932f3"
      },
      "execution_count": 38,
      "outputs": [
        {
          "output_type": "execute_result",
          "data": {
            "text/plain": [
              "array([[0, 1, 2, 3],\n",
              "       [4, 5, 6, 7]])"
            ]
          },
          "metadata": {},
          "execution_count": 38
        }
      ]
    },
    {
      "cell_type": "code",
      "source": [
        "A.shape"
      ],
      "metadata": {
        "colab": {
          "base_uri": "https://localhost:8080/"
        },
        "id": "Vi7ZAl0OHmRH",
        "outputId": "cce0aa11-9d98-43ad-95a2-6a21a69229e4"
      },
      "execution_count": 39,
      "outputs": [
        {
          "output_type": "execute_result",
          "data": {
            "text/plain": [
              "(2, 4)"
            ]
          },
          "metadata": {},
          "execution_count": 39
        }
      ]
    },
    {
      "cell_type": "code",
      "source": [
        "A[0]"
      ],
      "metadata": {
        "id": "11KGRdLOXhsM",
        "colab": {
          "base_uri": "https://localhost:8080/"
        },
        "outputId": "d3aae116-2857-44fd-eeec-78d066fd3c8a"
      },
      "execution_count": 40,
      "outputs": [
        {
          "output_type": "execute_result",
          "data": {
            "text/plain": [
              "array([0, 1, 2, 3])"
            ]
          },
          "metadata": {},
          "execution_count": 40
        }
      ]
    },
    {
      "cell_type": "code",
      "source": [
        "A[1]"
      ],
      "metadata": {
        "id": "FxJ_LKzkXjWb",
        "colab": {
          "base_uri": "https://localhost:8080/"
        },
        "outputId": "e94b71fb-5c6a-4afc-b497-dbe953505edf"
      },
      "execution_count": 41,
      "outputs": [
        {
          "output_type": "execute_result",
          "data": {
            "text/plain": [
              "array([4, 5, 6, 7])"
            ]
          },
          "metadata": {},
          "execution_count": 41
        }
      ]
    },
    {
      "cell_type": "code",
      "source": [
        "A[:0]"
      ],
      "metadata": {
        "id": "jIFvmhIoXkn5",
        "colab": {
          "base_uri": "https://localhost:8080/"
        },
        "outputId": "756c9ce6-547d-443b-e39c-ef79723357a2"
      },
      "execution_count": 42,
      "outputs": [
        {
          "output_type": "execute_result",
          "data": {
            "text/plain": [
              "array([], shape=(0, 4), dtype=int64)"
            ]
          },
          "metadata": {},
          "execution_count": 42
        }
      ]
    },
    {
      "cell_type": "code",
      "source": [
        "A[:1]"
      ],
      "metadata": {
        "id": "gQV-9oFdXqbk",
        "colab": {
          "base_uri": "https://localhost:8080/"
        },
        "outputId": "e39c5bd8-dafa-45d9-e7db-90bd48001d7d"
      },
      "execution_count": 43,
      "outputs": [
        {
          "output_type": "execute_result",
          "data": {
            "text/plain": [
              "array([[0, 1, 2, 3]])"
            ]
          },
          "metadata": {},
          "execution_count": 43
        }
      ]
    },
    {
      "cell_type": "code",
      "source": [
        "A[:,0]"
      ],
      "metadata": {
        "id": "ig5ipbq9Xzyy",
        "colab": {
          "base_uri": "https://localhost:8080/"
        },
        "outputId": "7d988982-1c2c-491b-d90b-bb46487e9c57"
      },
      "execution_count": 44,
      "outputs": [
        {
          "output_type": "execute_result",
          "data": {
            "text/plain": [
              "array([0, 4])"
            ]
          },
          "metadata": {},
          "execution_count": 44
        }
      ]
    },
    {
      "cell_type": "code",
      "source": [
        "A[:,3]"
      ],
      "metadata": {
        "id": "f_w5STmYX9UB",
        "colab": {
          "base_uri": "https://localhost:8080/"
        },
        "outputId": "bdc7138c-d0aa-4500-97a6-ed6042a89b2c"
      },
      "execution_count": 45,
      "outputs": [
        {
          "output_type": "execute_result",
          "data": {
            "text/plain": [
              "array([3, 7])"
            ]
          },
          "metadata": {},
          "execution_count": 45
        }
      ]
    },
    {
      "cell_type": "code",
      "source": [
        "A[0,0]"
      ],
      "metadata": {
        "id": "9YoztU9YYAlb",
        "colab": {
          "base_uri": "https://localhost:8080/"
        },
        "outputId": "03efcd94-23f7-488b-eb83-b8d3035b86ff"
      },
      "execution_count": 46,
      "outputs": [
        {
          "output_type": "execute_result",
          "data": {
            "text/plain": [
              "np.int64(0)"
            ]
          },
          "metadata": {},
          "execution_count": 46
        }
      ]
    },
    {
      "cell_type": "code",
      "source": [
        "A[1, 3]"
      ],
      "metadata": {
        "id": "k7aBm0LzYDmr",
        "colab": {
          "base_uri": "https://localhost:8080/"
        },
        "outputId": "9d7735b8-e9cf-4178-b942-cbfbc45ec2de"
      },
      "execution_count": 48,
      "outputs": [
        {
          "output_type": "execute_result",
          "data": {
            "text/plain": [
              "np.int64(7)"
            ]
          },
          "metadata": {},
          "execution_count": 48
        }
      ]
    },
    {
      "cell_type": "code",
      "source": [
        "A[:,1:3]"
      ],
      "metadata": {
        "id": "_wD4Bs0OYJSz",
        "colab": {
          "base_uri": "https://localhost:8080/"
        },
        "outputId": "de1bb729-05c9-4e85-9255-e63732506929"
      },
      "execution_count": 49,
      "outputs": [
        {
          "output_type": "execute_result",
          "data": {
            "text/plain": [
              "array([[1, 2],\n",
              "       [5, 6]])"
            ]
          },
          "metadata": {},
          "execution_count": 49
        }
      ]
    },
    {
      "cell_type": "code",
      "source": [
        "A[0] = np.array([8, 9, 10, 11])\n",
        "A"
      ],
      "metadata": {
        "id": "aVgozJiBYYWU",
        "colab": {
          "base_uri": "https://localhost:8080/"
        },
        "outputId": "c5ea4ef6-1032-430e-a440-6aafee277725"
      },
      "execution_count": 50,
      "outputs": [
        {
          "output_type": "execute_result",
          "data": {
            "text/plain": [
              "array([[ 8,  9, 10, 11],\n",
              "       [ 4,  5,  6,  7]])"
            ]
          },
          "metadata": {},
          "execution_count": 50
        }
      ]
    },
    {
      "cell_type": "code",
      "source": [
        "A[1] = 98\n",
        "A"
      ],
      "metadata": {
        "id": "8JxjTdXCYkqy",
        "colab": {
          "base_uri": "https://localhost:8080/"
        },
        "outputId": "342f5add-7841-49d6-c805-439bb63acb94"
      },
      "execution_count": 51,
      "outputs": [
        {
          "output_type": "execute_result",
          "data": {
            "text/plain": [
              "array([[ 8,  9, 10, 11],\n",
              "       [98, 98, 98, 98]])"
            ]
          },
          "metadata": {},
          "execution_count": 51
        }
      ]
    },
    {
      "cell_type": "markdown",
      "source": [
        "# Statistics"
      ],
      "metadata": {
        "id": "B6rFlT3fTNAu"
      }
    },
    {
      "cell_type": "code",
      "source": [
        "a = np.array([0, 1, 2, 4])\n",
        "a"
      ],
      "metadata": {
        "id": "PbVQxkYpe2vC",
        "colab": {
          "base_uri": "https://localhost:8080/"
        },
        "outputId": "748f8998-317d-41aa-94e3-a5b2fa2b9e2c"
      },
      "execution_count": 52,
      "outputs": [
        {
          "output_type": "execute_result",
          "data": {
            "text/plain": [
              "array([0, 1, 2, 4])"
            ]
          },
          "metadata": {},
          "execution_count": 52
        }
      ]
    },
    {
      "cell_type": "code",
      "source": [
        "a.sum()"
      ],
      "metadata": {
        "id": "T-qlW8r6fGVM",
        "colab": {
          "base_uri": "https://localhost:8080/"
        },
        "outputId": "042163f1-8912-446e-cb33-940e6273118a"
      },
      "execution_count": 53,
      "outputs": [
        {
          "output_type": "execute_result",
          "data": {
            "text/plain": [
              "np.int64(7)"
            ]
          },
          "metadata": {},
          "execution_count": 53
        }
      ]
    },
    {
      "cell_type": "code",
      "source": [
        "a.mean()"
      ],
      "metadata": {
        "id": "sAwH1F8_fITP",
        "colab": {
          "base_uri": "https://localhost:8080/"
        },
        "outputId": "4a21dd1d-1d0c-4e38-dbba-3e3059d73bbc"
      },
      "execution_count": 54,
      "outputs": [
        {
          "output_type": "execute_result",
          "data": {
            "text/plain": [
              "np.float64(1.75)"
            ]
          },
          "metadata": {},
          "execution_count": 54
        }
      ]
    },
    {
      "cell_type": "code",
      "source": [
        "a.std()"
      ],
      "metadata": {
        "id": "j6x5kZqhfJi7",
        "colab": {
          "base_uri": "https://localhost:8080/"
        },
        "outputId": "51b855ff-ca04-4c81-b8d6-e30699df0eac"
      },
      "execution_count": 55,
      "outputs": [
        {
          "output_type": "execute_result",
          "data": {
            "text/plain": [
              "np.float64(1.479019945774904)"
            ]
          },
          "metadata": {},
          "execution_count": 55
        }
      ]
    },
    {
      "cell_type": "code",
      "source": [
        "a.var()"
      ],
      "metadata": {
        "id": "nu-qU5AxfKuA",
        "colab": {
          "base_uri": "https://localhost:8080/"
        },
        "outputId": "34656265-e5e0-45b5-949c-54a1df8995b5"
      },
      "execution_count": 56,
      "outputs": [
        {
          "output_type": "execute_result",
          "data": {
            "text/plain": [
              "np.float64(2.1875)"
            ]
          },
          "metadata": {},
          "execution_count": 56
        }
      ]
    },
    {
      "cell_type": "code",
      "source": [
        "a.max()"
      ],
      "metadata": {
        "id": "0EWzB2wpfUVK",
        "colab": {
          "base_uri": "https://localhost:8080/"
        },
        "outputId": "11a79b16-1b15-4893-f02c-8cd2f08ca8fa"
      },
      "execution_count": 57,
      "outputs": [
        {
          "output_type": "execute_result",
          "data": {
            "text/plain": [
              "np.int64(4)"
            ]
          },
          "metadata": {},
          "execution_count": 57
        }
      ]
    },
    {
      "cell_type": "code",
      "source": [
        "a.min()"
      ],
      "metadata": {
        "id": "txob_7ZzfVps",
        "colab": {
          "base_uri": "https://localhost:8080/"
        },
        "outputId": "f813b729-7421-450f-daaa-04c037b4ffcc"
      },
      "execution_count": 58,
      "outputs": [
        {
          "output_type": "execute_result",
          "data": {
            "text/plain": [
              "np.int64(0)"
            ]
          },
          "metadata": {},
          "execution_count": 58
        }
      ]
    },
    {
      "cell_type": "code",
      "source": [
        "A = np.array([\n",
        "     [0, 1, 2, 3],\n",
        "     [4, 5, 6, 7],\n",
        "     [8, 9, 10 , 11]\n",
        "])\n",
        "A"
      ],
      "metadata": {
        "id": "PXgc5-FLnNgp",
        "colab": {
          "base_uri": "https://localhost:8080/"
        },
        "outputId": "01fe531f-5b9f-4f87-f4de-88adf19b3aca"
      },
      "execution_count": 59,
      "outputs": [
        {
          "output_type": "execute_result",
          "data": {
            "text/plain": [
              "array([[ 0,  1,  2,  3],\n",
              "       [ 4,  5,  6,  7],\n",
              "       [ 8,  9, 10, 11]])"
            ]
          },
          "metadata": {},
          "execution_count": 59
        }
      ]
    },
    {
      "cell_type": "code",
      "source": [
        "A.sum()"
      ],
      "metadata": {
        "id": "2G5FJy09nf0w",
        "colab": {
          "base_uri": "https://localhost:8080/"
        },
        "outputId": "0cb04947-0324-43d4-8b75-d87f68957469"
      },
      "execution_count": 60,
      "outputs": [
        {
          "output_type": "execute_result",
          "data": {
            "text/plain": [
              "np.int64(66)"
            ]
          },
          "metadata": {},
          "execution_count": 60
        }
      ]
    },
    {
      "cell_type": "code",
      "source": [
        "A.mean()"
      ],
      "metadata": {
        "id": "OFLzi2CKnijw",
        "colab": {
          "base_uri": "https://localhost:8080/"
        },
        "outputId": "81f3c120-1737-4780-e25a-f13d619ce2d7"
      },
      "execution_count": 61,
      "outputs": [
        {
          "output_type": "execute_result",
          "data": {
            "text/plain": [
              "np.float64(5.5)"
            ]
          },
          "metadata": {},
          "execution_count": 61
        }
      ]
    },
    {
      "cell_type": "code",
      "source": [
        "A.std()"
      ],
      "metadata": {
        "id": "pJk7hnHenj7Q",
        "colab": {
          "base_uri": "https://localhost:8080/"
        },
        "outputId": "2c115bad-37ce-4868-dd02-2ac46778fe31"
      },
      "execution_count": 62,
      "outputs": [
        {
          "output_type": "execute_result",
          "data": {
            "text/plain": [
              "np.float64(3.452052529534663)"
            ]
          },
          "metadata": {},
          "execution_count": 62
        }
      ]
    },
    {
      "cell_type": "code",
      "source": [
        "A.var()"
      ],
      "metadata": {
        "id": "7crd9D9OnlIm",
        "colab": {
          "base_uri": "https://localhost:8080/"
        },
        "outputId": "30b64c6e-7db0-4a11-ea54-d3c2a312e102"
      },
      "execution_count": 63,
      "outputs": [
        {
          "output_type": "execute_result",
          "data": {
            "text/plain": [
              "np.float64(11.916666666666666)"
            ]
          },
          "metadata": {},
          "execution_count": 63
        }
      ]
    },
    {
      "cell_type": "code",
      "source": [
        "A.max()"
      ],
      "metadata": {
        "id": "R9yY42IWnoeo",
        "colab": {
          "base_uri": "https://localhost:8080/"
        },
        "outputId": "9bb4ef56-4961-4ed2-bdb7-53d7e6e55da0"
      },
      "execution_count": 64,
      "outputs": [
        {
          "output_type": "execute_result",
          "data": {
            "text/plain": [
              "np.int64(11)"
            ]
          },
          "metadata": {},
          "execution_count": 64
        }
      ]
    },
    {
      "cell_type": "code",
      "source": [
        "A.min()"
      ],
      "metadata": {
        "id": "7cbJxEbfnqQr",
        "colab": {
          "base_uri": "https://localhost:8080/"
        },
        "outputId": "250e89ca-e15b-4c69-f9e2-13340fc29445"
      },
      "execution_count": 65,
      "outputs": [
        {
          "output_type": "execute_result",
          "data": {
            "text/plain": [
              "np.int64(0)"
            ]
          },
          "metadata": {},
          "execution_count": 65
        }
      ]
    },
    {
      "cell_type": "code",
      "source": [
        "A.sum(axis=0)"
      ],
      "metadata": {
        "id": "NlcWUGiinrt-",
        "colab": {
          "base_uri": "https://localhost:8080/"
        },
        "outputId": "a120faa0-44a4-4deb-a58d-89202ba98d42"
      },
      "execution_count": 66,
      "outputs": [
        {
          "output_type": "execute_result",
          "data": {
            "text/plain": [
              "array([12, 15, 18, 21])"
            ]
          },
          "metadata": {},
          "execution_count": 66
        }
      ]
    },
    {
      "cell_type": "code",
      "source": [
        "A.sum(axis=1)"
      ],
      "metadata": {
        "id": "bcijKT2tnrkG",
        "colab": {
          "base_uri": "https://localhost:8080/"
        },
        "outputId": "6c80443c-5b98-466a-a9d4-cca2cf5ce439"
      },
      "execution_count": null,
      "outputs": [
        {
          "output_type": "execute_result",
          "data": {
            "text/plain": [
              "array([ 6, 22, 38])"
            ]
          },
          "metadata": {},
          "execution_count": 66
        }
      ]
    },
    {
      "cell_type": "code",
      "source": [
        "A.mean(axis=0)"
      ],
      "metadata": {
        "id": "9sUIr2Amn0yz",
        "colab": {
          "base_uri": "https://localhost:8080/"
        },
        "outputId": "5d95241e-508a-41c6-9c30-9a384e622848"
      },
      "execution_count": 67,
      "outputs": [
        {
          "output_type": "execute_result",
          "data": {
            "text/plain": [
              "array([4., 5., 6., 7.])"
            ]
          },
          "metadata": {},
          "execution_count": 67
        }
      ]
    },
    {
      "cell_type": "code",
      "source": [
        "A.max(axis = 1)"
      ],
      "metadata": {
        "id": "Ta3e4Kr_n45Q",
        "colab": {
          "base_uri": "https://localhost:8080/"
        },
        "outputId": "a513ee5a-d940-4136-8492-2197e85d7a06"
      },
      "execution_count": 68,
      "outputs": [
        {
          "output_type": "execute_result",
          "data": {
            "text/plain": [
              "array([ 3,  7, 11])"
            ]
          },
          "metadata": {},
          "execution_count": 68
        }
      ]
    },
    {
      "cell_type": "markdown",
      "source": [
        "# Linear Algebra"
      ],
      "metadata": {
        "id": "A2MA3SkbTQsC"
      }
    },
    {
      "cell_type": "code",
      "source": [
        "A = np.array([\n",
        "    [0, 1, 2],\n",
        "    [3, 4, 5]\n",
        "])\n",
        "\n",
        "B = np.array([\n",
        "    [6, 7, 8],\n",
        "    [9, 10, 11]\n",
        "])"
      ],
      "metadata": {
        "id": "rkQy7Vu9oC7I"
      },
      "execution_count": 69,
      "outputs": []
    },
    {
      "cell_type": "code",
      "source": [
        "A"
      ],
      "metadata": {
        "id": "153XzaoepiqH",
        "colab": {
          "base_uri": "https://localhost:8080/"
        },
        "outputId": "6bd9e06a-fc8e-422a-8e2e-ed344f3e80f0"
      },
      "execution_count": 70,
      "outputs": [
        {
          "output_type": "execute_result",
          "data": {
            "text/plain": [
              "array([[0, 1, 2],\n",
              "       [3, 4, 5]])"
            ]
          },
          "metadata": {},
          "execution_count": 70
        }
      ]
    },
    {
      "cell_type": "code",
      "source": [
        "B"
      ],
      "metadata": {
        "id": "oWqMoLMVpjec",
        "colab": {
          "base_uri": "https://localhost:8080/"
        },
        "outputId": "81c1a794-0c78-4a07-98e7-4e88ec522db2"
      },
      "execution_count": 71,
      "outputs": [
        {
          "output_type": "execute_result",
          "data": {
            "text/plain": [
              "array([[ 6,  7,  8],\n",
              "       [ 9, 10, 11]])"
            ]
          },
          "metadata": {},
          "execution_count": 71
        }
      ]
    },
    {
      "cell_type": "code",
      "source": [
        "A + B"
      ],
      "metadata": {
        "id": "cBdmVIbIplUs",
        "colab": {
          "base_uri": "https://localhost:8080/"
        },
        "outputId": "a0e13367-7ac7-4b7a-fc0f-9da88a672d68"
      },
      "execution_count": 72,
      "outputs": [
        {
          "output_type": "execute_result",
          "data": {
            "text/plain": [
              "array([[ 6,  8, 10],\n",
              "       [12, 14, 16]])"
            ]
          },
          "metadata": {},
          "execution_count": 72
        }
      ]
    },
    {
      "cell_type": "code",
      "source": [
        "A - B"
      ],
      "metadata": {
        "id": "b4chN5iipp8F",
        "colab": {
          "base_uri": "https://localhost:8080/"
        },
        "outputId": "1bc7f78c-524a-4dba-805d-c73b72784a0f"
      },
      "execution_count": 73,
      "outputs": [
        {
          "output_type": "execute_result",
          "data": {
            "text/plain": [
              "array([[-6, -6, -6],\n",
              "       [-6, -6, -6]])"
            ]
          },
          "metadata": {},
          "execution_count": 73
        }
      ]
    },
    {
      "cell_type": "code",
      "source": [
        "A * B"
      ],
      "metadata": {
        "id": "JjW298U4prVA",
        "colab": {
          "base_uri": "https://localhost:8080/"
        },
        "outputId": "4bf28e49-d3c8-407a-a154-d5fe4c0a8dca"
      },
      "execution_count": 74,
      "outputs": [
        {
          "output_type": "execute_result",
          "data": {
            "text/plain": [
              "array([[ 0,  7, 16],\n",
              "       [27, 40, 55]])"
            ]
          },
          "metadata": {},
          "execution_count": 74
        }
      ]
    },
    {
      "cell_type": "code",
      "source": [
        "B.T"
      ],
      "metadata": {
        "id": "xdTgapvop09Y",
        "colab": {
          "base_uri": "https://localhost:8080/"
        },
        "outputId": "0dd4390a-911f-4ba5-ef96-857aad5f5d28"
      },
      "execution_count": 75,
      "outputs": [
        {
          "output_type": "execute_result",
          "data": {
            "text/plain": [
              "array([[ 6,  9],\n",
              "       [ 7, 10],\n",
              "       [ 8, 11]])"
            ]
          },
          "metadata": {},
          "execution_count": 75
        }
      ]
    },
    {
      "cell_type": "code",
      "source": [
        "A @ (B.T)"
      ],
      "metadata": {
        "id": "UI0pbVbNp0y7",
        "colab": {
          "base_uri": "https://localhost:8080/"
        },
        "outputId": "d9f4d35e-03ab-4e0e-b34c-23afa02ca367"
      },
      "execution_count": 76,
      "outputs": [
        {
          "output_type": "execute_result",
          "data": {
            "text/plain": [
              "array([[ 23,  32],\n",
              "       [ 86, 122]])"
            ]
          },
          "metadata": {},
          "execution_count": 76
        }
      ]
    },
    {
      "cell_type": "code",
      "source": [
        "A.T @ B"
      ],
      "metadata": {
        "id": "C-WifQdFp84w",
        "colab": {
          "base_uri": "https://localhost:8080/"
        },
        "outputId": "5e3857cd-4cb1-4767-878e-daaca4ddb473"
      },
      "execution_count": 77,
      "outputs": [
        {
          "output_type": "execute_result",
          "data": {
            "text/plain": [
              "array([[27, 30, 33],\n",
              "       [42, 47, 52],\n",
              "       [57, 64, 71]])"
            ]
          },
          "metadata": {},
          "execution_count": 77
        }
      ]
    },
    {
      "cell_type": "markdown",
      "source": [
        "# Useful functions"
      ],
      "metadata": {
        "id": "5xzh9TiFTXe5"
      }
    },
    {
      "cell_type": "code",
      "source": [
        "np.arange(10)"
      ],
      "metadata": {
        "id": "HIC_GeiQqGSc",
        "colab": {
          "base_uri": "https://localhost:8080/"
        },
        "outputId": "15b09f78-58fb-4e93-b44c-a6cac9fcfd7e"
      },
      "execution_count": 78,
      "outputs": [
        {
          "output_type": "execute_result",
          "data": {
            "text/plain": [
              "array([0, 1, 2, 3, 4, 5, 6, 7, 8, 9])"
            ]
          },
          "metadata": {},
          "execution_count": 78
        }
      ]
    },
    {
      "cell_type": "code",
      "source": [
        "np.arange(5, 10)"
      ],
      "metadata": {
        "id": "eyr2lWToqNqL",
        "colab": {
          "base_uri": "https://localhost:8080/"
        },
        "outputId": "6ad86108-5d5d-43f4-cea9-e3405457bf17"
      },
      "execution_count": 79,
      "outputs": [
        {
          "output_type": "execute_result",
          "data": {
            "text/plain": [
              "array([5, 6, 7, 8, 9])"
            ]
          },
          "metadata": {},
          "execution_count": 79
        }
      ]
    },
    {
      "cell_type": "code",
      "source": [
        "np.arange(5, 10, 2)"
      ],
      "metadata": {
        "id": "By5sJ5cJqKFh",
        "colab": {
          "base_uri": "https://localhost:8080/"
        },
        "outputId": "37e26f0d-f92a-4481-ca3c-0d8f01dd2552"
      },
      "execution_count": 80,
      "outputs": [
        {
          "output_type": "execute_result",
          "data": {
            "text/plain": [
              "array([5, 7, 9])"
            ]
          },
          "metadata": {},
          "execution_count": 80
        }
      ]
    },
    {
      "cell_type": "code",
      "source": [
        "np.arange(5, 10, 0.5)"
      ],
      "metadata": {
        "id": "v3jmrCprqTCN",
        "colab": {
          "base_uri": "https://localhost:8080/"
        },
        "outputId": "539a3eca-05c3-415d-a681-17bfa84081c2"
      },
      "execution_count": 81,
      "outputs": [
        {
          "output_type": "execute_result",
          "data": {
            "text/plain": [
              "array([5. , 5.5, 6. , 6.5, 7. , 7.5, 8. , 8.5, 9. , 9.5])"
            ]
          },
          "metadata": {},
          "execution_count": 81
        }
      ]
    },
    {
      "cell_type": "code",
      "source": [
        "np.arange(10).reshape(5,2)"
      ],
      "metadata": {
        "id": "gluZp6s_qbjD",
        "colab": {
          "base_uri": "https://localhost:8080/"
        },
        "outputId": "f296909c-b20e-43a0-abad-a42a1edacd77"
      },
      "execution_count": 82,
      "outputs": [
        {
          "output_type": "execute_result",
          "data": {
            "text/plain": [
              "array([[0, 1],\n",
              "       [2, 3],\n",
              "       [4, 5],\n",
              "       [6, 7],\n",
              "       [8, 9]])"
            ]
          },
          "metadata": {},
          "execution_count": 82
        }
      ]
    },
    {
      "cell_type": "code",
      "source": [
        "np.arange(12).reshape(3, 4)"
      ],
      "metadata": {
        "id": "YOjyGLnyqm0i",
        "colab": {
          "base_uri": "https://localhost:8080/"
        },
        "outputId": "c1c59de9-4eff-4af3-90f0-b791498dfc38"
      },
      "execution_count": 83,
      "outputs": [
        {
          "output_type": "execute_result",
          "data": {
            "text/plain": [
              "array([[ 0,  1,  2,  3],\n",
              "       [ 4,  5,  6,  7],\n",
              "       [ 8,  9, 10, 11]])"
            ]
          },
          "metadata": {},
          "execution_count": 83
        }
      ]
    },
    {
      "cell_type": "code",
      "source": [
        "np.random.randint(0, 10, (10))"
      ],
      "metadata": {
        "id": "1awqdTaAqxWT",
        "colab": {
          "base_uri": "https://localhost:8080/"
        },
        "outputId": "188c3fe4-e745-4e78-d300-0940b6fddf58"
      },
      "execution_count": 84,
      "outputs": [
        {
          "output_type": "execute_result",
          "data": {
            "text/plain": [
              "array([5, 3, 0, 5, 7, 3, 1, 0, 6, 8])"
            ]
          },
          "metadata": {},
          "execution_count": 84
        }
      ]
    },
    {
      "cell_type": "code",
      "source": [
        "np.random.randint(0, 10, (5, 2))"
      ],
      "metadata": {
        "id": "V14M-pWprSOs",
        "colab": {
          "base_uri": "https://localhost:8080/"
        },
        "outputId": "9a3775ce-3080-4ee6-fec5-ea9dbc746b8e"
      },
      "execution_count": 85,
      "outputs": [
        {
          "output_type": "execute_result",
          "data": {
            "text/plain": [
              "array([[3, 6],\n",
              "       [6, 7],\n",
              "       [0, 8],\n",
              "       [4, 9],\n",
              "       [8, 0]])"
            ]
          },
          "metadata": {},
          "execution_count": 85
        }
      ]
    },
    {
      "cell_type": "code",
      "source": [
        "np.random.rand(2, 4)"
      ],
      "metadata": {
        "id": "wytkpVRcq-W8",
        "colab": {
          "base_uri": "https://localhost:8080/"
        },
        "outputId": "28ea66a1-dfb9-4c0e-901f-d79f2f94ccb9"
      },
      "execution_count": 86,
      "outputs": [
        {
          "output_type": "execute_result",
          "data": {
            "text/plain": [
              "array([[0.93283407, 0.11092866, 0.7474047 , 0.76026215],\n",
              "       [0.08326653, 0.17641501, 0.30148123, 0.18467391]])"
            ]
          },
          "metadata": {},
          "execution_count": 86
        }
      ]
    },
    {
      "cell_type": "code",
      "source": [
        "np.random.normal(0, 0.1, (10))"
      ],
      "metadata": {
        "id": "1XIhFv7xrFgn",
        "colab": {
          "base_uri": "https://localhost:8080/"
        },
        "outputId": "f0f14537-0923-43b1-abaa-1e07b56ddf07"
      },
      "execution_count": 87,
      "outputs": [
        {
          "output_type": "execute_result",
          "data": {
            "text/plain": [
              "array([-0.01275835,  0.03250908,  0.05295081,  0.00450117,  0.0328069 ,\n",
              "       -0.08833749, -0.00407834, -0.00180817, -0.07318607, -0.05993113])"
            ]
          },
          "metadata": {},
          "execution_count": 87
        }
      ]
    },
    {
      "cell_type": "code",
      "source": [
        "np.random.normal(0, 0.1, (2, 5))"
      ],
      "metadata": {
        "id": "b8hhjz3wrQvD",
        "colab": {
          "base_uri": "https://localhost:8080/"
        },
        "outputId": "1819c78c-38a4-429b-9efc-d33684367b55"
      },
      "execution_count": 88,
      "outputs": [
        {
          "output_type": "execute_result",
          "data": {
            "text/plain": [
              "array([[-0.16400692,  0.04187616,  0.04458931,  0.04549415,  0.11795989],\n",
              "       [ 0.0165946 , -0.15873483, -0.00493359,  0.03857514, -0.08540642]])"
            ]
          },
          "metadata": {},
          "execution_count": 88
        }
      ]
    },
    {
      "cell_type": "code",
      "source": [
        "np.random.uniform(0, 1, (3, 4))"
      ],
      "metadata": {
        "id": "wjnvMx8RrXcd",
        "colab": {
          "base_uri": "https://localhost:8080/"
        },
        "outputId": "63f7532f-c403-4996-de24-b6791a3a3696"
      },
      "execution_count": 89,
      "outputs": [
        {
          "output_type": "execute_result",
          "data": {
            "text/plain": [
              "array([[0.57145234, 0.12484536, 0.48760296, 0.22976351],\n",
              "       [0.39304278, 0.78427719, 0.43777112, 0.76563037],\n",
              "       [0.87186011, 0.63722943, 0.60090698, 0.54205879]])"
            ]
          },
          "metadata": {},
          "execution_count": 89
        }
      ]
    },
    {
      "cell_type": "code",
      "source": [
        "a = np.random.uniform(0, 1, (2, 5))\n",
        "np.sort(a)"
      ],
      "metadata": {
        "id": "2Ta629P3rbDP",
        "colab": {
          "base_uri": "https://localhost:8080/"
        },
        "outputId": "cca7ee4e-2599-4f96-ce9a-a66076fa2171"
      },
      "execution_count": 90,
      "outputs": [
        {
          "output_type": "execute_result",
          "data": {
            "text/plain": [
              "array([[0.22260937, 0.39045172, 0.88980567, 0.91368481, 0.97141572],\n",
              "       [0.16859141, 0.33429076, 0.38522636, 0.69773032, 0.71362267]])"
            ]
          },
          "metadata": {},
          "execution_count": 90
        }
      ]
    },
    {
      "cell_type": "code",
      "source": [
        "np.zeros(5)"
      ],
      "metadata": {
        "id": "MLP5imWLrjFy",
        "colab": {
          "base_uri": "https://localhost:8080/"
        },
        "outputId": "d75013df-9da6-46b7-c92b-633c2d4882a8"
      },
      "execution_count": 91,
      "outputs": [
        {
          "output_type": "execute_result",
          "data": {
            "text/plain": [
              "array([0., 0., 0., 0., 0.])"
            ]
          },
          "metadata": {},
          "execution_count": 91
        }
      ]
    },
    {
      "cell_type": "code",
      "source": [
        "np.ones((2, 3))"
      ],
      "metadata": {
        "id": "oWBFGddKr1kp",
        "colab": {
          "base_uri": "https://localhost:8080/"
        },
        "outputId": "04ad76bc-4bc6-4a1a-bf6f-d2671ce7cd4f"
      },
      "execution_count": 92,
      "outputs": [
        {
          "output_type": "execute_result",
          "data": {
            "text/plain": [
              "array([[1., 1., 1.],\n",
              "       [1., 1., 1.]])"
            ]
          },
          "metadata": {},
          "execution_count": 92
        }
      ]
    },
    {
      "cell_type": "code",
      "source": [
        "np.ones((2, 5), dtype = int)"
      ],
      "metadata": {
        "id": "7yrPRyWKr52U",
        "colab": {
          "base_uri": "https://localhost:8080/"
        },
        "outputId": "60447a43-ff58-44df-b336-88100d1ad6cf"
      },
      "execution_count": 93,
      "outputs": [
        {
          "output_type": "execute_result",
          "data": {
            "text/plain": [
              "array([[1, 1, 1, 1, 1],\n",
              "       [1, 1, 1, 1, 1]])"
            ]
          },
          "metadata": {},
          "execution_count": 93
        }
      ]
    },
    {
      "cell_type": "code",
      "source": [],
      "metadata": {
        "id": "VARkx40cr9ud"
      },
      "execution_count": null,
      "outputs": []
    }
  ]
}