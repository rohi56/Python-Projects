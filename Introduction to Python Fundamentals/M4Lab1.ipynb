{
  "nbformat": 4,
  "nbformat_minor": 0,
  "metadata": {
    "colab": {
      "provenance": [],
      "toc_visible": true
    },
    "kernelspec": {
      "name": "python3",
      "display_name": "Python 3"
    },
    "language_info": {
      "name": "python"
    }
  },
  "cells": [
    {
      "cell_type": "markdown",
      "metadata": {
        "id": "cnAUJprJdh9_"
      },
      "source": [
        "# Welcome to our Lab Practice!"
      ]
    },
    {
      "cell_type": "markdown",
      "metadata": {
        "id": "vVYcayGedmms"
      },
      "source": [
        "This lab is about repetition - while loops. Are you ready? Let's get started!"
      ]
    },
    {
      "cell_type": "markdown",
      "metadata": {
        "id": "JP8eGBVyeSQx"
      },
      "source": [
        "You will find some small tasks in sections below."
      ]
    },
    {
      "cell_type": "markdown",
      "metadata": {
        "id": "EZ42d1Sue0Zp"
      },
      "source": [
        "###Task: Print all integers from -5 to 5.\n"
      ]
    },
    {
      "cell_type": "code",
      "metadata": {
        "id": "yDzNIHsSeu85",
        "colab": {
          "base_uri": "https://localhost:8080/"
        },
        "outputId": "a313f9af-f6c2-46c9-f229-bc7a10483081"
      },
      "source": [
        "# type your code here\n",
        "x = -5\n",
        "while x <= 5:\n",
        "  print(x)\n",
        "  x = x + 1"
      ],
      "execution_count": 3,
      "outputs": [
        {
          "output_type": "stream",
          "name": "stdout",
          "text": [
            "-5\n",
            "-4\n",
            "-3\n",
            "-2\n",
            "-1\n",
            "0\n",
            "1\n",
            "2\n",
            "3\n",
            "4\n",
            "5\n"
          ]
        }
      ]
    },
    {
      "cell_type": "markdown",
      "metadata": {
        "id": "u8WEYfEqIbWX"
      },
      "source": [
        "###Task: Print all integers of an interval given by the user\n",
        "\n",
        "Ask the user to enter two integers and print all integers between (including) them."
      ]
    },
    {
      "cell_type": "code",
      "metadata": {
        "id": "LKSmcHRRJUYY",
        "colab": {
          "base_uri": "https://localhost:8080/"
        },
        "outputId": "41289331-2d9f-45bf-b73e-26560e41222d"
      },
      "source": [
        "# type your code here\n",
        "x = int(input(\"Enter the first integer: \"))\n",
        "y = int(input(\"Enter the second integer: \"))\n",
        "while x <= y:\n",
        "  print(x)\n",
        "  x = x + 1\n"
      ],
      "execution_count": 4,
      "outputs": [
        {
          "output_type": "stream",
          "name": "stdout",
          "text": [
            "Enter the first integer: 5\n",
            "Enter the second integer: 10\n",
            "5\n",
            "6\n",
            "7\n",
            "8\n",
            "9\n",
            "10\n"
          ]
        }
      ]
    },
    {
      "cell_type": "markdown",
      "metadata": {
        "id": "-__o8ovbfSEH"
      },
      "source": [
        "###Task: Double The Number\n",
        "\n",
        "Step 1: Ask the user to enter a small positive number (0 - 10)\n",
        "\n",
        "Step 2: Double the number, print it out, and repeat, until the number beyond 1,000,000\n",
        "\n",
        "(How fast the number is growing)"
      ]
    },
    {
      "cell_type": "code",
      "metadata": {
        "id": "hOpxhSKog18Y"
      },
      "source": [
        "# your code will be here\n",
        "x = int(input(\"Enter a small positive number (0 - 10): \"))\n",
        "while x <= 1000000:\n",
        "  print(x)\n",
        "  x = x * 2"
      ],
      "execution_count": null,
      "outputs": []
    },
    {
      "cell_type": "markdown",
      "metadata": {
        "id": "uZYVZQIvIlPy"
      },
      "source": [
        "###Task: Keep asking for candy until 'STOP'  \n",
        "\n",
        "Step1: Ask the user to enter anything\n",
        "\n",
        "Step2: print a message 'Thanks! I got a candy'\n",
        "\n",
        "Step3: Repeat Step 1 and 2, until the user enter 'Done'\n",
        "\n",
        "Step4: print a message 'Thanks! I have enough.'"
      ]
    },
    {
      "cell_type": "code",
      "metadata": {
        "id": "Y_3dcyvcQ2GI"
      },
      "source": [
        "# your code will be here\n",
        "x = input(\"Enter anything: \")\n",
        "while x != \"Done\":\n",
        "  print(\"Thanks! I got a candy\")\n",
        "  x = input(\"Enter anything: \")\n",
        "print(\"Thanks! I have enough.\")"
      ],
      "execution_count": null,
      "outputs": []
    },
    {
      "cell_type": "markdown",
      "metadata": {
        "id": "qKFwdIypmt5J"
      },
      "source": [
        "### Task: Password Setup\n",
        "\n",
        "*   Ask the user to enter a new password.\n",
        "*   Ask the user to enter the password again.\n",
        "*   If the second input matches the first one, print \"You are all set\", otherwise, repeat the process.\n"
      ]
    },
    {
      "cell_type": "code",
      "metadata": {
        "id": "6pqvFtl8nHei",
        "colab": {
          "base_uri": "https://localhost:8080/"
        },
        "outputId": "1de3fbf9-bcc4-43dd-f6fd-113a9d91f94d"
      },
      "source": [
        "# your code will be here\n",
        "x = input(\"Enter a new password: \")\n",
        "y = input(\"Enter the password again: \")\n",
        "while x != y:\n",
        "  x = input(\"Enter a new password: \")\n",
        "  y = input(\"Enter the password again: \")\n",
        "print(\"You are all set\")"
      ],
      "execution_count": 5,
      "outputs": [
        {
          "output_type": "stream",
          "name": "stdout",
          "text": [
            "Enter a new password: wow\n",
            "Enter the password again: now\n",
            "Enter a new password: wow\n",
            "Enter the password again: wow\n",
            "You are all set\n"
          ]
        }
      ]
    }
  ]
}