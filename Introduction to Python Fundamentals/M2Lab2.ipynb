{
  "nbformat": 4,
  "nbformat_minor": 0,
  "metadata": {
    "colab": {
      "provenance": [],
      "toc_visible": true
    },
    "kernelspec": {
      "name": "python3",
      "display_name": "Python 3"
    },
    "language_info": {
      "name": "python"
    }
  },
  "cells": [
    {
      "cell_type": "markdown",
      "metadata": {
        "id": "cnAUJprJdh9_"
      },
      "source": [
        "# Welcome to our Lab Practice!"
      ]
    },
    {
      "cell_type": "markdown",
      "metadata": {
        "id": "vVYcayGedmms"
      },
      "source": [
        "This lab is about arithmetic operations, more assignemnt operations from input(). Are you ready? Let's get started!"
      ]
    },
    {
      "cell_type": "markdown",
      "metadata": {
        "id": "JP8eGBVyeSQx"
      },
      "source": [
        "You will find some small tasks in sections below."
      ]
    },
    {
      "cell_type": "markdown",
      "metadata": {
        "id": "TNbXeCDFeAcJ"
      },
      "source": [
        "## Arithmetic Operation\n",
        "\n",
        "In this section, you are going to code and run arithmetic operations of two numbers.\n",
        "\n",
        "Hint: to print out the equation, we can use the print() to print multiple values out.\n",
        "\n",
        "For example, print(x, 'operator', y, '=', x operator y) for an operator."
      ]
    },
    {
      "cell_type": "markdown",
      "metadata": {
        "id": "hhAeaPrjTLRT"
      },
      "source": [
        "###Task: Get some computation.\n",
        "\n",
        "1.   Assign x with 2, y with 3.\n",
        "2.   print out the equation and result of\n",
        "  1.   x + y\n",
        "  2.   x - y\n",
        "  3.   x * y\n",
        "  4.   x / y\n",
        "  5.   x // y\n",
        "  6.   x ** y\n",
        "  7.   x % y\n",
        "\n",
        "\n",
        "\n"
      ]
    },
    {
      "cell_type": "code",
      "metadata": {
        "id": "v4jLx-_gTIFA",
        "colab": {
          "base_uri": "https://localhost:8080/"
        },
        "outputId": "c568b1dd-a9c0-449c-b823-edba9b450cf5"
      },
      "source": [
        "# type your code here\n",
        "x,y = input('Enter the value of x and y:').split()\n",
        "x=int(x)\n",
        "y=int(y)\n",
        "print('x + y :', x+y ,'\\nx - y :', x-y, '\\nx * y', x*y , '\\nx / y :', x/y, '\\nx // y :', x//y, '\\nx ** y :', x**y, '\\nx % y :', x%y)\n",
        "\n"
      ],
      "execution_count": 4,
      "outputs": [
        {
          "output_type": "stream",
          "name": "stdout",
          "text": [
            "Enter the value of x and y:5 6\n",
            "x + y : 11 \n",
            "x - y : -1 \n",
            "x * y 30 \n",
            "x / y : 0.8333333333333334 \n",
            "x // y : 0 \n",
            "x ** y : 15625 \n",
            "x % y : 5\n"
          ]
        }
      ]
    },
    {
      "cell_type": "markdown",
      "metadata": {
        "id": "TEHPJ_CpUuOv"
      },
      "source": [
        "###Task: Get some other computation.\n",
        "\n",
        "1.   Assign x with a value you like, y with another value you like.\n",
        "2.   print out the equation and result of\n",
        "  1.   x + y\n",
        "  2.   x - y\n",
        "  3.   x * y\n",
        "  4.   x / y\n",
        "  5.   x // y\n",
        "  6.   x ** y\n",
        "  7.   x % y\n",
        "3.   Are there some value that will crash your program? Why?"
      ]
    },
    {
      "cell_type": "code",
      "metadata": {
        "id": "e4UI_UJpU-7q"
      },
      "source": [
        "# type your code here\n",
        "x,y = input('Enter the value of x and y:').split()\n",
        "x=int(x)\n",
        "y=int(y)\n",
        "print('x + y :', x+y ,'\\nx - y :', x-y, '\\nx * y', x*y , '\\nx / y :', x/y, '\\nx // y :', x//y, '\\nx ** y :', x**y, '\\nx % y :', x%y)\n",
        "\n"
      ],
      "execution_count": null,
      "outputs": []
    },
    {
      "cell_type": "markdown",
      "metadata": {
        "id": "D8pWdoN7d6Dy"
      },
      "source": [
        "## Get Inputs from Users"
      ]
    },
    {
      "cell_type": "markdown",
      "metadata": {
        "id": "EZ42d1Sue0Zp"
      },
      "source": [
        "###Task: Help the User\n",
        "\n",
        "1.   Ask the user to enter an integer, convert and assign it to x;\n",
        "2.   Ask the user to enter another integer, convert and assign it to y;\n",
        "3.   print out the equation and result of\n",
        "  1.   x + y\n",
        "  2.   x - y\n",
        "  3.   x * y\n",
        "  4.   x / y\n",
        "  5.   x // y\n",
        "  6.   x ** y\n",
        "  7.   x % y\n",
        "3.   Are there some value that will crash your program? Why?\n"
      ]
    },
    {
      "cell_type": "code",
      "metadata": {
        "id": "yDzNIHsSeu85"
      },
      "source": [
        "# type your code here\n",
        "# type your code here\n",
        "x,y = input('Enter the value of x and y:').split()\n",
        "x=int(x)\n",
        "y=int(y)\n",
        "print('x + y :', x+y ,'\\nx - y :', x-y, '\\nx * y', x*y , '\\nx / y :', x/y, '\\nx // y :', x//y, '\\nx ** y :', x**y, '\\nx % y :', x%y)\n",
        "\n"
      ],
      "execution_count": null,
      "outputs": []
    },
    {
      "cell_type": "markdown",
      "source": [
        "Note: None of the value crash because first program i typed was 100% accurate"
      ],
      "metadata": {
        "id": "7_0Y9jYJxrbx"
      }
    }
  ]
}