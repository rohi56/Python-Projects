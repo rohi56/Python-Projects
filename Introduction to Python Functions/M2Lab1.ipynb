{
  "nbformat": 4,
  "nbformat_minor": 0,
  "metadata": {
    "colab": {
      "provenance": [],
      "toc_visible": true
    },
    "kernelspec": {
      "name": "python3",
      "display_name": "Python 3"
    },
    "language_info": {
      "name": "python"
    }
  },
  "cells": [
    {
      "cell_type": "markdown",
      "metadata": {
        "id": "cnAUJprJdh9_"
      },
      "source": [
        "# Welcome to our Lab Practice!"
      ]
    },
    {
      "cell_type": "markdown",
      "metadata": {
        "id": "vVYcayGedmms"
      },
      "source": [
        "This lab is all about defining functions with ONE parameter. Are you ready? Let's go!"
      ]
    },
    {
      "cell_type": "markdown",
      "metadata": {
        "id": "JP8eGBVyeSQx"
      },
      "source": [
        "You will find some small tasks in sections below. After defining functions, call them to test."
      ]
    },
    {
      "cell_type": "markdown",
      "metadata": {
        "id": "rXgbUIBRgQoG"
      },
      "source": [
        "###Task: define a function that print \"hello, *name*\" where *name* is a parameter"
      ]
    },
    {
      "cell_type": "code",
      "metadata": {
        "id": "oIKwmW2mfe3d"
      },
      "source": [
        "# your code will be here\n",
        "def hello(name):\n",
        "  print(\"Hello,\", name)\n",
        "\n"
      ],
      "execution_count": 6,
      "outputs": []
    },
    {
      "cell_type": "code",
      "source": [
        "hello(\"Rohit\")"
      ],
      "metadata": {
        "colab": {
          "base_uri": "https://localhost:8080/"
        },
        "id": "smjgqN8a-D4H",
        "outputId": "232305eb-1f4c-405e-971a-82bdf0090eb8"
      },
      "execution_count": 7,
      "outputs": [
        {
          "output_type": "stream",
          "name": "stdout",
          "text": [
            "Hello, Rohit\n"
          ]
        }
      ]
    },
    {
      "cell_type": "markdown",
      "source": [
        "###Task: define a function that print \"hello world\" *n* times, where *n* is a parameter"
      ],
      "metadata": {
        "id": "h-mrQgK7RKqm"
      }
    },
    {
      "cell_type": "code",
      "source": [
        "# your code will be here\n",
        "def ntime(n):\n",
        "  for i in range(n):\n",
        "    print(\"Hello World\")\n",
        "\n",
        "ntime(7)"
      ],
      "metadata": {
        "id": "47f7Q_AIRMUW",
        "colab": {
          "base_uri": "https://localhost:8080/"
        },
        "outputId": "ccd91698-2eeb-49a7-cd6b-f16dd39c1211"
      },
      "execution_count": 9,
      "outputs": [
        {
          "output_type": "stream",
          "name": "stdout",
          "text": [
            "Hello World\n",
            "Hello World\n",
            "Hello World\n",
            "Hello World\n",
            "Hello World\n",
            "Hello World\n",
            "Hello World\n"
          ]
        }
      ]
    },
    {
      "cell_type": "markdown",
      "source": [
        "###Task: define a function that print integers 1 to *n* (hint: you can use a for loop), where *n* is a parameter"
      ],
      "metadata": {
        "id": "1y6noqXNRMpG"
      }
    },
    {
      "cell_type": "code",
      "source": [
        "# your code will be here\n",
        "def ninteger(n):\n",
        "  for i in range(1,n+1):\n",
        "    print(i)\n",
        "\n",
        "ninteger(10)"
      ],
      "metadata": {
        "id": "FR7idsVORX5_",
        "colab": {
          "base_uri": "https://localhost:8080/"
        },
        "outputId": "7b881d65-70aa-4d46-dd16-d6196634eb8d"
      },
      "execution_count": 10,
      "outputs": [
        {
          "output_type": "stream",
          "name": "stdout",
          "text": [
            "1\n",
            "2\n",
            "3\n",
            "4\n",
            "5\n",
            "6\n",
            "7\n",
            "8\n",
            "9\n",
            "10\n"
          ]
        }
      ]
    },
    {
      "cell_type": "markdown",
      "source": [
        "###Task: define a function that print prime integers in *n* (hint: you can use loops), where *n* is a parameter"
      ],
      "metadata": {
        "id": "OoTXs3WERYju"
      }
    },
    {
      "cell_type": "code",
      "source": [
        "# your code will be here\n",
        "def prime(n):\n",
        "  for i in range(2,n+1):\n",
        "    for j in range(2,i):\n",
        "      if i%j==0:\n",
        "        break\n",
        "      else:\n",
        "        print(i)\n",
        "        break\n",
        "prime(20)"
      ],
      "metadata": {
        "id": "2pS4qJ54RhKf",
        "colab": {
          "base_uri": "https://localhost:8080/"
        },
        "outputId": "b91dcaec-5bbb-4549-8196-51a5f3dd04d5"
      },
      "execution_count": 12,
      "outputs": [
        {
          "output_type": "stream",
          "name": "stdout",
          "text": [
            "3\n",
            "5\n",
            "7\n",
            "9\n",
            "11\n",
            "13\n",
            "15\n",
            "17\n",
            "19\n"
          ]
        }
      ]
    },
    {
      "cell_type": "markdown",
      "source": [
        "###Task: define a function that print whether or not given *n* is even, *n* is a parameter"
      ],
      "metadata": {
        "id": "yU8y7mCoRmRH"
      }
    },
    {
      "cell_type": "code",
      "source": [
        "# your code will be here\n",
        "def even(n):\n",
        "  if n%2==0:\n",
        "    print(\"Even\")\n",
        "  else:\n",
        "    print(\"Odd\")\n",
        "\n",
        "even(10)"
      ],
      "metadata": {
        "id": "g67KsRe3R2KG",
        "colab": {
          "base_uri": "https://localhost:8080/"
        },
        "outputId": "504344f3-4a64-4732-d165-1a1e24cde70b"
      },
      "execution_count": 13,
      "outputs": [
        {
          "output_type": "stream",
          "name": "stdout",
          "text": [
            "Even\n"
          ]
        }
      ]
    },
    {
      "cell_type": "markdown",
      "metadata": {
        "id": "QPoCScdkheK3"
      },
      "source": [
        "###Task: define a function that print whether or not given *n* is odd, *n* is a parameter"
      ]
    },
    {
      "cell_type": "code",
      "metadata": {
        "id": "tsFowDAKhJCB",
        "colab": {
          "base_uri": "https://localhost:8080/"
        },
        "outputId": "b89bf072-c383-4551-80f0-c1ad539dd1e8"
      },
      "source": [
        "# your code will be here\n",
        "def odd(n):\n",
        "  if n%2==0:\n",
        "    print(\"Even\")\n",
        "  else:\n",
        "    print(\"Odd\")\n",
        "\n",
        "odd(7)"
      ],
      "execution_count": 14,
      "outputs": [
        {
          "output_type": "stream",
          "name": "stdout",
          "text": [
            "Odd\n"
          ]
        }
      ]
    },
    {
      "cell_type": "markdown",
      "source": [
        "###Task: define a function that print the absolute value of *n*, *n* is a parameter"
      ],
      "metadata": {
        "id": "Jbw-h9GMhnQl"
      }
    },
    {
      "cell_type": "code",
      "source": [
        "# your code will be here\n",
        "def  abso(n):\n",
        "  if n<0:\n",
        "    print(-n)\n",
        "  else:\n",
        "    print(n)\n",
        "abso(-5)"
      ],
      "metadata": {
        "id": "dUOiwszHhsEN",
        "colab": {
          "base_uri": "https://localhost:8080/"
        },
        "outputId": "b6b5d166-c154-4370-fbd5-c4f3c0e7140e"
      },
      "execution_count": 15,
      "outputs": [
        {
          "output_type": "stream",
          "name": "stdout",
          "text": [
            "5\n"
          ]
        }
      ]
    },
    {
      "cell_type": "markdown",
      "source": [
        "###Task: define a function that print the square value of *n*, *n* is a parameter"
      ],
      "metadata": {
        "id": "AyaEIEqOhsV8"
      }
    },
    {
      "cell_type": "code",
      "source": [
        "# your code will be here\n",
        "def square(n):\n",
        "  print(n*n)\n",
        "\n",
        "square(5)"
      ],
      "metadata": {
        "id": "-lVtxeAmhv9t",
        "colab": {
          "base_uri": "https://localhost:8080/"
        },
        "outputId": "264b775a-d2f3-41a5-b88f-1c29671be316"
      },
      "execution_count": 16,
      "outputs": [
        {
          "output_type": "stream",
          "name": "stdout",
          "text": [
            "25\n"
          ]
        }
      ]
    },
    {
      "cell_type": "markdown",
      "metadata": {
        "id": "TE6Df1WYhu10"
      },
      "source": [
        "###Task: define a function that print whether or not given *n* is divisible by 6, *n* is a parameter"
      ]
    },
    {
      "cell_type": "code",
      "metadata": {
        "id": "MSjQbhNXhJVV",
        "colab": {
          "base_uri": "https://localhost:8080/"
        },
        "outputId": "810f6ec2-1cb2-4a1b-d110-0e03aaf3e897"
      },
      "source": [
        "# your code will be here\n",
        "def divisible(n):\n",
        "  if n%6==0:\n",
        "    print(\"Divisible\")\n",
        "  else:\n",
        "    print(\"Not Divisible\")\n",
        "\n",
        "divisible(12)"
      ],
      "execution_count": 17,
      "outputs": [
        {
          "output_type": "stream",
          "name": "stdout",
          "text": [
            "Divisible\n"
          ]
        }
      ]
    },
    {
      "cell_type": "markdown",
      "metadata": {
        "id": "4iCITSR6h7Yv"
      },
      "source": [
        "###Task: define a function that print whether or not given *n* is prime, *n* is a parameter"
      ]
    },
    {
      "cell_type": "code",
      "metadata": {
        "id": "EKsuK9O6jW7D",
        "colab": {
          "base_uri": "https://localhost:8080/"
        },
        "outputId": "02c25e02-2dad-40bc-e1d4-e790666e271d"
      },
      "source": [
        "# your code will be here\n",
        "def prime(n):\n",
        "  for i in range(2,n):\n",
        "    if n%i==0:\n",
        "      print(\"Not Prime\")\n",
        "      break\n",
        "  else:\n",
        "    print(\"Prime\")\n",
        "\n",
        "prime(13)"
      ],
      "execution_count": 18,
      "outputs": [
        {
          "output_type": "stream",
          "name": "stdout",
          "text": [
            "Prime\n"
          ]
        }
      ]
    }
  ]
}