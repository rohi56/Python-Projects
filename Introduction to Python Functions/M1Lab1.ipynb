{
  "nbformat": 4,
  "nbformat_minor": 0,
  "metadata": {
    "colab": {
      "provenance": [],
      "toc_visible": true
    },
    "kernelspec": {
      "name": "python3",
      "display_name": "Python 3"
    },
    "language_info": {
      "name": "python"
    }
  },
  "cells": [
    {
      "cell_type": "markdown",
      "metadata": {
        "id": "cnAUJprJdh9_"
      },
      "source": [
        "# Welcome to our first Lab Practice!"
      ]
    },
    {
      "cell_type": "markdown",
      "metadata": {
        "id": "vVYcayGedmms"
      },
      "source": [
        "This lab is all about calling functions. Are you ready? Let's go!\n",
        "\n"
      ]
    },
    {
      "cell_type": "markdown",
      "metadata": {
        "id": "JP8eGBVyeSQx"
      },
      "source": [
        "You will find some small tasks in sections below."
      ]
    },
    {
      "cell_type": "markdown",
      "metadata": {
        "id": "TNbXeCDFeAcJ"
      },
      "source": [
        "## Call python build-in functions"
      ]
    },
    {
      "cell_type": "markdown",
      "metadata": {
        "id": "EZ42d1Sue0Zp"
      },
      "source": [
        "###Task: print message **Hello, world!**"
      ]
    },
    {
      "cell_type": "code",
      "metadata": {
        "id": "yDzNIHsSeu85",
        "colab": {
          "base_uri": "https://localhost:8080/"
        },
        "outputId": "6f0dd07c-e8d4-451b-9f56-4b060b0ae320"
      },
      "source": [
        "# type your code here\n",
        "print(\"Hello, world!\")"
      ],
      "execution_count": 1,
      "outputs": [
        {
          "output_type": "stream",
          "name": "stdout",
          "text": [
            "Hello, world!\n"
          ]
        }
      ]
    },
    {
      "cell_type": "markdown",
      "metadata": {
        "id": "-__o8ovbfSEH"
      },
      "source": [
        "###Task: print a message entered by the user"
      ]
    },
    {
      "cell_type": "code",
      "metadata": {
        "id": "hOpxhSKog18Y",
        "colab": {
          "base_uri": "https://localhost:8080/"
        },
        "outputId": "5a1eb6a1-d25c-4cbb-deb8-13501b742106"
      },
      "source": [
        "# your code will be here\n",
        "message = input(\"Enter a message: \")\n",
        "print(message)"
      ],
      "execution_count": 2,
      "outputs": [
        {
          "output_type": "stream",
          "name": "stdout",
          "text": [
            "Enter a message: wow python is great\n",
            "wow python is great\n"
          ]
        }
      ]
    },
    {
      "cell_type": "markdown",
      "metadata": {
        "id": "NpCNxK68gpME"
      },
      "source": [
        "###Task: convert an integer 123 to a string and use type() to confirm"
      ]
    },
    {
      "cell_type": "code",
      "metadata": {
        "id": "txg-7uKfgKeW",
        "colab": {
          "base_uri": "https://localhost:8080/"
        },
        "outputId": "e9cb6de5-ab0d-47e2-9e3a-02be4f9e4af0"
      },
      "source": [
        "# your code will be here\n",
        "integer = 123\n",
        "string = str(integer)\n",
        "print(type(string))"
      ],
      "execution_count": 3,
      "outputs": [
        {
          "output_type": "stream",
          "name": "stdout",
          "text": [
            "<class 'str'>\n"
          ]
        }
      ]
    },
    {
      "cell_type": "markdown",
      "source": [
        "###Task: convert an string 321 to an integer 321 and use type() to confirm"
      ],
      "metadata": {
        "id": "m_Nyc9e2Mv_6"
      }
    },
    {
      "cell_type": "code",
      "source": [
        "# your code will be here\n",
        "string = \"321\"\n",
        "integer = int(string)\n",
        "print(type(integer))"
      ],
      "metadata": {
        "id": "MoJRq2ksMvWz",
        "colab": {
          "base_uri": "https://localhost:8080/"
        },
        "outputId": "687db422-df19-4895-dd3c-03b19a26aee9"
      },
      "execution_count": 4,
      "outputs": [
        {
          "output_type": "stream",
          "name": "stdout",
          "text": [
            "<class 'int'>\n"
          ]
        }
      ]
    }
  ]
}