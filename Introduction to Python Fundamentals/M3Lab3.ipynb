{
  "nbformat": 4,
  "nbformat_minor": 0,
  "metadata": {
    "colab": {
      "provenance": [],
      "toc_visible": true
    },
    "kernelspec": {
      "name": "python3",
      "display_name": "Python 3"
    },
    "language_info": {
      "name": "python"
    }
  },
  "cells": [
    {
      "cell_type": "markdown",
      "metadata": {
        "id": "cnAUJprJdh9_"
      },
      "source": [
        "# Welcome to our Lab Practice!"
      ]
    },
    {
      "cell_type": "markdown",
      "metadata": {
        "id": "vVYcayGedmms"
      },
      "source": [
        "This lab is about branching - if-elif-else statements. Are you ready? Let's get started!"
      ]
    },
    {
      "cell_type": "markdown",
      "metadata": {
        "id": "JP8eGBVyeSQx"
      },
      "source": [
        "You will find some small tasks in sections below."
      ]
    },
    {
      "cell_type": "markdown",
      "metadata": {
        "id": "EZ42d1Sue0Zp"
      },
      "source": [
        "###Task: check if a number is positive, negative, or 0.\n",
        "\n",
        "You should ask the user to enter a number, if it is above 0, print \"It is positive\"; if it is below 0, print \"It is negative\"; otherwise, print \"It is zero\"."
      ]
    },
    {
      "cell_type": "code",
      "metadata": {
        "id": "yDzNIHsSeu85",
        "colab": {
          "base_uri": "https://localhost:8080/"
        },
        "outputId": "e782ecc2-d08d-4f2a-a060-9ebda723e83c"
      },
      "source": [
        "# type your code here\n",
        "number = float(input(\"Enter any number:\"))\n",
        "if number > 0:\n",
        "  print(f'{number} is positive')\n",
        "elif number < 0:\n",
        "  print(f'{number} is negative')\n",
        "else:\n",
        "  print(f'{number} is zero')"
      ],
      "execution_count": 1,
      "outputs": [
        {
          "output_type": "stream",
          "name": "stdout",
          "text": [
            "Enter any number:45\n",
            "45.0 is positive\n"
          ]
        }
      ]
    },
    {
      "cell_type": "markdown",
      "metadata": {
        "id": "u8WEYfEqIbWX"
      },
      "source": [
        "###Task: check how many days current month has.\n",
        "\n",
        "You should ask the user to enter the number indicating the current month, such as 1 as Janurary; then print the days the month has, such as print 31 if the user entered 1. Let's assume there are 28 days in February."
      ]
    },
    {
      "cell_type": "code",
      "metadata": {
        "id": "LKSmcHRRJUYY",
        "colab": {
          "base_uri": "https://localhost:8080/"
        },
        "outputId": "249a3f79-0b8a-4023-d745-c3357007f30d"
      },
      "source": [
        "# type your code here\n",
        "month = int(input(\"Enter the month to check number of days between 1 to 12:\"))\n",
        "if month == 2:\n",
        "    print(f'{month} is February with 28 days')\n",
        "elif month == 1:\n",
        "    print(f'{month} is January with 31 days')\n",
        "elif month == 3:\n",
        "    print(f'{month} is March with 31 days')\n",
        "elif month == 5:\n",
        "    print(f'{month} is May with 31 days')\n",
        "elif month == 7:\n",
        "    print(f'{month} is July with 31 days')\n",
        "elif month == 8:\n",
        "    print(f'{month} is August with 31 days')\n",
        "elif month == 10:\n",
        "    print(f'{month} is October with 31 days')\n",
        "elif month == 12:\n",
        "    print(f'{month} is December with 31 days')\n",
        "elif month == 4:\n",
        "    print(f'{month} is April with 30 days')\n",
        "elif month == 6:\n",
        "    print(f'{month} is June with 30 days')\n",
        "elif month == 9:\n",
        "    print(f'{month} is September with 30 days')\n",
        "elif month == 11:\n",
        "    print(f'{month} is November with 30 days')\n",
        "else:\n",
        "    print('Enter a Valid month')\n",
        ""
      ],
      "execution_count": 5,
      "outputs": [
        {
          "output_type": "stream",
          "name": "stdout",
          "text": [
            "Enter the month to check number of days between 1 to 12:6\n",
            "6 is June is with 30 days\n"
          ]
        }
      ]
    },
    {
      "cell_type": "markdown",
      "metadata": {
        "id": "-__o8ovbfSEH"
      },
      "source": [
        "###Task: collect parking fee\n",
        "\n",
        "A parking garage has following price policy\n",
        "\n",
        "\n",
        "1.   first half hour: 5\n",
        "2.   second half hour to 2 hours: 15\n",
        "3.   more than 2 hours: 5 per hour\n",
        "\n",
        "Ask the user to enter the hours of parking (it should be a float number, such as 1.6 as 1.6 hours), and calculate the parking fee.\n",
        "\n"
      ]
    },
    {
      "cell_type": "code",
      "metadata": {
        "id": "hOpxhSKog18Y",
        "colab": {
          "base_uri": "https://localhost:8080/"
        },
        "outputId": "b943e4a1-74b7-4991-94fa-6e703c054134"
      },
      "source": [
        "# your code will be here\n",
        "hour = float(input(\"Enter the hours of parking:\"))\n",
        "if hour <= 0.5:\n",
        "  print('The parking fee is 5')\n",
        "elif hour <= 2:\n",
        "  print('The parking fee is 15')\n",
        "else :\n",
        "  hour = hour - 2\n",
        "  hour = 15 + (hour*5)\n",
        "  print(f'The parking fee is {hour}')"
      ],
      "execution_count": 9,
      "outputs": [
        {
          "output_type": "stream",
          "name": "stdout",
          "text": [
            "Enter the hours of parking:3\n",
            "The parking fee is 20.0\n"
          ]
        }
      ]
    },
    {
      "cell_type": "markdown",
      "metadata": {
        "id": "uZYVZQIvIlPy"
      },
      "source": [
        "###Task: What stage are you in?  \n",
        "\n",
        "Write a program that asks the user to enter a person’s age. The program should display a message indicating whether the person is an infant, a child, a teenager, an adult, or a senior citizen.\n",
        "\n",
        "Following are the guidelines:\n",
        "1.   If the person is 1 year old or less, he or she is an infant.\n",
        "1.   If the person is older than 1 year, but younger than 13 years, he or she is a child.\n",
        "1.   If the person is at least 13 years old, but less than 20 years old, he or she is a teenager.\n",
        "1.   If the person is at least 20 years old, but less than 65 years old, he or she is an adult.\n",
        "1.   Otherwise the person is a senior citizen."
      ]
    },
    {
      "cell_type": "code",
      "metadata": {
        "id": "Y_3dcyvcQ2GI",
        "colab": {
          "base_uri": "https://localhost:8080/"
        },
        "outputId": "816eaa19-7b51-4e28-a77f-144dc93fce9e"
      },
      "source": [
        "# your code will be here\n",
        "age = int(input(\"Enter your age:\"))\n",
        "if age <=1:\n",
        "  print('You are an infant')\n",
        "elif age <=13:\n",
        "  print('You are a child')\n",
        "elif age <=20:\n",
        "  print('You are a teenager')\n",
        "elif age <=65:\n",
        "  print('You are an adult')\n",
        "else :\n",
        "  print('You are a senior citizen')"
      ],
      "execution_count": 12,
      "outputs": [
        {
          "output_type": "stream",
          "name": "stdout",
          "text": [
            "Enter your age:101\n",
            "You are a senior citizen\n"
          ]
        }
      ]
    }
  ]
}