{
  "nbformat": 4,
  "nbformat_minor": 0,
  "metadata": {
    "colab": {
      "provenance": [],
      "toc_visible": true
    },
    "kernelspec": {
      "name": "python3",
      "display_name": "Python 3"
    },
    "language_info": {
      "name": "python"
    }
  },
  "cells": [
    {
      "cell_type": "markdown",
      "metadata": {
        "id": "cnAUJprJdh9_"
      },
      "source": [
        "# Welcome to our first Lab Practice!"
      ]
    },
    {
      "cell_type": "markdown",
      "metadata": {
        "id": "vVYcayGedmms"
      },
      "source": [
        "This lab is all about print() and we are going to print various messages on the screen. Are you ready? Let's get started!"
      ]
    },
    {
      "cell_type": "markdown",
      "metadata": {
        "id": "JP8eGBVyeSQx"
      },
      "source": [
        "You will find some small tasks in sections below. You should use print() and a proper choice of quotation marks to print the **message** on the screen."
      ]
    },
    {
      "cell_type": "markdown",
      "metadata": {
        "id": "TNbXeCDFeAcJ"
      },
      "source": [
        "## Single quotations ' '"
      ]
    },
    {
      "cell_type": "markdown",
      "metadata": {
        "id": "EZ42d1Sue0Zp"
      },
      "source": [
        "###Task: print message **Hello, world!**"
      ]
    },
    {
      "cell_type": "code",
      "metadata": {
        "id": "yDzNIHsSeu85",
        "colab": {
          "base_uri": "https://localhost:8080/"
        },
        "outputId": "878f0620-97fa-4333-8afc-6f1d2c2fa00c"
      },
      "source": [
        "# type your code here\n",
        "print('Hello, world!')"
      ],
      "execution_count": 1,
      "outputs": [
        {
          "output_type": "stream",
          "name": "stdout",
          "text": [
            "Hello, world!\n"
          ]
        }
      ]
    },
    {
      "cell_type": "markdown",
      "metadata": {
        "id": "-__o8ovbfSEH"
      },
      "source": [
        "###Task: print message **\"Hello, world!\"**\n",
        "\n",
        "Note: the **\" \"** is part of the message and it should be included in the message printed out."
      ]
    },
    {
      "cell_type": "code",
      "metadata": {
        "id": "hOpxhSKog18Y",
        "colab": {
          "base_uri": "https://localhost:8080/"
        },
        "outputId": "a0101856-3cba-400c-9db5-1cc5ccd522e2"
      },
      "source": [
        "# your code will be here\n",
        "print('\"Hello, world!\"')"
      ],
      "execution_count": 2,
      "outputs": [
        {
          "output_type": "stream",
          "name": "stdout",
          "text": [
            "\"Hello, world!\"\n"
          ]
        }
      ]
    },
    {
      "cell_type": "markdown",
      "metadata": {
        "id": "NpCNxK68gpME"
      },
      "source": [
        "###Task: print message **\"How are you?\"**\n",
        "\n",
        "Note: the **\" \"** is part of the message and it should be included in the message printed out."
      ]
    },
    {
      "cell_type": "code",
      "metadata": {
        "id": "txg-7uKfgKeW",
        "colab": {
          "base_uri": "https://localhost:8080/"
        },
        "outputId": "0f0ed6f3-84b6-4571-b521-2d1347bb2895"
      },
      "source": [
        "# your code will be here\n",
        "print('\"How are you?\"')"
      ],
      "execution_count": 3,
      "outputs": [
        {
          "output_type": "stream",
          "name": "stdout",
          "text": [
            "\"How are you?\"\n"
          ]
        }
      ]
    },
    {
      "cell_type": "markdown",
      "metadata": {
        "id": "D8pWdoN7d6Dy"
      },
      "source": [
        "## Double quotations \" \""
      ]
    },
    {
      "cell_type": "markdown",
      "metadata": {
        "id": "rXgbUIBRgQoG"
      },
      "source": [
        "###Task: print message **Hello, world!** (using \" \")"
      ]
    },
    {
      "cell_type": "code",
      "metadata": {
        "id": "oIKwmW2mfe3d",
        "colab": {
          "base_uri": "https://localhost:8080/"
        },
        "outputId": "2c0cec69-0308-4706-d1a8-0dbb1bbf53fd"
      },
      "source": [
        "# your code will be here\n",
        "print(\"Hello, world!\")"
      ],
      "execution_count": 4,
      "outputs": [
        {
          "output_type": "stream",
          "name": "stdout",
          "text": [
            "Hello, world!\n"
          ]
        }
      ]
    },
    {
      "cell_type": "markdown",
      "metadata": {
        "id": "QPoCScdkheK3"
      },
      "source": [
        "###Task: print message **I'm fine.**"
      ]
    },
    {
      "cell_type": "code",
      "metadata": {
        "id": "tsFowDAKhJCB",
        "colab": {
          "base_uri": "https://localhost:8080/"
        },
        "outputId": "b039e1c3-ec90-4690-a407-ac07af266cc1"
      },
      "source": [
        "# your code will be here\n",
        "print(\"I'm fine.\")"
      ],
      "execution_count": 5,
      "outputs": [
        {
          "output_type": "stream",
          "name": "stdout",
          "text": [
            "I'm fine.\n"
          ]
        }
      ]
    },
    {
      "cell_type": "markdown",
      "metadata": {
        "id": "TE6Df1WYhu10"
      },
      "source": [
        "###Task: print message **It's a great day!**"
      ]
    },
    {
      "cell_type": "code",
      "metadata": {
        "id": "MSjQbhNXhJVV",
        "colab": {
          "base_uri": "https://localhost:8080/"
        },
        "outputId": "2026213f-94b8-4204-e2b8-ff54b3a8ca8b"
      },
      "source": [
        "# your code will be here\n",
        "print(\"It's a great day!\")"
      ],
      "execution_count": 6,
      "outputs": [
        {
          "output_type": "stream",
          "name": "stdout",
          "text": [
            "It's a great day!\n"
          ]
        }
      ]
    },
    {
      "cell_type": "markdown",
      "metadata": {
        "id": "0dZCPuYjeDqi"
      },
      "source": [
        "## Triple quotations ''' '''"
      ]
    },
    {
      "cell_type": "markdown",
      "metadata": {
        "id": "f-zusksziv_N"
      },
      "source": [
        "###Task: print the poem below\n",
        "\n",
        "**This**\n",
        "\n",
        "**is**\n",
        "\n",
        "**a**\n",
        "\n",
        "**poem**"
      ]
    },
    {
      "cell_type": "code",
      "metadata": {
        "id": "rVF4T_pwhKMM",
        "colab": {
          "base_uri": "https://localhost:8080/"
        },
        "outputId": "e98195e9-f706-42d7-c4fc-1c4c86171657"
      },
      "source": [
        "# your code will be here\n",
        "print('''\n",
        "This\n",
        "\n",
        "is\n",
        "\n",
        "a\n",
        "\n",
        "poem\n",
        "''')"
      ],
      "execution_count": 7,
      "outputs": [
        {
          "output_type": "stream",
          "name": "stdout",
          "text": [
            "\n",
            "This\n",
            "\n",
            "is\n",
            "\n",
            "a\n",
            "\n",
            "poem\n",
            "\n"
          ]
        }
      ]
    },
    {
      "cell_type": "markdown",
      "metadata": {
        "id": "yls-7KE6kA7o"
      },
      "source": [
        "###Task: print the paragraph below\n",
        "\n",
        "**This is a multi-line**\n",
        "\n",
        "**documentary. It consists**\n",
        "\n",
        "**several sentences and**\n",
        "\n",
        "**might be pages long.**"
      ]
    },
    {
      "cell_type": "code",
      "metadata": {
        "id": "ZZ1XEd29kAIR",
        "colab": {
          "base_uri": "https://localhost:8080/"
        },
        "outputId": "6a62439a-1691-4dcb-f62f-b137f994ae52"
      },
      "source": [
        "# your code will be here\n",
        "print('''\n",
        "This is a multi-line\n",
        "\n",
        "documentary. It consists\n",
        "\n",
        "several sentences and\n",
        "\n",
        "might be pages long.\n",
        "''')"
      ],
      "execution_count": 8,
      "outputs": [
        {
          "output_type": "stream",
          "name": "stdout",
          "text": [
            "\n",
            "This is a multi-line\n",
            "\n",
            "documentary. It consists\n",
            "\n",
            "several sentences and\n",
            "\n",
            "might be pages long.\n",
            "\n"
          ]
        }
      ]
    },
    {
      "cell_type": "markdown",
      "metadata": {
        "id": "DsOakqGCeK7V"
      },
      "source": [
        "## Combinations of quotations"
      ]
    },
    {
      "cell_type": "markdown",
      "metadata": {
        "id": "4iCITSR6h7Yv"
      },
      "source": [
        "###Task: print the dialog below\n",
        "\n",
        "**\"How are you?\"**\n",
        "\n",
        "**\"I'm fine.\"**\n",
        "\n",
        "**\"It's a great day!\"**"
      ]
    },
    {
      "cell_type": "code",
      "metadata": {
        "id": "EKsuK9O6jW7D",
        "colab": {
          "base_uri": "https://localhost:8080/"
        },
        "outputId": "a8f020bd-9d99-4abd-9040-a95c0330a31b"
      },
      "source": [
        "# your code will be here\n",
        "print('''\n",
        "\"How are you?\"\n",
        "\n",
        "\"I'm fine.\"\n",
        "\n",
        "\"It's a great day!\"\n",
        "''')"
      ],
      "execution_count": 9,
      "outputs": [
        {
          "output_type": "stream",
          "name": "stdout",
          "text": [
            "\n",
            "\"How are you?\"\n",
            "\n",
            "\"I'm fine.\"\n",
            "\n",
            "\"It's a great day!\"\n",
            "\n"
          ]
        }
      ]
    }
  ]
}