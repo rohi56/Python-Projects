{
  "nbformat": 4,
  "nbformat_minor": 0,
  "metadata": {
    "colab": {
      "provenance": [],
      "toc_visible": true
    },
    "kernelspec": {
      "name": "python3",
      "display_name": "Python 3"
    },
    "language_info": {
      "name": "python"
    }
  },
  "cells": [
    {
      "cell_type": "markdown",
      "metadata": {
        "id": "cnAUJprJdh9_"
      },
      "source": [
        "# Welcome to our Lab Practice!"
      ]
    },
    {
      "cell_type": "markdown",
      "metadata": {
        "id": "vVYcayGedmms"
      },
      "source": [
        "This lab is about variables, assignments, and their value and data types. Are you ready? Let's get started!"
      ]
    },
    {
      "cell_type": "markdown",
      "metadata": {
        "id": "JP8eGBVyeSQx"
      },
      "source": [
        "You will find some small tasks in sections below."
      ]
    },
    {
      "cell_type": "markdown",
      "metadata": {
        "id": "TNbXeCDFeAcJ"
      },
      "source": [
        "## Value assignment"
      ]
    },
    {
      "cell_type": "markdown",
      "metadata": {
        "id": "EZ42d1Sue0Zp"
      },
      "source": [
        "###Task: assign **x** with an int 5.\n",
        "\n",
        "Use print() and type() to check the value is correctly assigned, and the data type is correct. For example: print('x:', x, type(x))"
      ]
    },
    {
      "cell_type": "code",
      "metadata": {
        "id": "yDzNIHsSeu85",
        "colab": {
          "base_uri": "https://localhost:8080/"
        },
        "outputId": "78e707a8-c6a8-43c1-beb4-4f2e14e541e4"
      },
      "source": [
        "# type your code here\n",
        "x = 5\n",
        "print('x:', x, type(x))"
      ],
      "execution_count": 2,
      "outputs": [
        {
          "output_type": "stream",
          "name": "stdout",
          "text": [
            "x: 5 <class 'int'>\n"
          ]
        }
      ]
    },
    {
      "cell_type": "markdown",
      "metadata": {
        "id": "u8WEYfEqIbWX"
      },
      "source": [
        "###Task: assign **int_x** with x.\n",
        "\n",
        "Use print() and type() to check the value is correctly assigned, and the data type is correct."
      ]
    },
    {
      "cell_type": "code",
      "metadata": {
        "id": "LKSmcHRRJUYY",
        "colab": {
          "base_uri": "https://localhost:8080/"
        },
        "outputId": "0f01e642-68c0-4c8f-f49b-4afed358ce79"
      },
      "source": [
        "# type your code here\n",
        "int_x = x\n",
        "print('int_x:', int_x, type(int_x))"
      ],
      "execution_count": 3,
      "outputs": [
        {
          "output_type": "stream",
          "name": "stdout",
          "text": [
            "int_x: 5 <class 'int'>\n"
          ]
        }
      ]
    },
    {
      "cell_type": "markdown",
      "metadata": {
        "id": "-__o8ovbfSEH"
      },
      "source": [
        "###Task: assign **x** with a float 5.0.\n",
        "\n",
        "Use print() and type() to check the value is correctly assigned, and the data type is correct."
      ]
    },
    {
      "cell_type": "code",
      "metadata": {
        "id": "hOpxhSKog18Y",
        "colab": {
          "base_uri": "https://localhost:8080/"
        },
        "outputId": "4ce70e56-43d2-4a30-f3a0-30e45d0780de"
      },
      "source": [
        "# your code will be here\n",
        "x = 5.0\n",
        "print('x:',x , type(x))"
      ],
      "execution_count": 4,
      "outputs": [
        {
          "output_type": "stream",
          "name": "stdout",
          "text": [
            "x: 5.0 <class 'float'>\n"
          ]
        }
      ]
    },
    {
      "cell_type": "markdown",
      "metadata": {
        "id": "uZYVZQIvIlPy"
      },
      "source": [
        "###Task: assign **float_x** with x.\n",
        "\n",
        "Use print() and type() to check the value is correctly assigned, and the data type is correct."
      ]
    },
    {
      "cell_type": "code",
      "metadata": {
        "id": "Y_3dcyvcQ2GI",
        "colab": {
          "base_uri": "https://localhost:8080/"
        },
        "outputId": "c9713d65-668e-47e1-e0b2-22df407a3b62"
      },
      "source": [
        "# your code will be here\n",
        "float_x = x\n",
        "print('float_x:', float_x, type(float_x))"
      ],
      "execution_count": 5,
      "outputs": [
        {
          "output_type": "stream",
          "name": "stdout",
          "text": [
            "float_x: 5.0 <class 'float'>\n"
          ]
        }
      ]
    },
    {
      "cell_type": "markdown",
      "metadata": {
        "id": "NpCNxK68gpME"
      },
      "source": [
        "###Task: assign **x** with a str '5'.\n",
        "\n",
        "Use print() and type() to check the value is correctly assigned, and the data type is correct."
      ]
    },
    {
      "cell_type": "code",
      "metadata": {
        "id": "txg-7uKfgKeW",
        "colab": {
          "base_uri": "https://localhost:8080/"
        },
        "outputId": "fc7b914b-05f6-4a71-c29a-6bb13e6fc28b"
      },
      "source": [
        "# your code will be here\n",
        "x = '5'\n",
        "print('x:', x, type(x))"
      ],
      "execution_count": 6,
      "outputs": [
        {
          "output_type": "stream",
          "name": "stdout",
          "text": [
            "x: 5 <class 'str'>\n"
          ]
        }
      ]
    },
    {
      "cell_type": "markdown",
      "metadata": {
        "id": "Viln-qF5Irq4"
      },
      "source": [
        "###Task: assign **str1_x** with x.\n",
        "\n",
        "Use print() and type() to check the value is correctly assigned, and the data type is correct."
      ]
    },
    {
      "cell_type": "code",
      "metadata": {
        "id": "EGFHzwI3QzqH",
        "colab": {
          "base_uri": "https://localhost:8080/"
        },
        "outputId": "40d41ca9-4127-41b5-d2e0-b72f57697a64"
      },
      "source": [
        "# your code will be here\n",
        "str1_x = x\n",
        "print('str1_x:', str1_x, type(str1_x))"
      ],
      "execution_count": 7,
      "outputs": [
        {
          "output_type": "stream",
          "name": "stdout",
          "text": [
            "str1_x: 5 <class 'str'>\n"
          ]
        }
      ]
    },
    {
      "cell_type": "markdown",
      "metadata": {
        "id": "e0YP4pWzIQy0"
      },
      "source": [
        "###Task: assign **x** with a str '5.0'.\n",
        "\n",
        "Use print() and type() to check the value is correctly assigned, and the data type is correct."
      ]
    },
    {
      "cell_type": "code",
      "metadata": {
        "id": "i5oNpnSiIPtD",
        "colab": {
          "base_uri": "https://localhost:8080/"
        },
        "outputId": "5d0a7042-9607-4983-816c-3c25c4c18155"
      },
      "source": [
        "# your code will be here\n",
        "x = '5.0'\n",
        "print('x:', x, type(x))"
      ],
      "execution_count": 8,
      "outputs": [
        {
          "output_type": "stream",
          "name": "stdout",
          "text": [
            "x: 5.0 <class 'str'>\n"
          ]
        }
      ]
    },
    {
      "cell_type": "markdown",
      "metadata": {
        "id": "9EwSZrKrIvat"
      },
      "source": [
        "###Task: assign **str2_x** with x.\n",
        "\n",
        "Use print() and type() to check the value is correctly assigned, and the data type is correct."
      ]
    },
    {
      "cell_type": "code",
      "metadata": {
        "id": "fobTAXmGJmV0",
        "colab": {
          "base_uri": "https://localhost:8080/"
        },
        "outputId": "dbd7a36a-7397-480a-daf8-f73e2e9ac28c"
      },
      "source": [
        "# your code will be here\n",
        "str2_x = x\n",
        "print('str2_x:', str2_x, type(str2_x))"
      ],
      "execution_count": 9,
      "outputs": [
        {
          "output_type": "stream",
          "name": "stdout",
          "text": [
            "str2_x: 5.0 <class 'str'>\n"
          ]
        }
      ]
    },
    {
      "cell_type": "markdown",
      "metadata": {
        "id": "4xBE9LqXJpow"
      },
      "source": [
        "###Task: check all variables.\n",
        "\n",
        "Use print() and type() to check all the variables you created so far: **x, int_x, float_x, str1_x, str2_x** value and data types."
      ]
    },
    {
      "cell_type": "code",
      "metadata": {
        "id": "gDFtlm4lJopJ",
        "colab": {
          "base_uri": "https://localhost:8080/"
        },
        "outputId": "c4af0758-d70d-4b84-83ea-35f4ef5c14eb"
      },
      "source": [
        "# your code will be here\n",
        "print('x:', x, type(x))\n",
        "print('int_x:', int_x, type(int_x))\n",
        "print('float_x:', float_x, type(float_x))\n",
        "print('str1_x:', str1_x, type(str1_x))"
      ],
      "execution_count": 10,
      "outputs": [
        {
          "output_type": "stream",
          "name": "stdout",
          "text": [
            "x: 5.0 <class 'str'>\n",
            "int_x: 5 <class 'int'>\n",
            "float_x: 5.0 <class 'float'>\n",
            "str1_x: 5 <class 'str'>\n"
          ]
        }
      ]
    },
    {
      "cell_type": "markdown",
      "metadata": {
        "id": "D8pWdoN7d6Dy"
      },
      "source": [
        "## Value converting\n",
        "\n",
        "For the task below, convert data value from one type to another, assign it to x, and use print() and type() to check for correctness."
      ]
    },
    {
      "cell_type": "markdown",
      "metadata": {
        "id": "rXgbUIBRgQoG"
      },
      "source": [
        "###Task: convert a str '0' to int"
      ]
    },
    {
      "cell_type": "code",
      "metadata": {
        "id": "oIKwmW2mfe3d",
        "colab": {
          "base_uri": "https://localhost:8080/"
        },
        "outputId": "503da410-f06f-4ccf-905f-246974712619"
      },
      "source": [
        "# your code will be here\n",
        "x = int('0')\n",
        "print('x:', x, type(x))\n"
      ],
      "execution_count": 11,
      "outputs": [
        {
          "output_type": "stream",
          "name": "stdout",
          "text": [
            "x: 0 <class 'int'>\n"
          ]
        }
      ]
    },
    {
      "cell_type": "markdown",
      "metadata": {
        "id": "aUD7waGAM-au"
      },
      "source": [
        "###Task: convert a float 0.1 to int"
      ]
    },
    {
      "cell_type": "code",
      "metadata": {
        "id": "lHsYgPViNBre",
        "colab": {
          "base_uri": "https://localhost:8080/"
        },
        "outputId": "5dee8dbc-45a4-4ceb-8201-a43ae54221a5"
      },
      "source": [
        "# your code will be here\n",
        "x = int(0.1)\n",
        "print('x:', x, type(x))"
      ],
      "execution_count": 12,
      "outputs": [
        {
          "output_type": "stream",
          "name": "stdout",
          "text": [
            "x: 0 <class 'int'>\n"
          ]
        }
      ]
    },
    {
      "cell_type": "markdown",
      "metadata": {
        "id": "QPoCScdkheK3"
      },
      "source": [
        "###Task: convert a str '0' to float"
      ]
    },
    {
      "cell_type": "code",
      "metadata": {
        "id": "tsFowDAKhJCB",
        "colab": {
          "base_uri": "https://localhost:8080/"
        },
        "outputId": "741eda24-51b9-4007-b6a0-b85f69facdf1"
      },
      "source": [
        "# your code will be here\n",
        "x=  float('0')\n",
        "print('x:', x, type(x))"
      ],
      "execution_count": 13,
      "outputs": [
        {
          "output_type": "stream",
          "name": "stdout",
          "text": [
            "x: 0.0 <class 'float'>\n"
          ]
        }
      ]
    },
    {
      "cell_type": "markdown",
      "metadata": {
        "id": "TE6Df1WYhu10"
      },
      "source": [
        "###Task: convert an int 0 to float"
      ]
    },
    {
      "cell_type": "code",
      "metadata": {
        "id": "MSjQbhNXhJVV",
        "colab": {
          "base_uri": "https://localhost:8080/"
        },
        "outputId": "57444a6f-3fcc-4c51-ddd3-c337e29e6c08"
      },
      "source": [
        "# your code will be here\n",
        "x = float(0)\n",
        "print('x:', x, type(x))"
      ],
      "execution_count": 14,
      "outputs": [
        {
          "output_type": "stream",
          "name": "stdout",
          "text": [
            "x: 0.0 <class 'float'>\n"
          ]
        }
      ]
    },
    {
      "cell_type": "markdown",
      "metadata": {
        "id": "f-zusksziv_N"
      },
      "source": [
        "###Task: convert an int 0 to str"
      ]
    },
    {
      "cell_type": "code",
      "metadata": {
        "id": "rVF4T_pwhKMM",
        "colab": {
          "base_uri": "https://localhost:8080/"
        },
        "outputId": "f8936f2b-12ef-4807-d24a-496abb06065c"
      },
      "source": [
        "# your code will be here\n",
        "x = str(0)\n",
        "print('x:', x, type(x))"
      ],
      "execution_count": 15,
      "outputs": [
        {
          "output_type": "stream",
          "name": "stdout",
          "text": [
            "x: 0 <class 'str'>\n"
          ]
        }
      ]
    },
    {
      "cell_type": "markdown",
      "metadata": {
        "id": "yls-7KE6kA7o"
      },
      "source": [
        "###Task: convert a float 0.1 to str"
      ]
    },
    {
      "cell_type": "code",
      "metadata": {
        "id": "ZZ1XEd29kAIR",
        "colab": {
          "base_uri": "https://localhost:8080/"
        },
        "outputId": "4837cb07-a1b2-4f5a-fa7f-c97afca0f763"
      },
      "source": [
        "# your code will be here\n",
        "x= str(0.1)\n",
        "print('x:', x, type(x))"
      ],
      "execution_count": 16,
      "outputs": [
        {
          "output_type": "stream",
          "name": "stdout",
          "text": [
            "x: 0.1 <class 'str'>\n"
          ]
        }
      ]
    }
  ]
}