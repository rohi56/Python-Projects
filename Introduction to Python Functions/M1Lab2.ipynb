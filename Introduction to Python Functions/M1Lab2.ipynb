{
  "nbformat": 4,
  "nbformat_minor": 0,
  "metadata": {
    "colab": {
      "provenance": [],
      "toc_visible": true
    },
    "kernelspec": {
      "name": "python3",
      "display_name": "Python 3"
    },
    "language_info": {
      "name": "python"
    }
  },
  "cells": [
    {
      "cell_type": "markdown",
      "metadata": {
        "id": "cnAUJprJdh9_"
      },
      "source": [
        "# Welcome to our Lab Practice!"
      ]
    },
    {
      "cell_type": "markdown",
      "metadata": {
        "id": "vVYcayGedmms"
      },
      "source": [
        "This lab is all about defining simple functions. Are you ready? Let's go!"
      ]
    },
    {
      "cell_type": "markdown",
      "metadata": {
        "id": "JP8eGBVyeSQx"
      },
      "source": [
        "You will find some small tasks in sections below."
      ]
    },
    {
      "cell_type": "markdown",
      "metadata": {
        "id": "D8pWdoN7d6Dy"
      },
      "source": [
        "## Define simple functions (without return value and parameters)"
      ]
    },
    {
      "cell_type": "markdown",
      "metadata": {
        "id": "rXgbUIBRgQoG"
      },
      "source": [
        "###Task: define a function that print \"hello world\""
      ]
    },
    {
      "cell_type": "code",
      "metadata": {
        "id": "oIKwmW2mfe3d",
        "colab": {
          "base_uri": "https://localhost:8080/"
        },
        "outputId": "a1599636-aa31-4886-d6f3-749253b8873b"
      },
      "source": [
        "# your code will be here\n",
        "def hello():\n",
        "  print(\"hello world\")\n",
        "\n",
        "hello()"
      ],
      "execution_count": 2,
      "outputs": [
        {
          "output_type": "stream",
          "name": "stdout",
          "text": [
            "hello world\n"
          ]
        }
      ]
    },
    {
      "cell_type": "markdown",
      "source": [
        "###Task: define a function that print \"hello world\" 3 times"
      ],
      "metadata": {
        "id": "h-mrQgK7RKqm"
      }
    },
    {
      "cell_type": "code",
      "source": [
        "# your code will be here\n",
        "def hello3():\n",
        "  for i in range(3):\n",
        "    print(\"hello world\")\n",
        "\n",
        "hello3()"
      ],
      "metadata": {
        "id": "47f7Q_AIRMUW",
        "colab": {
          "base_uri": "https://localhost:8080/"
        },
        "outputId": "93b24a5d-f007-4a9a-914d-9bec615d6409"
      },
      "execution_count": 3,
      "outputs": [
        {
          "output_type": "stream",
          "name": "stdout",
          "text": [
            "hello world\n",
            "hello world\n",
            "hello world\n"
          ]
        }
      ]
    },
    {
      "cell_type": "markdown",
      "source": [
        "###Task: define a function that print integers 1 to 10 (hint: you can use a for loop)"
      ],
      "metadata": {
        "id": "1y6noqXNRMpG"
      }
    },
    {
      "cell_type": "code",
      "source": [
        "# your code will be here\n",
        "def prrinting1to10():\n",
        "  for i in range(1,11):\n",
        "    print(i)\n",
        "\n",
        "prrinting1to10()"
      ],
      "metadata": {
        "id": "FR7idsVORX5_",
        "colab": {
          "base_uri": "https://localhost:8080/"
        },
        "outputId": "f2a343eb-020a-4a9e-9fe2-6fcf93aae7c5"
      },
      "execution_count": 4,
      "outputs": [
        {
          "output_type": "stream",
          "name": "stdout",
          "text": [
            "1\n",
            "2\n",
            "3\n",
            "4\n",
            "5\n",
            "6\n",
            "7\n",
            "8\n",
            "9\n",
            "10\n"
          ]
        }
      ]
    },
    {
      "cell_type": "markdown",
      "source": [
        "###Task: define a function that print primary integers in 100 (hint: you can use loops)"
      ],
      "metadata": {
        "id": "OoTXs3WERYju"
      }
    },
    {
      "cell_type": "code",
      "source": [
        "# your code will be here\n",
        "def print_primary_in_100():\n",
        "  for i in range(2,101):\n",
        "    for j in range(2,i):\n",
        "      if i%j==0:\n",
        "        break\n",
        "    else:\n",
        "      print(i)\n",
        "\n",
        "print_primary_in_100()"
      ],
      "metadata": {
        "id": "2pS4qJ54RhKf",
        "colab": {
          "base_uri": "https://localhost:8080/"
        },
        "outputId": "7f71310b-c59a-475d-d165-c690da3bd66f"
      },
      "execution_count": 5,
      "outputs": [
        {
          "output_type": "stream",
          "name": "stdout",
          "text": [
            "2\n",
            "3\n",
            "5\n",
            "7\n",
            "11\n",
            "13\n",
            "17\n",
            "19\n",
            "23\n",
            "29\n",
            "31\n",
            "37\n",
            "41\n",
            "43\n",
            "47\n",
            "53\n",
            "59\n",
            "61\n",
            "67\n",
            "71\n",
            "73\n",
            "79\n",
            "83\n",
            "89\n",
            "97\n"
          ]
        }
      ]
    },
    {
      "cell_type": "markdown",
      "source": [
        "###Task: define a function that print even number from 1 to 10."
      ],
      "metadata": {
        "id": "yU8y7mCoRmRH"
      }
    },
    {
      "cell_type": "code",
      "source": [
        "# your code will be here\n",
        "def even():\n",
        "  for i in range(2,11,2):\n",
        "    print(i)\n",
        "\n",
        "even()"
      ],
      "metadata": {
        "id": "g67KsRe3R2KG",
        "colab": {
          "base_uri": "https://localhost:8080/"
        },
        "outputId": "ebd8fa6b-5d99-4fbb-aa8d-066217b6eb28"
      },
      "execution_count": 6,
      "outputs": [
        {
          "output_type": "stream",
          "name": "stdout",
          "text": [
            "2\n",
            "4\n",
            "6\n",
            "8\n",
            "10\n"
          ]
        }
      ]
    },
    {
      "cell_type": "markdown",
      "metadata": {
        "id": "QPoCScdkheK3"
      },
      "source": [
        "###Task: define a function that print odd number from 1 to 10"
      ]
    },
    {
      "cell_type": "code",
      "metadata": {
        "id": "tsFowDAKhJCB",
        "colab": {
          "base_uri": "https://localhost:8080/"
        },
        "outputId": "e9a26dae-dfe2-4ca5-88b6-43e04569a38a"
      },
      "source": [
        "# your code will be here\n",
        "def odd():\n",
        "  for i in range(1,11,2):\n",
        "    print(i)\n",
        "\n",
        "odd()"
      ],
      "execution_count": 7,
      "outputs": [
        {
          "output_type": "stream",
          "name": "stdout",
          "text": [
            "1\n",
            "3\n",
            "5\n",
            "7\n",
            "9\n"
          ]
        }
      ]
    },
    {
      "cell_type": "markdown",
      "metadata": {
        "id": "TE6Df1WYhu10"
      },
      "source": [
        "###Task: define a function that print \"Welcome to Course 2\""
      ]
    },
    {
      "cell_type": "code",
      "metadata": {
        "id": "MSjQbhNXhJVV",
        "colab": {
          "base_uri": "https://localhost:8080/"
        },
        "outputId": "26af177f-b91a-4cc5-b024-ae75ba11b9b5"
      },
      "source": [
        "# your code will be here\n",
        "def welcome():\n",
        "  print(\"Welcome to Course 2\")\n",
        "\n",
        "welcome()"
      ],
      "execution_count": 8,
      "outputs": [
        {
          "output_type": "stream",
          "name": "stdout",
          "text": [
            "Welcome to Course 2\n"
          ]
        }
      ]
    },
    {
      "cell_type": "markdown",
      "metadata": {
        "id": "4iCITSR6h7Yv"
      },
      "source": [
        "###Task: define a function that print \"Welcome to Courose 2\" 10 times."
      ]
    },
    {
      "cell_type": "code",
      "metadata": {
        "id": "EKsuK9O6jW7D",
        "colab": {
          "base_uri": "https://localhost:8080/"
        },
        "outputId": "137ebac0-c962-4767-ec42-9618322c86e8"
      },
      "source": [
        "# your code will be here\n",
        "def welcome10():\n",
        "  for i in range(10):\n",
        "    print(\"Welcome to Course 2\")\n",
        "\n",
        "welcome10()"
      ],
      "execution_count": 9,
      "outputs": [
        {
          "output_type": "stream",
          "name": "stdout",
          "text": [
            "Welcome to Course 2\n",
            "Welcome to Course 2\n",
            "Welcome to Course 2\n",
            "Welcome to Course 2\n",
            "Welcome to Course 2\n",
            "Welcome to Course 2\n",
            "Welcome to Course 2\n",
            "Welcome to Course 2\n",
            "Welcome to Course 2\n",
            "Welcome to Course 2\n"
          ]
        }
      ]
    }
  ]
}