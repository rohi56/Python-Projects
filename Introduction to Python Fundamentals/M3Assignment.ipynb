{
  "nbformat": 4,
  "nbformat_minor": 0,
  "metadata": {
    "colab": {
      "provenance": [],
      "toc_visible": true
    },
    "kernelspec": {
      "name": "python3",
      "display_name": "Python 3"
    },
    "language_info": {
      "name": "python"
    }
  },
  "cells": [
    {
      "cell_type": "markdown",
      "metadata": {
        "id": "cnAUJprJdh9_"
      },
      "source": [
        "# Welcome to our third assignment!"
      ]
    },
    {
      "cell_type": "markdown",
      "metadata": {
        "id": "vVYcayGedmms"
      },
      "source": [
        "This assignment is about testing your understanding of flow control: branching.\n",
        "\n",
        "We are going to create some simple programs using these tools. Are you ready? Let's get started!"
      ]
    },
    {
      "cell_type": "markdown",
      "metadata": {
        "id": "JP8eGBVyeSQx"
      },
      "source": [
        "You will find some small tasks in sections below. You should use input() to get the user to enter the information and use print() to print the information on the screen. At this moment, we can assume users will follow instructions carefully - they will enter the valid inputs as required."
      ]
    },
    {
      "cell_type": "markdown",
      "metadata": {
        "id": "TNbXeCDFeAcJ"
      },
      "source": [
        "## What day is today?\n",
        "\n",
        "###Instruction: Write a program that asks the user for a number in the range of 1 through 7. The program should display the corresponding day of the week, where\n",
        "\n",
        "* 1    = Monday,\n",
        "* 2    = Tuesday,\n",
        "* 3    = Wednesday,\n",
        "* 4    = Thursday,\n",
        "* 5    = Friday,\n",
        "* 6    = Saturday, and\n",
        "* 7    = Sunday\n",
        "* all other value entered = ERROR"
      ]
    },
    {
      "cell_type": "code",
      "metadata": {
        "id": "x6IbZ6rFw76O",
        "colab": {
          "base_uri": "https://localhost:8080/"
        },
        "outputId": "9e4b5b7e-7908-4abc-910e-94998ae4c7d6"
      },
      "source": [
        "# your code is here\n",
        "days = int(input(\"Enter the day of the week you have to check :\"))\n",
        "if days == 1:\n",
        "  print(\"Monday\")\n",
        "elif days == 2:\n",
        "  print(\"Tuesday\")\n",
        "elif days == 3:\n",
        "  print(\"Wednesday\")\n",
        "elif days == 4:\n",
        "  print(\"Thursday\")\n",
        "elif days == 5:\n",
        "  print(\"Friday\")\n",
        "elif days == 6:\n",
        "  print(\"Saturday\")\n",
        "elif days == 7:\n",
        "  print(\"Sunday\")\n",
        "else:\n",
        "  print(\"ERROR\")"
      ],
      "execution_count": 2,
      "outputs": [
        {
          "output_type": "stream",
          "name": "stdout",
          "text": [
            "Enter the day of the week you have to check :12\n",
            "ERROR\n"
          ]
        }
      ]
    },
    {
      "cell_type": "markdown",
      "metadata": {
        "id": "fZfiqg5lxFKF"
      },
      "source": [
        "## Tax Calculator\n",
        "\n",
        "###Instruction: You are going to program a  simple tax calculator.\n",
        "\n",
        "step1: Ask the user to enter the gross income of year 2022.\n",
        "\n",
        "step2: Calculate the tax based on following formula:\n",
        "\n",
        "1.   Less than \\$100,000, one pays just 1%\n",
        "2.   More than \\$100,000 one pays 5%\n",
        "3.   More than \\$500,000 then one pays 5% tax on the first 500,000 and 2 cents for every dollar above 500,000\n",
        "\n",
        "step3: Print the tax amount on the screen."
      ]
    },
    {
      "cell_type": "code",
      "metadata": {
        "id": "2bODNGPSx1-m",
        "colab": {
          "base_uri": "https://localhost:8080/"
        },
        "outputId": "03dda407-5ffb-434b-d857-0e7096bcd0d8"
      },
      "source": [
        "# your code is here\n",
        "income = int(input(\"Enter the gross income of year 2022 :\"))\n",
        "if income < 100000:\n",
        "  tax = income + (income * 0.01)\n",
        "elif income < 500000:\n",
        "  tax = income + (income * 0.05)\n",
        "elif income > 500000:\n",
        "  first = income + (income * 0.05)\n",
        "  second = (income - 500000) * 0.02\n",
        "  tax = first + second\n",
        "else:\n",
        "  print(\"ERROR\")\n",
        "print(tax)"
      ],
      "execution_count": 9,
      "outputs": [
        {
          "output_type": "stream",
          "name": "stdout",
          "text": [
            "Enter the gross income of year 2022 :600000\n",
            "632000.0\n"
          ]
        }
      ]
    },
    {
      "cell_type": "markdown",
      "metadata": {
        "id": "cZmW-HnwyHcI"
      },
      "source": [
        "## A Simple Calculator\n",
        "\n",
        "###Instruction: You are going to program a super simple Calcualtor.\n",
        "\n",
        "step1: Ask the user to enter the first number, store it in x\n",
        "\n",
        "step2: Ask the user to enter the second number, store it in y\n",
        "\n",
        "step3: Ask the user to enter the operator, store it in p\n",
        "\n",
        "step4: Calculate the result of x p y.\n",
        "\n",
        "For example, if the user entered 2, 3, and +, you should print 2.0 + 3.0 = 5.0 on the screen"
      ]
    },
    {
      "cell_type": "code",
      "metadata": {
        "id": "wk6FHvAvyr_G",
        "colab": {
          "base_uri": "https://localhost:8080/"
        },
        "outputId": "d4d3d9cf-350e-4818-a123-49d870fce9a0"
      },
      "source": [
        "# your code is here\n",
        "x = float(input(\"Enter the first number :\"))\n",
        "y = float(input(\"Enter the second number :\"))\n",
        "p = input(\"Enter the operator :\")\n",
        "if p == \"+\":\n",
        "  print(x + y)\n",
        "elif p == \"-\":\n",
        "  print(x - y)\n",
        "elif p == \"*\":\n",
        "  print(x * y)\n",
        "elif p == \"/\":\n",
        "  print(x / y)\n",
        "else:\n",
        "  print(\"ERROR\")"
      ],
      "execution_count": 10,
      "outputs": [
        {
          "output_type": "stream",
          "name": "stdout",
          "text": [
            "Enter the first number :5\n",
            "Enter the second number :5\n",
            "Enter the operator :+\n",
            "10\n"
          ]
        }
      ]
    },
    {
      "cell_type": "markdown",
      "metadata": {
        "id": "auP4vt99EOJx"
      },
      "source": [
        "## Taxi Fare Calculator\n",
        "\n",
        "###Instruction: You are going to program a simple Calcualtor for a taxi.\n",
        "\n",
        "step1: Ask the driver to enter total miles, store it in m\n",
        "\n",
        "step2: Calculate the fare based on the formular\n",
        "\n",
        "*   if m < 10, fare is \\$5\n",
        "*   if 10 <= m < 20, fare is \\$5 plus \\$1 for every mile beyond 10.\n",
        "*   if m >= 20, fare is \\$5 plus \\$1.5 for every mile beyond 10\n",
        "\n",
        "step3: print the fare.\n"
      ]
    },
    {
      "cell_type": "code",
      "metadata": {
        "id": "3sEH96OkGAzR",
        "colab": {
          "base_uri": "https://localhost:8080/"
        },
        "outputId": "64f26892-73ab-4ea0-d185-c5f5aad21261"
      },
      "source": [
        "# your code is here\n",
        "m = float(input(\"Enter the total miles :\"))\n",
        "if m <=9:\n",
        "  fare = 5\n",
        "elif m <= 20:\n",
        "  fare = 5 + ((m - 10)*1)\n",
        "elif m >= 20:\n",
        "  fare = 5 + ((m - 10) * 1.5)\n",
        "else:\n",
        "  print(\"ERROR\")\n",
        "print(fare)"
      ],
      "execution_count": 15,
      "outputs": [
        {
          "output_type": "stream",
          "name": "stdout",
          "text": [
            "Enter the total miles :35\n",
            "42.5\n"
          ]
        }
      ]
    },
    {
      "cell_type": "markdown",
      "metadata": {
        "id": "ylesrgONGCbf"
      },
      "source": [
        "## Flash Shipping charges\n",
        "\n",
        "###Instruction: You are going to program a shipping charge calculator for a deliver company - Flash Shipping.\n",
        "\n",
        "The rate of delivery is as below\n",
        "\n",
        "| Weight of Package | Domestic Rate Per Pound | International Rate Per Pound |\n",
        "| --- | --- | --- |\n",
        "| 2 lbs or less | \\$1.5 | \\$5.0 |\n",
        "| More than 2 lbs but no more than 6 lbs | \\$2.5 | \\$7.0 |\n",
        "| Morethan 6 lbs but no more than 20 lbs | \\$3.5 | \\$10.0 |\n",
        "| More than 20 lbs | \\$5.0 | \\$15.0 |\n",
        "\n",
        "step1: Ask the user to enter the weight of the package, and the destination (domestic or international)\n",
        "\n",
        "step2: Calculate the shipping charge based on the rate\n",
        "\n",
        "step3: print the charge.\n"
      ]
    },
    {
      "cell_type": "code",
      "metadata": {
        "id": "PntyPGzNHiYw",
        "colab": {
          "base_uri": "https://localhost:8080/"
        },
        "outputId": "76ca837d-74d3-4588-8c2c-1879514dc387"
      },
      "source": [
        "# your code is here\n",
        "weight = float(input(\"Enter the weight of the package :\"))\n",
        "destination = input(\"Enter the destination :\")\n",
        "if weight <= 2 and destination == \"domestic\":\n",
        "  charge = weight * 1.5\n",
        "elif weight <= 2 and destination == \"international\":\n",
        "  charge = weight * 5\n",
        "elif weight <= 6 and destination == \"domestic\":\n",
        "  charge = weight * 2.5\n",
        "elif weight <= 6 and destination == \"international\":\n",
        "  charge = weight * 7\n",
        "elif weight <= 20 and destination == \"domestic\":\n",
        "  charge = weight * 3.5\n",
        "elif weight <= 20 and destination == \"international\":\n",
        "  charge = weight * 10\n",
        "elif weight > 20 and destination == \"domestic\":\n",
        "  charge = weight * 5\n",
        "elif weight > 20 and destination == \"international\":\n",
        "  charge = weight * 15\n",
        "else:\n",
        "  print(\"ERROR\")\n",
        "print(charge)\n"
      ],
      "execution_count": 16,
      "outputs": [
        {
          "output_type": "stream",
          "name": "stdout",
          "text": [
            "Enter the weight of the package :25\n",
            "Enter the destination :international\n",
            "375.0\n"
          ]
        }
      ]
    },
    {
      "cell_type": "markdown",
      "metadata": {
        "id": "7Ysdu7UJ_qf8"
      },
      "source": [
        "**Congratulations! You finished this Assignment and completed Module 3!**"
      ]
    }
  ]
}