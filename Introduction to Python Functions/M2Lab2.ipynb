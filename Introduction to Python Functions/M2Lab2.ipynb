{
  "nbformat": 4,
  "nbformat_minor": 0,
  "metadata": {
    "colab": {
      "provenance": [],
      "toc_visible": true
    },
    "kernelspec": {
      "name": "python3",
      "display_name": "Python 3"
    },
    "language_info": {
      "name": "python"
    }
  },
  "cells": [
    {
      "cell_type": "markdown",
      "metadata": {
        "id": "cnAUJprJdh9_"
      },
      "source": [
        "# Welcome to our Lab Practice!"
      ]
    },
    {
      "cell_type": "markdown",
      "metadata": {
        "id": "vVYcayGedmms"
      },
      "source": [
        "This lab is all about defining functions with multiple parameters. Are you ready? Let's go!"
      ]
    },
    {
      "cell_type": "markdown",
      "metadata": {
        "id": "JP8eGBVyeSQx"
      },
      "source": [
        "You will find some small tasks in sections below. After defining functions, call them to test."
      ]
    },
    {
      "cell_type": "markdown",
      "source": [
        "###Task: define a function that print \"*message*\" *n* times, where *message* and *n* are parameters"
      ],
      "metadata": {
        "id": "MBpHkOhIfmrY"
      }
    },
    {
      "cell_type": "code",
      "source": [
        "# your code will be here\n",
        "def nmsg(message,n):\n",
        "  for i in range(n):\n",
        "    print(message)\n",
        "\n",
        "nmsg(\"Hello World\", 5)"
      ],
      "metadata": {
        "id": "Orw6NIIef0Wp",
        "colab": {
          "base_uri": "https://localhost:8080/"
        },
        "outputId": "627d1a0f-ecb5-4540-df2d-c5254c682c86"
      },
      "execution_count": 2,
      "outputs": [
        {
          "output_type": "stream",
          "name": "stdout",
          "text": [
            "Hello World\n",
            "Hello World\n",
            "Hello World\n",
            "Hello World\n",
            "Hello World\n"
          ]
        }
      ]
    },
    {
      "cell_type": "markdown",
      "source": [
        "###Task: define a function that print integers *n*  to *m* (hint: you can use a for loop), where *n* and *m* are parameters, and *n < m*.\n",
        "\n",
        "Challenge: Can you write a program that doesn't require *n < m*?"
      ],
      "metadata": {
        "id": "DVjL6nU0f2Z_"
      }
    },
    {
      "cell_type": "code",
      "source": [
        "# your code will be here\n",
        "def printnm(n,m):\n",
        "  for i in range(n,m+1):\n",
        "    print(i)\n",
        "\n",
        "printnm(5,10)\n"
      ],
      "metadata": {
        "id": "2iYaPzVSghML",
        "colab": {
          "base_uri": "https://localhost:8080/"
        },
        "outputId": "9c28344e-707d-44e1-dad2-d62c507fe3e8"
      },
      "execution_count": 6,
      "outputs": [
        {
          "output_type": "stream",
          "name": "stdout",
          "text": [
            "5\n",
            "6\n",
            "7\n",
            "8\n",
            "9\n",
            "10\n"
          ]
        }
      ]
    },
    {
      "cell_type": "code",
      "source": [
        "def print_range(n, m):\n",
        "    if n <= m:\n",
        "        for i in range(n, m + 1):\n",
        "            print(i)\n",
        "    else:\n",
        "        for i in range(n, m - 1, -1):\n",
        "            print(i)\n",
        "\n",
        "print_range(10,5)"
      ],
      "metadata": {
        "colab": {
          "base_uri": "https://localhost:8080/"
        },
        "id": "6YvKZ1Bu8IMT",
        "outputId": "bc92518d-9779-41a2-9eac-4563218d6bdc"
      },
      "execution_count": 10,
      "outputs": [
        {
          "output_type": "stream",
          "name": "stdout",
          "text": [
            "10\n",
            "9\n",
            "8\n",
            "7\n",
            "6\n",
            "5\n"
          ]
        }
      ]
    },
    {
      "cell_type": "markdown",
      "source": [
        "###Task: define a function that print the sum of *n*  to *m*, where *n, m* are parameters, and *n* < *m*."
      ],
      "metadata": {
        "id": "YhJrQh4eghzb"
      }
    },
    {
      "cell_type": "code",
      "source": [
        "# your code will be here\n",
        "def sumrange(n,m):\n",
        "  sum = 0\n",
        "  for i in range(n,m+1):\n",
        "    sum += i\n",
        "  return sum\n",
        "\n",
        "sumrange(5,10)"
      ],
      "metadata": {
        "id": "n2Mm6RVYgwOq",
        "colab": {
          "base_uri": "https://localhost:8080/"
        },
        "outputId": "e84ce458-707e-4c4a-cd77-dc23b437633f"
      },
      "execution_count": 11,
      "outputs": [
        {
          "output_type": "execute_result",
          "data": {
            "text/plain": [
              "45"
            ]
          },
          "metadata": {},
          "execution_count": 11
        }
      ]
    },
    {
      "cell_type": "markdown",
      "source": [
        "###Task: define a function that print the AND logical operation of *condition1* and *condition 2*, where *condition1, condition2* are parameters."
      ],
      "metadata": {
        "id": "LzU4n3lDgzMR"
      }
    },
    {
      "cell_type": "code",
      "source": [
        "# your code will be here\n",
        "def andlogical(condition1,condition2):\n",
        "  if condition1 and condition2:\n",
        "    return True\n",
        "  else:\n",
        "    return False\n",
        "\n",
        "andlogical(True,False)"
      ],
      "metadata": {
        "id": "aoARtrf-hEJR",
        "colab": {
          "base_uri": "https://localhost:8080/"
        },
        "outputId": "af4862ad-9895-4f81-bccd-7a12a3a2d235"
      },
      "execution_count": 12,
      "outputs": [
        {
          "output_type": "execute_result",
          "data": {
            "text/plain": [
              "False"
            ]
          },
          "metadata": {},
          "execution_count": 12
        }
      ]
    },
    {
      "cell_type": "markdown",
      "source": [
        "###Task: define a function that print if *n* is dividible by *m*, where *n, m* are parameters."
      ],
      "metadata": {
        "id": "WLCfkBtOhEfa"
      }
    },
    {
      "cell_type": "code",
      "source": [
        "# your code will be here\n",
        "def dividible(n,m):\n",
        "  if n % m == 0:\n",
        "    return True\n",
        "  else:\n",
        "    return False\n",
        "\n",
        "dividible(10,5)"
      ],
      "metadata": {
        "id": "h_aYoPmWhPRL",
        "colab": {
          "base_uri": "https://localhost:8080/"
        },
        "outputId": "24b6547e-bce4-4c35-957e-1bbcae4d32b7"
      },
      "execution_count": 13,
      "outputs": [
        {
          "output_type": "execute_result",
          "data": {
            "text/plain": [
              "True"
            ]
          },
          "metadata": {},
          "execution_count": 13
        }
      ]
    },
    {
      "cell_type": "markdown",
      "source": [
        "###Task: define a function that print the minimal number from *x, y, z*, where *x, y, z* are parameters"
      ],
      "metadata": {
        "id": "RNil8H04hUDq"
      }
    },
    {
      "cell_type": "code",
      "source": [
        "# your code will be here\n",
        "def minnum(x,y,z):\n",
        "  min = x\n",
        "  if y < min:\n",
        "    min = y\n",
        "  if z < min:\n",
        "    min = z\n",
        "  return min\n",
        "\n",
        "minnum(5,10,15)\n"
      ],
      "metadata": {
        "id": "HaZfxaajhhn8",
        "colab": {
          "base_uri": "https://localhost:8080/"
        },
        "outputId": "abc9ed73-44da-463b-de09-2800b6c4d386"
      },
      "execution_count": 14,
      "outputs": [
        {
          "output_type": "execute_result",
          "data": {
            "text/plain": [
              "5"
            ]
          },
          "metadata": {},
          "execution_count": 14
        }
      ]
    }
  ]
}