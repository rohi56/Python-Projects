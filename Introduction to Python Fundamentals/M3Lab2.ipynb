{
  "nbformat": 4,
  "nbformat_minor": 0,
  "metadata": {
    "colab": {
      "provenance": [],
      "toc_visible": true
    },
    "kernelspec": {
      "name": "python3",
      "display_name": "Python 3"
    },
    "language_info": {
      "name": "python"
    }
  },
  "cells": [
    {
      "cell_type": "markdown",
      "metadata": {
        "id": "cnAUJprJdh9_"
      },
      "source": [
        "# Welcome to our Lab Practice!"
      ]
    },
    {
      "cell_type": "markdown",
      "metadata": {
        "id": "vVYcayGedmms"
      },
      "source": [
        "This lab is about branching - if-else statements. Are you ready? Let's get started!"
      ]
    },
    {
      "cell_type": "markdown",
      "metadata": {
        "id": "JP8eGBVyeSQx"
      },
      "source": [
        "You will find some small tasks in sections below."
      ]
    },
    {
      "cell_type": "markdown",
      "metadata": {
        "id": "EZ42d1Sue0Zp"
      },
      "source": [
        "###Task: Check if the weather is good for hiking.\n",
        "\n",
        "You should ask the user to enter a float value as the temporature in Fahrenheit.\n",
        "*   If the temporature is within [60, 80], print \"Perfect\";\n",
        "*   otherwise, print \"Not that good\"."
      ]
    },
    {
      "cell_type": "code",
      "metadata": {
        "id": "yDzNIHsSeu85",
        "colab": {
          "base_uri": "https://localhost:8080/"
        },
        "outputId": "c6d22866-7c29-406f-a2a3-6181bb0f7da6"
      },
      "source": [
        "# type your code here\n",
        "temp = float(input(\"Enter the Temperature:\"))\n",
        "if temp >=60 and temp <=80:\n",
        "  print(\"Perfect\")\n",
        "else:\n",
        "  print(\"Not that good\")"
      ],
      "execution_count": 1,
      "outputs": [
        {
          "output_type": "stream",
          "name": "stdout",
          "text": [
            "Enter the Temperature:99\n",
            "Not that good\n"
          ]
        }
      ]
    },
    {
      "cell_type": "markdown",
      "metadata": {
        "id": "u8WEYfEqIbWX"
      },
      "source": [
        "###Task: Check if the user feels happy\n",
        "\n",
        "You should ask the user \"Are you happy now?\".\n",
        "*   If the user enters \"Yes\", print \"Fantastic!\"\n",
        "*   otherwise, print \"How can I help?\""
      ]
    },
    {
      "cell_type": "code",
      "metadata": {
        "id": "LKSmcHRRJUYY",
        "colab": {
          "base_uri": "https://localhost:8080/"
        },
        "outputId": "c2f7e4f9-5300-4be5-d0f3-2bbf4f25fbbd"
      },
      "source": [
        "# type your code here\n",
        "happy = input(\"Are you happy now?\")\n",
        "if happy == \"Yes\":\n",
        "  print(\"Fantastic!\")\n",
        "else:\n",
        "  print(\"How can I help?\")"
      ],
      "execution_count": 3,
      "outputs": [
        {
          "output_type": "stream",
          "name": "stdout",
          "text": [
            "Are you happy now?No\n",
            "How can I help?\n"
          ]
        }
      ]
    },
    {
      "cell_type": "markdown",
      "metadata": {
        "id": "-__o8ovbfSEH"
      },
      "source": [
        "###Task: check if your plants need water\n",
        "\n",
        "You should ask the user to enter an integer indicating the level of moisture of the soil (from 1: super dry; to 10: super wet).\n",
        "\n",
        "*   If the level is below 3, print \"Yes, you should water your plants now\"\n",
        "*   otherwise, print \"No. Wait for the soil to be dryer\"."
      ]
    },
    {
      "cell_type": "code",
      "metadata": {
        "id": "hOpxhSKog18Y",
        "colab": {
          "base_uri": "https://localhost:8080/"
        },
        "outputId": "c35c280d-f29d-4dcb-e71e-fbc33946ee67"
      },
      "source": [
        "# your code will be here\n",
        "level = int(input(\"Enter the level of moisture of soil from 1: super dry; to 10: super wet\"))\n",
        "if level <3 :\n",
        "  print(\"Yes, you should water your plants now\")\n",
        "else:\n",
        "  print(\"No. Wait for the soil to be dryer\")"
      ],
      "execution_count": 4,
      "outputs": [
        {
          "output_type": "stream",
          "name": "stdout",
          "text": [
            "Enter the level of moisture of soil from 1: super dry; to 10: super wet5\n",
            "No. Wait for the soil to be dryer\n"
          ]
        }
      ]
    },
    {
      "cell_type": "markdown",
      "metadata": {
        "id": "8fGRh5FviHXB"
      },
      "source": [
        "###Task: check if a student finished Lab2\n",
        "\n",
        "At first, ask the user: \"Do you care about your learning outcome?\"\n",
        "\n",
        "*    If yes, ask the user \"Have your finished M3Lab2?\"\n",
        "**    if yes, print \"Good job!\"\n",
        "**    If no, print \"Get it done ASAP!!!!!!\"\n",
        "*    If no, then print \"As long as you are happy.\""
      ]
    },
    {
      "cell_type": "code",
      "metadata": {
        "id": "OSnp3ZYuiiUj",
        "colab": {
          "base_uri": "https://localhost:8080/"
        },
        "outputId": "df78a295-f5cf-409b-a7c8-4339be0c8c37"
      },
      "source": [
        "# your code will be here\n",
        "care = input(\"Do you care about your learning outcome :\")\n",
        "if care == \"yes\" :\n",
        "  m3Lab2 = input(\"Have your finished M3Lab2?\")\n",
        "  if m3Lab2 == \"yes\":\n",
        "    print(\"Good job!\")\n",
        "  else:\n",
        "    print(\"Get it done ASAP!!!!!!\")\n",
        "else:\n",
        "  print(\"As long as you are happy.\")"
      ],
      "execution_count": 5,
      "outputs": [
        {
          "output_type": "stream",
          "name": "stdout",
          "text": [
            "Do you care about your learning outcome :no\n",
            "As long as you are happy.\n"
          ]
        }
      ]
    }
  ]
}