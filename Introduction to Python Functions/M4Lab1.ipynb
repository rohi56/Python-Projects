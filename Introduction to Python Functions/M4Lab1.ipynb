{
  "nbformat": 4,
  "nbformat_minor": 0,
  "metadata": {
    "colab": {
      "provenance": [],
      "toc_visible": true
    },
    "kernelspec": {
      "name": "python3",
      "display_name": "Python 3"
    },
    "language_info": {
      "name": "python"
    }
  },
  "cells": [
    {
      "cell_type": "markdown",
      "metadata": {
        "id": "cnAUJprJdh9_"
      },
      "source": [
        "# Welcome to our Lab Practice!"
      ]
    },
    {
      "cell_type": "markdown",
      "metadata": {
        "id": "vVYcayGedmms"
      },
      "source": [
        "This lab is all about defining nested functions. Are you ready? Let's get started!"
      ]
    },
    {
      "cell_type": "markdown",
      "metadata": {
        "id": "JP8eGBVyeSQx"
      },
      "source": [
        "You will find some small tasks in sections below. After defining functions, call them to test."
      ]
    },
    {
      "cell_type": "markdown",
      "metadata": {
        "id": "D8pWdoN7d6Dy"
      },
      "source": [
        "## Define nestted functions."
      ]
    },
    {
      "cell_type": "markdown",
      "source": [
        "###Task: Calculator\n",
        "\n",
        "1.   Define a function that ask the user to input a number\n",
        "2.   Define a function that computes the sum of two numbers\n",
        "3.   Define a function that computes the substraction of two numbers\n",
        "4.   Define a function that computes the product of two numbers\n",
        "5.   Define a function that computes the division of two numbers\n",
        "6.   Define a function that print the arithmetic operation result of two numbers by calling functions defined above\n",
        "\n",
        "\n"
      ],
      "metadata": {
        "id": "TTqVA_ew48Sn"
      }
    },
    {
      "cell_type": "code",
      "source": [
        "def user_input():\n",
        "    x = int(input(\"Enter a number: \"))\n",
        "    return x\n",
        "\n",
        "def sum_of_two_numbers(x, y):\n",
        "    return x + y\n",
        "\n",
        "def subtraction_of_two_numbers(x, y):\n",
        "    return x - y\n",
        "\n",
        "def product_of_two_numbers(x, y):\n",
        "    return x * y\n",
        "\n",
        "def division_of_two_numbers(x, y):\n",
        "    if y != 0:\n",
        "        return x / y\n",
        "    else:\n",
        "        return \"Cannot divide by zero\"\n",
        "\n",
        "def arithmetic_operation_result(x, y):\n",
        "    print(\"Sum:\", sum_of_two_numbers(x, y))\n",
        "    print(\"Subtraction:\", subtraction_of_two_numbers(x, y))\n",
        "    print(\"Product:\", product_of_two_numbers(x, y))\n",
        "    print(\"Division:\", division_of_two_numbers(x, y))\n",
        "\n",
        "# Example usage\n",
        "x = user_input()\n",
        "y = user_input()\n",
        "arithmetic_operation_result(x, y)\n"
      ],
      "metadata": {
        "id": "4l8oECs25O26",
        "colab": {
          "base_uri": "https://localhost:8080/"
        },
        "outputId": "325d0561-4b48-4b7b-8cba-f553076fffe5"
      },
      "execution_count": 7,
      "outputs": [
        {
          "output_type": "stream",
          "name": "stdout",
          "text": [
            "Enter a number: 5\n",
            "Enter a number: 6\n",
            "Sum: 11\n",
            "Subtraction: -1\n",
            "Product: 30\n",
            "Division: 0.8333333333333334\n"
          ]
        }
      ]
    },
    {
      "cell_type": "markdown",
      "source": [
        "###Task: Statistics\n",
        "\n",
        "1.   Define a function that ask the user to input a number\n",
        "2.   Define a function that computes the min of three numbers\n",
        "3.   Define a function that computes the max of three numbers\n",
        "4.   Define a function that computes the total of three numbers\n",
        "5.   Define a function that computes the average of three numbers\n",
        "6.   Define a function that print the statistics of the three numbers by calling functions defineda bove"
      ],
      "metadata": {
        "id": "9hfJ0kha5G_A"
      }
    },
    {
      "cell_type": "code",
      "source": [
        "# your code will be here\n",
        "def user_input():\n",
        "    x = int(input(\"Enter x number: \"))\n",
        "    y = int(input(\"Enter y number: \"))\n",
        "    z = int(input(\"Enter z number: \"))\n",
        "    return x, y, z\n",
        "\n",
        "def min_value(x,y,z):\n",
        "    if x<y and x<z:\n",
        "        return x\n",
        "    elif y<x and y<z:\n",
        "        return y\n",
        "    else:\n",
        "        return z\n",
        "def max_value(x,y,z):\n",
        "    if x>y and x>z:\n",
        "      return x\n",
        "    elif y>x and y>z:\n",
        "      return y\n",
        "    else:\n",
        "      return z\n",
        "def total_value(x,y,z):\n",
        "    return x+y+z\n",
        "def average_value(x,y,z):\n",
        "    return total_value(x,y,z)/3\n",
        "\n",
        "def statistics(x,y,z):\n",
        "    print(\"Min value:\", min_value(x,y,z))\n",
        "    print(\"Max value:\", max_value(x,y,z))\n",
        "    print(\"Total value:\", total_value(x,y,z))\n",
        "    print(\"Average value:\", average_value(x,y,z))\n",
        "\n",
        "x,y,z = user_input()\n",
        "statistics(x,y,z)"
      ],
      "metadata": {
        "id": "qL379kld5PX0",
        "colab": {
          "base_uri": "https://localhost:8080/"
        },
        "outputId": "4165edc3-89ab-43e6-e541-60768062006e"
      },
      "execution_count": 12,
      "outputs": [
        {
          "output_type": "stream",
          "name": "stdout",
          "text": [
            "Enter x number: 5\n",
            "Enter y number: 8\n",
            "Enter z number: 10\n",
            "Min value: 5\n",
            "Max value: 10\n",
            "Total value: 23\n",
            "Average value: 7.666666666666667\n"
          ]
        }
      ]
    },
    {
      "cell_type": "markdown",
      "metadata": {
        "id": "rXgbUIBRgQoG"
      },
      "source": [
        "###Task: Simple Calculator\n",
        "\n",
        "\n",
        "1.   Define a function that increment an integer x by 1, x is a parameter\n",
        "2.   Define a function that decrement an integer x by 1, x is a parameter\n",
        "3.   Define a function that computes *x* $+$ *y* by using functions defined above, where x and y are parameters and you cannot directly use x $+$ y in your definition.\n",
        "4.   Define a function that computes *x* $-$ *y* by using functions defined above, where x and y are parameters and you cannot directly use x $-$ y in your definition.\n",
        "5.   Define a function that computes *x* $\\times$ *y* by using functions defined above, where x and y are parameters and you cannot directly use x * y in your definition.\n",
        "6.   Define a function that computes *x* $**$ *y* by using functios defined above, where x and y are parameters and you cannot directly use *x* $**$ *y* in your definition\n",
        "7.   Define a function that takes two arguments, x and y, and print the addition (x $+$ y), substraction(x $-$ y), product(x $\\times$ y), and exponent(x**y) of these two arguments"
      ]
    },
    {
      "cell_type": "code",
      "metadata": {
        "id": "oIKwmW2mfe3d",
        "colab": {
          "base_uri": "https://localhost:8080/"
        },
        "outputId": "acd0f7ae-244a-4aa9-bd5e-22a76e423609"
      },
      "source": [
        "# Your corrected code\n",
        "\n",
        "def increment(x):\n",
        "    return x + 1\n",
        "\n",
        "def decrement(x):\n",
        "    return x - 1\n",
        "\n",
        "def addition(x, y):\n",
        "    for i in range(y):\n",
        "        x = increment(x)\n",
        "    return x\n",
        "\n",
        "def subtraction(x, y):\n",
        "    for i in range(y):\n",
        "        x = decrement(x)\n",
        "    return x\n",
        "\n",
        "def product(x, y):\n",
        "    result = 0\n",
        "    for i in range(y):\n",
        "        for j in range(x):\n",
        "            result = increment(result)\n",
        "    return result\n",
        "\n",
        "def exponent(x, y):\n",
        "    result = 1\n",
        "    for i in range(y):\n",
        "        result = product(result, x)\n",
        "    return result\n",
        "\n",
        "def simple_calculator(x, y):\n",
        "    print(\"Addition:\", addition(x, y))\n",
        "    print(\"Subtraction:\", subtraction(x, y))\n",
        "    print(\"Product:\", product(x, y))\n",
        "    print(\"Exponent:\", exponent(x, y))\n",
        "\n",
        "# Taking input from the user\n",
        "x = int(input(\"Enter x number: \"))\n",
        "y = int(input(\"Enter y number: \"))\n",
        "simple_calculator(x, y)\n"
      ],
      "execution_count": 30,
      "outputs": [
        {
          "output_type": "stream",
          "name": "stdout",
          "text": [
            "Enter x number: 5\n",
            "Enter y number: 2\n",
            "Addition: 7\n",
            "Subtraction: 3\n",
            "Product: 10\n",
            "Exponent: 25\n"
          ]
        }
      ]
    }
  ]
}