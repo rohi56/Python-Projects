{
  "nbformat": 4,
  "nbformat_minor": 0,
  "metadata": {
    "colab": {
      "provenance": [],
      "toc_visible": true
    },
    "kernelspec": {
      "name": "python3",
      "display_name": "Python 3"
    },
    "language_info": {
      "name": "python"
    }
  },
  "cells": [
    {
      "cell_type": "markdown",
      "metadata": {
        "id": "cnAUJprJdh9_"
      },
      "source": [
        "# Welcome to our last Lab Practice!"
      ]
    },
    {
      "cell_type": "markdown",
      "metadata": {
        "id": "vVYcayGedmms"
      },
      "source": [
        "This lab is all about defining nested functions. Are you ready? Let's get started!"
      ]
    },
    {
      "cell_type": "markdown",
      "metadata": {
        "id": "JP8eGBVyeSQx"
      },
      "source": [
        "You will find some small tasks in sections below. After defining functions, call them to test."
      ]
    },
    {
      "cell_type": "markdown",
      "source": [
        "## Define recursive functions"
      ],
      "metadata": {
        "id": "qzuHvz8d6ICV"
      }
    },
    {
      "cell_type": "markdown",
      "source": [
        "###Task: define a recursive function to compute fibonacci series: $fib(0) = 0$, $fib(1) = 1$, $fib(n) = fib(n-1) + fib(n-2)$"
      ],
      "metadata": {
        "id": "h-mrQgK7RKqm"
      }
    },
    {
      "cell_type": "code",
      "source": [
        "# your code will be here\n",
        "def fib(n):\n",
        "  if n == 0:\n",
        "    return 0\n",
        "  elif n == 1:\n",
        "    return 1\n",
        "  else:\n",
        "    return fib(n-1) + fib(n-2)\n",
        "\n",
        "fib(5)"
      ],
      "metadata": {
        "id": "FR7idsVORX5_",
        "colab": {
          "base_uri": "https://localhost:8080/"
        },
        "outputId": "495599c9-199c-4138-82be-c0a8328afae4"
      },
      "execution_count": 1,
      "outputs": [
        {
          "output_type": "execute_result",
          "data": {
            "text/plain": [
              "5"
            ]
          },
          "metadata": {},
          "execution_count": 1
        }
      ]
    },
    {
      "cell_type": "markdown",
      "source": [
        "###Task: define a recursive function to compute the number of digits of a positive integer."
      ],
      "metadata": {
        "id": "DgJSW0_BBy1i"
      }
    },
    {
      "cell_type": "code",
      "source": [
        "# your code will be here\n",
        "def num_digits(n):\n",
        "  if n < 10:\n",
        "    return 1\n",
        "  else:\n",
        "    return 1 + num_digits(n//10)\n",
        "\n",
        "num_digits(12345)"
      ],
      "metadata": {
        "id": "Pw6KMzh9CGQb",
        "colab": {
          "base_uri": "https://localhost:8080/"
        },
        "outputId": "91d0cc80-d313-4150-dcff-de3bc5cb89c6"
      },
      "execution_count": 2,
      "outputs": [
        {
          "output_type": "execute_result",
          "data": {
            "text/plain": [
              "5"
            ]
          },
          "metadata": {},
          "execution_count": 2
        }
      ]
    },
    {
      "cell_type": "markdown",
      "source": [
        "### Task: define a function to check whether or not a string without special characters is palindrome.\n",
        "\n",
        "Definition: Palindrome is a word, phrase, or sequence that reads the same backward as forward.\n",
        "\n",
        "For example:\n",
        "*   '', 'a', 'ada', 'adda' are palindrome;\n",
        "*   'ab', 'abs' are not palindrome.\n",
        "\n",
        "We can assume the input string contains only A to Z and a to z, no other special characters, it might be empty, and an empty string is palindrome.\n",
        "\n",
        "Hint: The first character of the string *s* can be accessed by *s[0]* and the last character of the string *s* can be accessed by *s[-1]*.\n",
        "The substring without the first and last character of a string *s* can be obtained by *s[1:-1]*"
      ],
      "metadata": {
        "id": "0V2xXl_WuE_C"
      }
    },
    {
      "cell_type": "code",
      "source": [
        "# your code will be here\n",
        "def is_palindrome(s):\n",
        "  if len(s) <= 1:\n",
        "    return True\n",
        "  elif s[0] != s[-1]:\n",
        "    return False\n",
        "  else:\n",
        "    return is_palindrome(s[1:-1])\n",
        "\n",
        "is_palindrome('adda')"
      ],
      "metadata": {
        "id": "IWog-rcNwl47",
        "colab": {
          "base_uri": "https://localhost:8080/"
        },
        "outputId": "2a80ffb1-1526-4891-831f-d8baeede493f"
      },
      "execution_count": 3,
      "outputs": [
        {
          "output_type": "execute_result",
          "data": {
            "text/plain": [
              "True"
            ]
          },
          "metadata": {},
          "execution_count": 3
        }
      ]
    }
  ]
}