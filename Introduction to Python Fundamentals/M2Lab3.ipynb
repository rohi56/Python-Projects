{
  "nbformat": 4,
  "nbformat_minor": 0,
  "metadata": {
    "colab": {
      "provenance": [],
      "toc_visible": true
    },
    "kernelspec": {
      "name": "python3",
      "display_name": "Python 3"
    },
    "language_info": {
      "name": "python"
    }
  },
  "cells": [
    {
      "cell_type": "markdown",
      "metadata": {
        "id": "cnAUJprJdh9_"
      },
      "source": [
        "# Welcome to our Lab Practice!"
      ]
    },
    {
      "cell_type": "markdown",
      "metadata": {
        "id": "vVYcayGedmms"
      },
      "source": [
        "\n",
        "This lab is about logical and relational operations. Are you ready? Let's get started!"
      ]
    },
    {
      "cell_type": "markdown",
      "metadata": {
        "id": "JP8eGBVyeSQx"
      },
      "source": [
        "You will find some small tasks in sections below."
      ]
    },
    {
      "cell_type": "markdown",
      "metadata": {
        "id": "TNbXeCDFeAcJ"
      },
      "source": [
        "## Relational Operation\n",
        "\n",
        "In this section, you are going to code and run relational operations of two numbers.\n",
        "\n",
        "Hint: to print out the comparison, we can use the print() to print multiple values out.\n",
        "\n",
        "For example, `print(x, 'operator', y, 'is', x operator y)` for an operator."
      ]
    },
    {
      "cell_type": "markdown",
      "metadata": {
        "id": "hhAeaPrjTLRT"
      },
      "source": [
        "###Task: Get some comparisons.\n",
        "\n",
        "1.   Assign x with 2, y with 3.\n",
        "2.   print out the comparison and result of\n",
        "  1.   x > y\n",
        "  2.   x >= y\n",
        "  3.   x == y\n",
        "  4.   x <= y\n",
        "  5.   x < y\n",
        "  6.   x != y\n",
        "\n",
        "\n",
        "\n"
      ]
    },
    {
      "cell_type": "code",
      "metadata": {
        "id": "v4jLx-_gTIFA",
        "colab": {
          "base_uri": "https://localhost:8080/"
        },
        "outputId": "443b88ae-2e96-4fb1-c310-b75cd7a6f73c"
      },
      "source": [
        "# type your code here\n",
        "x=2\n",
        "y=3\n",
        "print(x, '>', y, 'is', x > y)\n",
        "print(x, '>=', y, 'is', x >= y)\n",
        "print(x, '==', y, 'is', x == y)\n",
        "print(x, '<=', y, 'is', x <= y)\n",
        "print(x, '<', y, 'is', x < y)\n",
        "print(x, '!=', y, 'is', x != y)"
      ],
      "execution_count": 1,
      "outputs": [
        {
          "output_type": "stream",
          "name": "stdout",
          "text": [
            "2 > 3 is False\n",
            "2 >= 3 is False\n",
            "2 == 3 is False\n",
            "2 <= 3 is True\n",
            "2 < 3 is True\n",
            "2 != 3 is True\n"
          ]
        }
      ]
    },
    {
      "cell_type": "markdown",
      "metadata": {
        "id": "EZ42d1Sue0Zp"
      },
      "source": [
        "###Task: More comparisons\n",
        "\n",
        "1.   Ask the user to enter an integer, convert and assign it to x;\n",
        "2.   Ask the user to enter another integer, convert and assign it to y;\n",
        "3.   print out the comparison and result of\n",
        "  1.   x > y\n",
        "  2.   x >= y\n",
        "  3.   x == y\n",
        "  4.   x <= y\n",
        "  5.   x < y\n",
        "  6.   x != y"
      ]
    },
    {
      "cell_type": "code",
      "metadata": {
        "id": "e4UI_UJpU-7q",
        "colab": {
          "base_uri": "https://localhost:8080/"
        },
        "outputId": "92710a3c-0a99-4a45-b05b-02dcf4dc8767"
      },
      "source": [
        "# type your code here\n",
        "x=int(input('Enter an integer: '))\n",
        "y=int(input('Enter another integer: '))\n",
        "print(x, '>', y, 'is', x > y)\n",
        "print(x, '>=', y, 'is', x >= y)\n",
        "print(x, '==', y, 'is', x == y)\n",
        "print(x, '<=', y, 'is', x <= y)\n",
        "print(x, '<', y, 'is', x < y)\n",
        "print(x, '!=', y, 'is', x != y)"
      ],
      "execution_count": 2,
      "outputs": [
        {
          "output_type": "stream",
          "name": "stdout",
          "text": [
            "Enter an integer: 5\n",
            "Enter another integer: 7\n",
            "5 > 7 is False\n",
            "5 >= 7 is False\n",
            "5 == 7 is False\n",
            "5 <= 7 is True\n",
            "5 < 7 is True\n",
            "5 != 7 is True\n"
          ]
        }
      ]
    },
    {
      "cell_type": "markdown",
      "metadata": {
        "id": "D8pWdoN7d6Dy"
      },
      "source": [
        "## Logical Operation\n",
        "\n",
        "In this section, you are going to code and run logical operations of two numbers.\n",
        "\n",
        "Hint: to print out the equation, we can use the print() to print multiple values out.\n",
        "\n",
        "For example, `print(x, 'operator', y, 'is', x operator y)` for an operator."
      ]
    },
    {
      "cell_type": "markdown",
      "metadata": {
        "id": "xDZeMhFteYjE"
      },
      "source": [
        "###Task: Get some computation.\n",
        "\n",
        "1.   Assign x with True, y with False.\n",
        "2.   print out the computation and result of\n",
        "  1.   x and x\n",
        "  2.   x and y\n",
        "  3.   y and x\n",
        "  4.   y and y\n",
        "  5.   x or x\n",
        "  6.   x or y\n",
        "  7.   y or x\n",
        "  8.   y or y\n",
        "  9.   not x\n",
        "  10.   not y\n",
        "\n",
        "\n",
        "\n"
      ]
    },
    {
      "cell_type": "code",
      "metadata": {
        "id": "yDzNIHsSeu85",
        "colab": {
          "base_uri": "https://localhost:8080/"
        },
        "outputId": "d92d3a94-281d-4351-f7a9-845defde85a4"
      },
      "source": [
        "# type your code here\n",
        "x = True\n",
        "y = False\n",
        "print('x and x', 'is', x and x)\n",
        "print('x and y', 'is', x and y)\n",
        "print('y and x', 'is', y and x)\n",
        "print('y and y', 'is', y and y)\n",
        "print('x or  x', 'is', x or x)\n",
        "print('x or  y', 'is', x or y)\n",
        "print('y or  x', 'is', y or x)\n",
        "print('y or  y', 'is', y or y)\n",
        "print('not x', 'is', not x)\n",
        "print('not y', 'is', not y)"
      ],
      "execution_count": 4,
      "outputs": [
        {
          "output_type": "stream",
          "name": "stdout",
          "text": [
            "x and x is True\n",
            "x and y is False\n",
            "y and x is False\n",
            "y and y is False\n",
            "x or  x is True\n",
            "x or  y is True\n",
            "y or  x is True\n",
            "y or  y is False\n",
            "not x is False\n",
            "not y is True\n"
          ]
        }
      ]
    }
  ]
}