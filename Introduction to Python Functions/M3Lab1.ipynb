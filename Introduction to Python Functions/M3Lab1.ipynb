{
  "nbformat": 4,
  "nbformat_minor": 0,
  "metadata": {
    "colab": {
      "provenance": [],
      "toc_visible": true
    },
    "kernelspec": {
      "name": "python3",
      "display_name": "Python 3"
    },
    "language_info": {
      "name": "python"
    }
  },
  "cells": [
    {
      "cell_type": "markdown",
      "metadata": {
        "id": "cnAUJprJdh9_"
      },
      "source": [
        "# Welcome to our third Lab Practice!"
      ]
    },
    {
      "cell_type": "markdown",
      "metadata": {
        "id": "vVYcayGedmms"
      },
      "source": [
        "This lab is all about defining functions with return values. Are you ready? Let's get started!"
      ]
    },
    {
      "cell_type": "markdown",
      "metadata": {
        "id": "JP8eGBVyeSQx"
      },
      "source": [
        "You will find some small tasks in sections below. After defining functions, call them to test."
      ]
    },
    {
      "cell_type": "markdown",
      "metadata": {
        "id": "D8pWdoN7d6Dy"
      },
      "source": [
        "## Define functions with return numeric values."
      ]
    },
    {
      "cell_type": "markdown",
      "source": [
        "###Task: define a function that return the absolute value of *n*, where *n* is a parameter"
      ],
      "metadata": {
        "id": "TTqVA_ew48Sn"
      }
    },
    {
      "cell_type": "code",
      "source": [
        "# your code will be here\n",
        "def absolute(n):\n",
        "  if n >= 0:\n",
        "    return n\n",
        "  else:\n",
        "    return -n\n",
        "\n",
        "absolute(-5)"
      ],
      "metadata": {
        "id": "4l8oECs25O26",
        "colab": {
          "base_uri": "https://localhost:8080/"
        },
        "outputId": "4475c722-2afd-4aef-bf48-8b1f0cebfc96"
      },
      "execution_count": 2,
      "outputs": [
        {
          "output_type": "execute_result",
          "data": {
            "text/plain": [
              "5"
            ]
          },
          "metadata": {},
          "execution_count": 2
        }
      ]
    },
    {
      "cell_type": "markdown",
      "source": [
        "###Task: define a function that return the product value of *n* and *m*, where *n, m* are parameters"
      ],
      "metadata": {
        "id": "9hfJ0kha5G_A"
      }
    },
    {
      "cell_type": "code",
      "source": [
        "# your code will be here\n",
        "def product(n, m):\n",
        "  return n * m\n",
        "\n",
        "product(2, 3)"
      ],
      "metadata": {
        "id": "qL379kld5PX0",
        "colab": {
          "base_uri": "https://localhost:8080/"
        },
        "outputId": "58215fbf-ad2d-4baf-984b-dd8078edab2c"
      },
      "execution_count": 3,
      "outputs": [
        {
          "output_type": "execute_result",
          "data": {
            "text/plain": [
              "6"
            ]
          },
          "metadata": {},
          "execution_count": 3
        }
      ]
    },
    {
      "cell_type": "markdown",
      "source": [
        "###Task: define a function that return the result of raise *n* to the power of *m*, where *n, m* are parameters"
      ],
      "metadata": {
        "id": "OMTGtjW15P17"
      }
    },
    {
      "cell_type": "code",
      "source": [
        "# your code will be here\n",
        "def power(n, m):\n",
        "  return n ** m\n",
        "\n",
        "power(2, 3)"
      ],
      "metadata": {
        "id": "DgxIaShR5XTE",
        "colab": {
          "base_uri": "https://localhost:8080/"
        },
        "outputId": "3801687f-c457-4ec6-f4d5-bb7ff7739414"
      },
      "execution_count": 4,
      "outputs": [
        {
          "output_type": "execute_result",
          "data": {
            "text/plain": [
              "8"
            ]
          },
          "metadata": {},
          "execution_count": 4
        }
      ]
    },
    {
      "cell_type": "markdown",
      "source": [
        "###Task: define a function that return the average of three numbers, *x, y, z*, where *x, y, z* are parameters"
      ],
      "metadata": {
        "id": "tsRyQIt65f2J"
      }
    },
    {
      "cell_type": "code",
      "source": [
        "# your code will be here\n",
        "def average(x, y, z):\n",
        "  return (x + y + z) / 3\n",
        "\n",
        "average(1, 2, 3)"
      ],
      "metadata": {
        "id": "_eG8Xzde5ruo",
        "colab": {
          "base_uri": "https://localhost:8080/"
        },
        "outputId": "da63cb84-944a-4520-fa74-5a9704ac55af"
      },
      "execution_count": 5,
      "outputs": [
        {
          "output_type": "execute_result",
          "data": {
            "text/plain": [
              "2.0"
            ]
          },
          "metadata": {},
          "execution_count": 5
        }
      ]
    },
    {
      "cell_type": "markdown",
      "source": [
        "###Task: define a function that return the minimal of three numbers, *x, y, z*, where *x, y, z* are parameters"
      ],
      "metadata": {
        "id": "TQZ68OBs5amt"
      }
    },
    {
      "cell_type": "code",
      "source": [
        "# your code will be here\n",
        "def minimum(x, y, z):\n",
        "  return min(x, y, z)\n",
        "\n",
        "minimum(1, 2, 3)"
      ],
      "metadata": {
        "id": "47f7Q_AIRMUW",
        "colab": {
          "base_uri": "https://localhost:8080/"
        },
        "outputId": "4cbe6f83-b1d5-4b3d-8191-f25fe34333cb"
      },
      "execution_count": 6,
      "outputs": [
        {
          "output_type": "execute_result",
          "data": {
            "text/plain": [
              "1"
            ]
          },
          "metadata": {},
          "execution_count": 6
        }
      ]
    },
    {
      "cell_type": "markdown",
      "source": [
        "###Task: define a function that print sum of integers 1 to *n* (hint: you can use a for loop), where *n* is a parameter"
      ],
      "metadata": {
        "id": "1y6noqXNRMpG"
      }
    },
    {
      "cell_type": "code",
      "source": [
        "# your code will be here\n",
        "def sum_to_n(n):\n",
        "  sum = 0\n",
        "  for i in range(1, n + 1):\n",
        "    sum += i\n",
        "  return sum\n",
        "\n",
        "sum_to_n(10)"
      ],
      "metadata": {
        "id": "J6RMucgP54b-",
        "colab": {
          "base_uri": "https://localhost:8080/"
        },
        "outputId": "0327ea56-4a2c-484e-db20-9d8fbca7bc0f"
      },
      "execution_count": 7,
      "outputs": [
        {
          "output_type": "execute_result",
          "data": {
            "text/plain": [
              "55"
            ]
          },
          "metadata": {},
          "execution_count": 7
        }
      ]
    },
    {
      "cell_type": "markdown",
      "source": [
        "## Define functions with return str values."
      ],
      "metadata": {
        "id": "qzuHvz8d6ICV"
      }
    },
    {
      "cell_type": "markdown",
      "metadata": {
        "id": "rXgbUIBRgQoG"
      },
      "source": [
        "###Task: define a function that return \"hello, *name*\" where *name* is a parameter"
      ]
    },
    {
      "cell_type": "code",
      "metadata": {
        "id": "oIKwmW2mfe3d",
        "colab": {
          "base_uri": "https://localhost:8080/",
          "height": 35
        },
        "outputId": "cc7be212-769d-4843-dbc4-c0ce2a6969ee"
      },
      "source": [
        "# your code will be here\n",
        "def hello(name):\n",
        "  return \"hello, \" + name\n",
        "\n",
        "hello(\"John\")"
      ],
      "execution_count": 8,
      "outputs": [
        {
          "output_type": "execute_result",
          "data": {
            "text/plain": [
              "'hello, John'"
            ],
            "application/vnd.google.colaboratory.intrinsic+json": {
              "type": "string"
            }
          },
          "metadata": {},
          "execution_count": 8
        }
      ]
    },
    {
      "cell_type": "markdown",
      "source": [
        "###Task: define a function that return \"hello world\" *n* times, where *n* is a parameter"
      ],
      "metadata": {
        "id": "h-mrQgK7RKqm"
      }
    },
    {
      "cell_type": "code",
      "source": [
        "# your code will be here\n",
        "def hello_world(n):\n",
        "  return \"hello world\\n\" * n\n",
        "\n",
        "print(hello_world(3))"
      ],
      "metadata": {
        "id": "FR7idsVORX5_",
        "colab": {
          "base_uri": "https://localhost:8080/"
        },
        "outputId": "3acb86e0-1678-45cd-c91d-83d949310891"
      },
      "execution_count": 11,
      "outputs": [
        {
          "output_type": "stream",
          "name": "stdout",
          "text": [
            "hello world\n",
            "hello world\n",
            "hello world\n",
            "\n"
          ]
        }
      ]
    },
    {
      "cell_type": "markdown",
      "source": [
        "###Task: define a function that concatenate message 1 and message 2 together and return it"
      ],
      "metadata": {
        "id": "OoTXs3WERYju"
      }
    },
    {
      "cell_type": "code",
      "source": [
        "# your code will be here\n",
        "def concatenate(message1, message2):\n",
        "  return message1 + message2\n",
        "\n",
        "concatenate(\"hello\", \"world\")"
      ],
      "metadata": {
        "id": "2pS4qJ54RhKf",
        "colab": {
          "base_uri": "https://localhost:8080/",
          "height": 35
        },
        "outputId": "35b60a37-66bf-4bbf-e495-da99efa1bcab"
      },
      "execution_count": 12,
      "outputs": [
        {
          "output_type": "execute_result",
          "data": {
            "text/plain": [
              "'helloworld'"
            ],
            "application/vnd.google.colaboratory.intrinsic+json": {
              "type": "string"
            }
          },
          "metadata": {},
          "execution_count": 12
        }
      ]
    },
    {
      "cell_type": "markdown",
      "source": [
        "## Define functions with return boolean values."
      ],
      "metadata": {
        "id": "IczuyqDQ6bQG"
      }
    },
    {
      "cell_type": "markdown",
      "source": [
        "###Task: define a function that return the boolean value for given *n* is even or not, *n* is a parameter"
      ],
      "metadata": {
        "id": "yU8y7mCoRmRH"
      }
    },
    {
      "cell_type": "code",
      "source": [
        "# your code will be here\n",
        "def is_even(n):\n",
        "  return n % 2 == 0\n",
        "\n",
        "is_even(3)"
      ],
      "metadata": {
        "id": "g67KsRe3R2KG",
        "colab": {
          "base_uri": "https://localhost:8080/"
        },
        "outputId": "8f0cb8c8-bb0c-4232-da35-a0bc02bec7f2"
      },
      "execution_count": 14,
      "outputs": [
        {
          "output_type": "execute_result",
          "data": {
            "text/plain": [
              "False"
            ]
          },
          "metadata": {},
          "execution_count": 14
        }
      ]
    },
    {
      "cell_type": "markdown",
      "metadata": {
        "id": "QPoCScdkheK3"
      },
      "source": [
        "###Task: define a function that return the boolean value for given *n* is odd or not, *n* is a parameter"
      ]
    },
    {
      "cell_type": "code",
      "metadata": {
        "id": "tsFowDAKhJCB",
        "colab": {
          "base_uri": "https://localhost:8080/"
        },
        "outputId": "63548cf5-4af2-42cc-b7b6-2f467f044bd3"
      },
      "source": [
        "# your code will be here\n",
        "def is_odd(n):\n",
        "  return not is_even(n)\n",
        "\n",
        "is_odd(3)"
      ],
      "execution_count": 15,
      "outputs": [
        {
          "output_type": "execute_result",
          "data": {
            "text/plain": [
              "True"
            ]
          },
          "metadata": {},
          "execution_count": 15
        }
      ]
    },
    {
      "cell_type": "markdown",
      "source": [
        "###Task: define a function that return the boolean value for given *n* is prime number or not, *n* is a parameter"
      ],
      "metadata": {
        "id": "OhfIcNFH6oV2"
      }
    },
    {
      "cell_type": "code",
      "source": [
        "# your code will be here\n",
        "def is_prime(n):\n",
        "  for i in range(2, n):\n",
        "    if n % i == 0:\n",
        "      return False\n",
        "  return True\n",
        "\n",
        "is_prime(13)"
      ],
      "metadata": {
        "id": "dUOiwszHhsEN",
        "colab": {
          "base_uri": "https://localhost:8080/"
        },
        "outputId": "81ad8de8-cd63-4bd6-be67-c46c893effb0"
      },
      "execution_count": 16,
      "outputs": [
        {
          "output_type": "execute_result",
          "data": {
            "text/plain": [
              "True"
            ]
          },
          "metadata": {},
          "execution_count": 16
        }
      ]
    },
    {
      "cell_type": "markdown",
      "source": [
        "###Task: define a function that return the boolean value for given *n* is positive (>0) or not, *n* is a parameter"
      ],
      "metadata": {
        "id": "KgwXzV3x6quL"
      }
    },
    {
      "cell_type": "code",
      "source": [
        "# your code will be here\n",
        "def is_positive(n):\n",
        "  return n > 0\n",
        "\n",
        "is_positive(3)"
      ],
      "metadata": {
        "id": "-lVtxeAmhv9t",
        "colab": {
          "base_uri": "https://localhost:8080/"
        },
        "outputId": "238d0bfe-0d6d-4d25-987d-0840080c15ae"
      },
      "execution_count": 17,
      "outputs": [
        {
          "output_type": "execute_result",
          "data": {
            "text/plain": [
              "True"
            ]
          },
          "metadata": {},
          "execution_count": 17
        }
      ]
    },
    {
      "cell_type": "markdown",
      "metadata": {
        "id": "TE6Df1WYhu10"
      },
      "source": [
        "###Task: define a function that return the boolean value for whether or not given *n* is divisible by 6, *n* is a parameter"
      ]
    },
    {
      "cell_type": "code",
      "metadata": {
        "id": "MSjQbhNXhJVV",
        "colab": {
          "base_uri": "https://localhost:8080/"
        },
        "outputId": "913b9c3d-76e8-4873-f2dc-d71e9bd1e653"
      },
      "source": [
        "# your code will be here\n",
        "def is_divisible_by_6(n):\n",
        "  return n % 6 == 0\n",
        "\n",
        "is_divisible_by_6(12)"
      ],
      "execution_count": 18,
      "outputs": [
        {
          "output_type": "execute_result",
          "data": {
            "text/plain": [
              "True"
            ]
          },
          "metadata": {},
          "execution_count": 18
        }
      ]
    },
    {
      "cell_type": "markdown",
      "source": [
        "## Define functions return multiple values."
      ],
      "metadata": {
        "id": "AIZ2bTqjfjxf"
      }
    },
    {
      "cell_type": "markdown",
      "source": [
        "###Task: define a function that return the min, max, avg, and total of given 3 numbers *x, y, z*, where *x, y, z* are parameters"
      ],
      "metadata": {
        "id": "MBpHkOhIfmrY"
      }
    },
    {
      "cell_type": "code",
      "source": [
        "# your code will be here\n",
        "def fun(x,y,z):\n",
        "  return min(x,y,z), max(x,y,z), (x+y+z)/3\n",
        "\n",
        "min_value, max_value, avg_value = fun(1,2,3)\n",
        "print(min_value, max_value, avg_value)"
      ],
      "metadata": {
        "id": "Orw6NIIef0Wp",
        "colab": {
          "base_uri": "https://localhost:8080/"
        },
        "outputId": "5a7a36fd-f2ea-4bf2-d804-c85aa4d38ab7"
      },
      "execution_count": 19,
      "outputs": [
        {
          "output_type": "stream",
          "name": "stdout",
          "text": [
            "1 3 2.0\n"
          ]
        }
      ]
    }
  ]
}